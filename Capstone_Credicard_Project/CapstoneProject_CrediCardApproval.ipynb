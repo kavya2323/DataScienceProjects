{
  "nbformat": 4,
  "nbformat_minor": 0,
  "metadata": {
    "colab": {
      "provenance": []
    },
    "kernelspec": {
      "name": "python3",
      "display_name": "Python 3"
    },
    "language_info": {
      "name": "python"
    }
  },
  "cells": [
    {
      "cell_type": "markdown",
      "source": [
        "**Project Introduction**"
      ],
      "metadata": {
        "id": "TKGYc0izVWqE"
      }
    },
    {
      "cell_type": "markdown",
      "source": [
        "Predict credit card approval: There are two datasets, One is credit_card and another one is Credit_CardLabel. In credit card table have areounf 1548 rows of credit information and label have two columns with 1548 rows of data.\n"
      ],
      "metadata": {
        "id": "PB2DsSbTVjyu"
      }
    },
    {
      "cell_type": "markdown",
      "source": [
        "Aim of the project is to analyse predict credit card approval using Ml and DA."
      ],
      "metadata": {
        "id": "1vdgxIT8WKsE"
      }
    },
    {
      "cell_type": "markdown",
      "source": [
        "**Why is your proposal important in today’s world.?**\n",
        "\n",
        "A project proposal is important in today’s world because the document that describes a proposed project and its purpose, outcomes, and the steps that will be taken to complete the project. \n",
        "The project contract is the formal agreement between two parties to complete a project, a project proposal’s purpose is to communicate how a company, team, or individual plan to approach a project.  \n",
        "It should also set expectations, detail budget and timeline, as well as set expectations for what delivery would look like.\n",
        "**How predicting a good client is worthy for a bank.?**\n",
        "During that initial contact, there are certain things you can look out for. Subtle cues and signals that reveal just the type of fantastic client you're on the verge of sealing the deal with. And because this type is rare, it's important to spot them immediately, so you can convince them to work with you, and no one else.\n",
        "We need to look out for the following healthy signs – signs that will tell you whether a potential client is worth the time and investment. Keep the following checklist in mind when you next meet someone, because time is money in this game. And you'll want to ensure you don't waste a moment:\n",
        "1. They make an effort to come to you: You've won them over during that initial chat on the phone. Now they want to meet you. If they make an effort to come to you – that's a great sign. If they compromise and meet you halfway – brilliant. However, if you want their business, and they're going to be spending money with you – sure, you need to make an effort. The best clients have always been the ones who also consider my needs.\n",
        "2. They say 'please' and 'thank you': Some people have dealt with have never thanked me for my advice. You know the type. You have at least three phone calls, one meeting and various emails before you make things 'official' – and not once do they show any gratitude.\n",
        "The sad thing is – you care, and you want to show you care. But this type of client doesn't appreciate that. Look out for whether they use 'please' and 'thank you' – because a great client will be polite, grateful and respectful of your time.\n",
        "3. You instantly get on with them: Nothing beats instant rapport with a prospective client. If you're having a laugh and understanding each other, then you should take this as a healthy sign. I remember a nice chap called Andy coming to visit me when I ran my business in a small Cheshire town. He was establishing his architectural firm and needed some PR support. As soon as he walked through the door, I just knew he was a good egg. We're still in touch, and it's great to see his business doing so well.\n",
        "4. They talk amicably about other customers (instead of the opposite): If a client is complaining about current customers, that's worrying. Yes, it might be good news because you could take over the work. But listen to what they're saying, read between the lines, and you can gain a good understanding of what this potential client might be like. If they're whinging about not being looked after, for example, it could be that they're a nightmare to deal with – and have high expectations that are impossible to meet.\n",
        "However, if a client talks amicably about other customers – that's a good sign they're going to be great to work with. Especially if those customers are also friends and they've been loyal to them for many years.\n",
        "5. They get excited about your ideas: There's nothing more beautiful than meeting a potential client and getting excited about how you can help them. But it's a cherry on top if the client gets excited too. If they're eager to hear your ideas, that's brilliant. If they're turning their nose up at everything you suggest, it's not a good sign. Why hire you if they think they know better? You're going to be fighting a losing battle from the very start.\n",
        "6. They don't expect miracles:If they're realistic and have expectations, you can meet, that's fantastic. You don't want someone who expects miracles. Instead, you want a rational client who appreciates you haven't got a magic wand but will do your best to solve some of their problems.\n",
        "7. They've got a sense of humour: Are they a good laugh? Or do they take themselves too seriously? Business is about people. If the potential client is difficult to get on with, are they going to be a good fit for you? Clients who have a sense of humour are the best type of all. They'll see the funny side when things go wrong, and be much easier to work with.\n",
        "8. They ask about payment, in a good way: A decent client will always care about your business, and won't hesitate to ask how much they need to pay you, and how you like to be paid. As a bonus, they might also express that they'll pay on time or upfront. They certainly won't pull a face when you talk about money. Be very wary of clients who think 'money' is a dirty word.\n",
        "9. They give you time and space to pull together a quote: A great client isn't over-demanding. They understand you're busy and need time to pull together a quote for their business. They don't have an ego. They appreciate you have other clients. They also won't chase and chase, giving you essential space to think carefully about your offer.\n",
        "10. They don't push you down on the price: It's the biggest insult of all when clients question your costs. Ok, they have a bank to run – but so do you. You've given your best price, so why are they fighting you at the final hurdle? Don't be completely unmovable. Provide a discount – but only after you've considered the bigger picture. Will the client be easy to work with? Could this project lead to bigger and better things? Have you a full scope of the work involved? Do you think you can stick to the budget? One way to avoid discounts is to offer a higher rate, then expect to be pushed down on price. That way, you get roughly what you originally wanted, and the client thinks they're getting a good deal. Which they are because you were never really expensive in the first place.\n",
        "\n",
        "**How is it going to impact the banking sector?** \n",
        "If we are not choosing the worthy client that we lose satisfaction level of banking customers regarding quality of different services provided by their bank and their loyalty with the respective bank. \n",
        "\n",
        "\n",
        "**If any, what is the gap in the knowledge or how your proposed method can be helpful if required in future for any bank in India.?**\n",
        "One of the significant benefits of ML and data-driven methods is that they can help banks to better understand their customers' behaviour and preferences. By analysing customer data, banks can identify patterns and trends that can inform their business strategies and decision-making. For example, they can use predictive analytics to anticipate customer needs and preferences, which can help them to design more effective marketing campaigns and improve customer engagement.\n",
        "AI and machine learning can also be used to enhance fraud detection and prevention in banking operations. By analysing large volumes of transactional data, banks can identify patterns and anomalies that may indicate fraudulent activity. This can help them to prevent financial losses and protect their customers' assets.\n",
        "Another area where AI can be helpful for banks is in automating their internal processes, such as loan approvals and risk assessments. By using machine learning algorithms, banks can analyse customer data and credit scores more efficiently and accurately, leading to faster loan processing times and better risk management."
      ],
      "metadata": {
        "id": "1jbFaMV9VT05"
      }
    },
    {
      "cell_type": "markdown",
      "source": [
        "Import supporting libraries to project "
      ],
      "metadata": {
        "id": "yNF_ZHnY7CR6"
      }
    },
    {
      "cell_type": "code",
      "source": [
        "import pandas as pd\n",
        "import numpy as np\n",
        "import matplotlib.pyplot as plt\n",
        "import seaborn as sns\n",
        "import plotly.express as px\n",
        "from scipy import stats\n",
        "import glob\n",
        "import random\n",
        "import datetime\n",
        "### To ignore warnings\n",
        "import warnings \n",
        "warnings.filterwarnings('ignore')\n",
        "\n",
        "### Machine Learning  and supporting libraries\n",
        "from sklearn.model_selection import train_test_split\n",
        "from sklearn.preprocessing import StandardScaler\n",
        "from imblearn.under_sampling import RandomUnderSampler\n",
        "from collections import Counter\n",
        "from sklearn.linear_model import LogisticRegression\n",
        "from sklearn import svm\n",
        "from sklearn.neighbors import KNeighborsClassifier\n",
        "from sklearn.tree import DecisionTreeClassifier\n",
        "from sklearn.ensemble import RandomForestClassifier\n",
        "from xgboost import XGBClassifier\n",
        "from sklearn.metrics import confusion_matrix, accuracy_score, precision_score, recall_score, fbeta_score\n",
        "from sklearn import metrics\n",
        "from sklearn.model_selection import GridSearchCV"
      ],
      "metadata": {
        "id": "ROVtJ2Bpo5sN"
      },
      "execution_count": 6,
      "outputs": []
    },
    {
      "cell_type": "markdown",
      "source": [
        "Importing data from csv files"
      ],
      "metadata": {
        "id": "edcwevL969Xx"
      }
    },
    {
      "cell_type": "code",
      "source": [
        "credit_df =pd.read_csv(\"/content/Credit_card.csv\")#reading url dataset\n",
        "label_df  = pd.read_csv(\"/content/Credit_card_label.csv\")#reading url dataset"
      ],
      "metadata": {
        "id": "MhWrelqs6wgq"
      },
      "execution_count": 9,
      "outputs": []
    },
    {
      "cell_type": "markdown",
      "source": [
        "# New Section"
      ],
      "metadata": {
        "id": "LWEJFgVsEX6Z"
      }
    },
    {
      "cell_type": "markdown",
      "source": [
        "**Merging two datasets**"
      ],
      "metadata": {
        "id": "dchX55nRBfTp"
      }
    },
    {
      "cell_type": "code",
      "source": [
        "df = label_df.merge(credit_df, how='inner', on=['Ind_ID'])\n",
        "df.head()"
      ],
      "metadata": {
        "colab": {
          "base_uri": "https://localhost:8080/",
          "height": 357
        },
        "id": "4QO1fVrt2-ID",
        "outputId": "bec6f40e-7b4a-48eb-9bb5-896560738ced"
      },
      "execution_count": 10,
      "outputs": [
        {
          "output_type": "execute_result",
          "data": {
            "text/plain": [
              "    Ind_ID  label GENDER Car_Owner Propert_Owner  CHILDREN  Annual_income  \\\n",
              "0  5008827      1      M         Y             Y         0       180000.0   \n",
              "1  5009744      1      F         Y             N         0       315000.0   \n",
              "2  5009746      1      F         Y             N         0       315000.0   \n",
              "3  5009749      1      F         Y             N         0            NaN   \n",
              "4  5009752      1      F         Y             N         0       315000.0   \n",
              "\n",
              "            Type_Income         EDUCATION Marital_status       Housing_type  \\\n",
              "0             Pensioner  Higher education        Married  House / apartment   \n",
              "1  Commercial associate  Higher education        Married  House / apartment   \n",
              "2  Commercial associate  Higher education        Married  House / apartment   \n",
              "3  Commercial associate  Higher education        Married  House / apartment   \n",
              "4  Commercial associate  Higher education        Married  House / apartment   \n",
              "\n",
              "   Birthday_count  Employed_days  Mobile_phone  Work_Phone  Phone  EMAIL_ID  \\\n",
              "0        -18772.0         365243             1           0      0         0   \n",
              "1        -13557.0           -586             1           1      1         0   \n",
              "2             NaN           -586             1           1      1         0   \n",
              "3        -13557.0           -586             1           1      1         0   \n",
              "4        -13557.0           -586             1           1      1         0   \n",
              "\n",
              "  Type_Occupation  Family_Members  \n",
              "0             NaN               2  \n",
              "1             NaN               2  \n",
              "2             NaN               2  \n",
              "3             NaN               2  \n",
              "4             NaN               2  "
            ],
            "text/html": [
              "\n",
              "  <div id=\"df-aaca8f1c-2e29-4b5f-a7b5-0cdf1d67182d\">\n",
              "    <div class=\"colab-df-container\">\n",
              "      <div>\n",
              "<style scoped>\n",
              "    .dataframe tbody tr th:only-of-type {\n",
              "        vertical-align: middle;\n",
              "    }\n",
              "\n",
              "    .dataframe tbody tr th {\n",
              "        vertical-align: top;\n",
              "    }\n",
              "\n",
              "    .dataframe thead th {\n",
              "        text-align: right;\n",
              "    }\n",
              "</style>\n",
              "<table border=\"1\" class=\"dataframe\">\n",
              "  <thead>\n",
              "    <tr style=\"text-align: right;\">\n",
              "      <th></th>\n",
              "      <th>Ind_ID</th>\n",
              "      <th>label</th>\n",
              "      <th>GENDER</th>\n",
              "      <th>Car_Owner</th>\n",
              "      <th>Propert_Owner</th>\n",
              "      <th>CHILDREN</th>\n",
              "      <th>Annual_income</th>\n",
              "      <th>Type_Income</th>\n",
              "      <th>EDUCATION</th>\n",
              "      <th>Marital_status</th>\n",
              "      <th>Housing_type</th>\n",
              "      <th>Birthday_count</th>\n",
              "      <th>Employed_days</th>\n",
              "      <th>Mobile_phone</th>\n",
              "      <th>Work_Phone</th>\n",
              "      <th>Phone</th>\n",
              "      <th>EMAIL_ID</th>\n",
              "      <th>Type_Occupation</th>\n",
              "      <th>Family_Members</th>\n",
              "    </tr>\n",
              "  </thead>\n",
              "  <tbody>\n",
              "    <tr>\n",
              "      <th>0</th>\n",
              "      <td>5008827</td>\n",
              "      <td>1</td>\n",
              "      <td>M</td>\n",
              "      <td>Y</td>\n",
              "      <td>Y</td>\n",
              "      <td>0</td>\n",
              "      <td>180000.0</td>\n",
              "      <td>Pensioner</td>\n",
              "      <td>Higher education</td>\n",
              "      <td>Married</td>\n",
              "      <td>House / apartment</td>\n",
              "      <td>-18772.0</td>\n",
              "      <td>365243</td>\n",
              "      <td>1</td>\n",
              "      <td>0</td>\n",
              "      <td>0</td>\n",
              "      <td>0</td>\n",
              "      <td>NaN</td>\n",
              "      <td>2</td>\n",
              "    </tr>\n",
              "    <tr>\n",
              "      <th>1</th>\n",
              "      <td>5009744</td>\n",
              "      <td>1</td>\n",
              "      <td>F</td>\n",
              "      <td>Y</td>\n",
              "      <td>N</td>\n",
              "      <td>0</td>\n",
              "      <td>315000.0</td>\n",
              "      <td>Commercial associate</td>\n",
              "      <td>Higher education</td>\n",
              "      <td>Married</td>\n",
              "      <td>House / apartment</td>\n",
              "      <td>-13557.0</td>\n",
              "      <td>-586</td>\n",
              "      <td>1</td>\n",
              "      <td>1</td>\n",
              "      <td>1</td>\n",
              "      <td>0</td>\n",
              "      <td>NaN</td>\n",
              "      <td>2</td>\n",
              "    </tr>\n",
              "    <tr>\n",
              "      <th>2</th>\n",
              "      <td>5009746</td>\n",
              "      <td>1</td>\n",
              "      <td>F</td>\n",
              "      <td>Y</td>\n",
              "      <td>N</td>\n",
              "      <td>0</td>\n",
              "      <td>315000.0</td>\n",
              "      <td>Commercial associate</td>\n",
              "      <td>Higher education</td>\n",
              "      <td>Married</td>\n",
              "      <td>House / apartment</td>\n",
              "      <td>NaN</td>\n",
              "      <td>-586</td>\n",
              "      <td>1</td>\n",
              "      <td>1</td>\n",
              "      <td>1</td>\n",
              "      <td>0</td>\n",
              "      <td>NaN</td>\n",
              "      <td>2</td>\n",
              "    </tr>\n",
              "    <tr>\n",
              "      <th>3</th>\n",
              "      <td>5009749</td>\n",
              "      <td>1</td>\n",
              "      <td>F</td>\n",
              "      <td>Y</td>\n",
              "      <td>N</td>\n",
              "      <td>0</td>\n",
              "      <td>NaN</td>\n",
              "      <td>Commercial associate</td>\n",
              "      <td>Higher education</td>\n",
              "      <td>Married</td>\n",
              "      <td>House / apartment</td>\n",
              "      <td>-13557.0</td>\n",
              "      <td>-586</td>\n",
              "      <td>1</td>\n",
              "      <td>1</td>\n",
              "      <td>1</td>\n",
              "      <td>0</td>\n",
              "      <td>NaN</td>\n",
              "      <td>2</td>\n",
              "    </tr>\n",
              "    <tr>\n",
              "      <th>4</th>\n",
              "      <td>5009752</td>\n",
              "      <td>1</td>\n",
              "      <td>F</td>\n",
              "      <td>Y</td>\n",
              "      <td>N</td>\n",
              "      <td>0</td>\n",
              "      <td>315000.0</td>\n",
              "      <td>Commercial associate</td>\n",
              "      <td>Higher education</td>\n",
              "      <td>Married</td>\n",
              "      <td>House / apartment</td>\n",
              "      <td>-13557.0</td>\n",
              "      <td>-586</td>\n",
              "      <td>1</td>\n",
              "      <td>1</td>\n",
              "      <td>1</td>\n",
              "      <td>0</td>\n",
              "      <td>NaN</td>\n",
              "      <td>2</td>\n",
              "    </tr>\n",
              "  </tbody>\n",
              "</table>\n",
              "</div>\n",
              "      <button class=\"colab-df-convert\" onclick=\"convertToInteractive('df-aaca8f1c-2e29-4b5f-a7b5-0cdf1d67182d')\"\n",
              "              title=\"Convert this dataframe to an interactive table.\"\n",
              "              style=\"display:none;\">\n",
              "        \n",
              "  <svg xmlns=\"http://www.w3.org/2000/svg\" height=\"24px\"viewBox=\"0 0 24 24\"\n",
              "       width=\"24px\">\n",
              "    <path d=\"M0 0h24v24H0V0z\" fill=\"none\"/>\n",
              "    <path d=\"M18.56 5.44l.94 2.06.94-2.06 2.06-.94-2.06-.94-.94-2.06-.94 2.06-2.06.94zm-11 1L8.5 8.5l.94-2.06 2.06-.94-2.06-.94L8.5 2.5l-.94 2.06-2.06.94zm10 10l.94 2.06.94-2.06 2.06-.94-2.06-.94-.94-2.06-.94 2.06-2.06.94z\"/><path d=\"M17.41 7.96l-1.37-1.37c-.4-.4-.92-.59-1.43-.59-.52 0-1.04.2-1.43.59L10.3 9.45l-7.72 7.72c-.78.78-.78 2.05 0 2.83L4 21.41c.39.39.9.59 1.41.59.51 0 1.02-.2 1.41-.59l7.78-7.78 2.81-2.81c.8-.78.8-2.07 0-2.86zM5.41 20L4 18.59l7.72-7.72 1.47 1.35L5.41 20z\"/>\n",
              "  </svg>\n",
              "      </button>\n",
              "      \n",
              "  <style>\n",
              "    .colab-df-container {\n",
              "      display:flex;\n",
              "      flex-wrap:wrap;\n",
              "      gap: 12px;\n",
              "    }\n",
              "\n",
              "    .colab-df-convert {\n",
              "      background-color: #E8F0FE;\n",
              "      border: none;\n",
              "      border-radius: 50%;\n",
              "      cursor: pointer;\n",
              "      display: none;\n",
              "      fill: #1967D2;\n",
              "      height: 32px;\n",
              "      padding: 0 0 0 0;\n",
              "      width: 32px;\n",
              "    }\n",
              "\n",
              "    .colab-df-convert:hover {\n",
              "      background-color: #E2EBFA;\n",
              "      box-shadow: 0px 1px 2px rgba(60, 64, 67, 0.3), 0px 1px 3px 1px rgba(60, 64, 67, 0.15);\n",
              "      fill: #174EA6;\n",
              "    }\n",
              "\n",
              "    [theme=dark] .colab-df-convert {\n",
              "      background-color: #3B4455;\n",
              "      fill: #D2E3FC;\n",
              "    }\n",
              "\n",
              "    [theme=dark] .colab-df-convert:hover {\n",
              "      background-color: #434B5C;\n",
              "      box-shadow: 0px 1px 3px 1px rgba(0, 0, 0, 0.15);\n",
              "      filter: drop-shadow(0px 1px 2px rgba(0, 0, 0, 0.3));\n",
              "      fill: #FFFFFF;\n",
              "    }\n",
              "  </style>\n",
              "\n",
              "      <script>\n",
              "        const buttonEl =\n",
              "          document.querySelector('#df-aaca8f1c-2e29-4b5f-a7b5-0cdf1d67182d button.colab-df-convert');\n",
              "        buttonEl.style.display =\n",
              "          google.colab.kernel.accessAllowed ? 'block' : 'none';\n",
              "\n",
              "        async function convertToInteractive(key) {\n",
              "          const element = document.querySelector('#df-aaca8f1c-2e29-4b5f-a7b5-0cdf1d67182d');\n",
              "          const dataTable =\n",
              "            await google.colab.kernel.invokeFunction('convertToInteractive',\n",
              "                                                     [key], {});\n",
              "          if (!dataTable) return;\n",
              "\n",
              "          const docLinkHtml = 'Like what you see? Visit the ' +\n",
              "            '<a target=\"_blank\" href=https://colab.research.google.com/notebooks/data_table.ipynb>data table notebook</a>'\n",
              "            + ' to learn more about interactive tables.';\n",
              "          element.innerHTML = '';\n",
              "          dataTable['output_type'] = 'display_data';\n",
              "          await google.colab.output.renderOutput(dataTable, element);\n",
              "          const docLink = document.createElement('div');\n",
              "          docLink.innerHTML = docLinkHtml;\n",
              "          element.appendChild(docLink);\n",
              "        }\n",
              "      </script>\n",
              "    </div>\n",
              "  </div>\n",
              "  "
            ]
          },
          "metadata": {},
          "execution_count": 10
        }
      ]
    },
    {
      "cell_type": "markdown",
      "source": [
        " **Removing Duplicates** "
      ],
      "metadata": {
        "id": "d1Zr9dkb7NUg"
      }
    },
    {
      "cell_type": "code",
      "source": [
        "#Assigning index with client ID\n",
        "\n",
        "credit_card=df.copy() #creating a copy of read file\n",
        "credit_card.index = credit_card ['Ind_ID']\n",
        "credit_card.drop('Ind_ID',axis=1,inplace=True)"
      ],
      "metadata": {
        "id": "qk8ib2hQ3klb"
      },
      "execution_count": 11,
      "outputs": []
    },
    {
      "cell_type": "code",
      "source": [
        "credit_card.drop_duplicates(inplace=True)"
      ],
      "metadata": {
        "id": "H6epJ_Xn7329"
      },
      "execution_count": 12,
      "outputs": []
    },
    {
      "cell_type": "code",
      "source": [
        "credit_card.head"
      ],
      "metadata": {
        "colab": {
          "base_uri": "https://localhost:8080/"
        },
        "id": "B-fM8H_SRcTr",
        "outputId": "fa38dd25-9c1e-4c17-ddbc-55ef1cdd01aa"
      },
      "execution_count": 13,
      "outputs": [
        {
          "output_type": "execute_result",
          "data": {
            "text/plain": [
              "<bound method NDFrame.head of          label GENDER Car_Owner Propert_Owner  CHILDREN  Annual_income  \\\n",
              "Ind_ID                                                                   \n",
              "5008827      1      M         Y             Y         0       180000.0   \n",
              "5009744      1      F         Y             N         0       315000.0   \n",
              "5009746      1      F         Y             N         0       315000.0   \n",
              "5009749      1      F         Y             N         0            NaN   \n",
              "5009753      1    NaN         Y             N         0       315000.0   \n",
              "...        ...    ...       ...           ...       ...            ...   \n",
              "5118268      0      M         Y             N         1       360000.0   \n",
              "5028645      0      F         N             Y         0            NaN   \n",
              "5023655      0      F         N             N         0       225000.0   \n",
              "5118219      0      M         Y             N         0       270000.0   \n",
              "5053790      0      F         Y             Y         0       225000.0   \n",
              "\n",
              "                  Type_Income                      EDUCATION  \\\n",
              "Ind_ID                                                         \n",
              "5008827             Pensioner               Higher education   \n",
              "5009744  Commercial associate               Higher education   \n",
              "5009746  Commercial associate               Higher education   \n",
              "5009749  Commercial associate               Higher education   \n",
              "5009753             Pensioner               Higher education   \n",
              "...                       ...                            ...   \n",
              "5118268         State servant  Secondary / secondary special   \n",
              "5028645  Commercial associate               Higher education   \n",
              "5023655  Commercial associate              Incomplete higher   \n",
              "5118219               Working  Secondary / secondary special   \n",
              "5053790               Working               Higher education   \n",
              "\n",
              "               Marital_status       Housing_type  Birthday_count  \\\n",
              "Ind_ID                                                             \n",
              "5008827               Married  House / apartment        -18772.0   \n",
              "5009744               Married  House / apartment        -13557.0   \n",
              "5009746               Married  House / apartment             NaN   \n",
              "5009749               Married  House / apartment        -13557.0   \n",
              "5009753               Married  House / apartment        -13557.0   \n",
              "...                       ...                ...             ...   \n",
              "5118268               Married  House / apartment        -11294.0   \n",
              "5028645               Married  House / apartment        -11957.0   \n",
              "5023655  Single / not married  House / apartment        -10229.0   \n",
              "5118219        Civil marriage  House / apartment        -15292.0   \n",
              "5053790               Married  House / apartment        -16601.0   \n",
              "\n",
              "         Employed_days  Mobile_phone  Work_Phone  Phone  EMAIL_ID  \\\n",
              "Ind_ID                                                              \n",
              "5008827         365243             1           0      0         0   \n",
              "5009744           -586             1           1      1         0   \n",
              "5009746           -586             1           1      1         0   \n",
              "5009749           -586             1           1      1         0   \n",
              "5009753           -586             1           1      1         0   \n",
              "...                ...           ...         ...    ...       ...   \n",
              "5118268          -3536             1           0      1         0   \n",
              "5028645          -2182             1           0      0         0   \n",
              "5023655          -1209             1           0      0         0   \n",
              "5118219           -645             1           1      1         0   \n",
              "5053790          -2859             1           0      0         0   \n",
              "\n",
              "        Type_Occupation  Family_Members  \n",
              "Ind_ID                                   \n",
              "5008827             NaN               2  \n",
              "5009744             NaN               2  \n",
              "5009746             NaN               2  \n",
              "5009749             NaN               2  \n",
              "5009753             NaN               2  \n",
              "...                 ...             ...  \n",
              "5118268         Drivers               3  \n",
              "5028645        Managers               2  \n",
              "5023655     Accountants               1  \n",
              "5118219         Drivers               2  \n",
              "5053790             NaN               2  \n",
              "\n",
              "[1386 rows x 18 columns]>"
            ]
          },
          "metadata": {},
          "execution_count": 13
        }
      ]
    },
    {
      "cell_type": "code",
      "source": [
        "credit_card.describe()"
      ],
      "metadata": {
        "colab": {
          "base_uri": "https://localhost:8080/",
          "height": 344
        },
        "id": "tzyiP1BjRghD",
        "outputId": "398864fa-c9e5-424e-a8e8-baea682b8cf7"
      },
      "execution_count": 14,
      "outputs": [
        {
          "output_type": "execute_result",
          "data": {
            "text/plain": [
              "             label     CHILDREN  Annual_income  Birthday_count  Employed_days  \\\n",
              "count  1386.000000  1386.000000   1.363000e+03     1364.000000    1386.000000   \n",
              "mean      0.098846     0.424242   1.894781e+05   -16033.953812   60265.073593   \n",
              "std       0.298562     0.792813   1.069330e+05     4216.837346  138577.322363   \n",
              "min       0.000000     0.000000   3.375000e+04   -24946.000000  -14887.000000   \n",
              "25%       0.000000     0.000000   1.215000e+05   -19543.000000   -3153.750000   \n",
              "50%       0.000000     0.000000   1.620000e+05   -15611.500000   -1542.500000   \n",
              "75%       0.000000     1.000000   2.250000e+05   -12445.000000    -412.000000   \n",
              "max       1.000000    14.000000   1.575000e+06    -7705.000000  365243.000000   \n",
              "\n",
              "       Mobile_phone   Work_Phone        Phone     EMAIL_ID  Family_Members  \n",
              "count        1386.0  1386.000000  1386.000000  1386.000000     1386.000000  \n",
              "mean            1.0     0.204906     0.310967     0.094517        2.176046  \n",
              "std             0.0     0.403779     0.463056     0.292652        0.960236  \n",
              "min             1.0     0.000000     0.000000     0.000000        1.000000  \n",
              "25%             1.0     0.000000     0.000000     0.000000        2.000000  \n",
              "50%             1.0     0.000000     0.000000     0.000000        2.000000  \n",
              "75%             1.0     0.000000     1.000000     0.000000        3.000000  \n",
              "max             1.0     1.000000     1.000000     1.000000       15.000000  "
            ],
            "text/html": [
              "\n",
              "  <div id=\"df-2f620bc5-69dd-4a11-9c93-c818558e93aa\">\n",
              "    <div class=\"colab-df-container\">\n",
              "      <div>\n",
              "<style scoped>\n",
              "    .dataframe tbody tr th:only-of-type {\n",
              "        vertical-align: middle;\n",
              "    }\n",
              "\n",
              "    .dataframe tbody tr th {\n",
              "        vertical-align: top;\n",
              "    }\n",
              "\n",
              "    .dataframe thead th {\n",
              "        text-align: right;\n",
              "    }\n",
              "</style>\n",
              "<table border=\"1\" class=\"dataframe\">\n",
              "  <thead>\n",
              "    <tr style=\"text-align: right;\">\n",
              "      <th></th>\n",
              "      <th>label</th>\n",
              "      <th>CHILDREN</th>\n",
              "      <th>Annual_income</th>\n",
              "      <th>Birthday_count</th>\n",
              "      <th>Employed_days</th>\n",
              "      <th>Mobile_phone</th>\n",
              "      <th>Work_Phone</th>\n",
              "      <th>Phone</th>\n",
              "      <th>EMAIL_ID</th>\n",
              "      <th>Family_Members</th>\n",
              "    </tr>\n",
              "  </thead>\n",
              "  <tbody>\n",
              "    <tr>\n",
              "      <th>count</th>\n",
              "      <td>1386.000000</td>\n",
              "      <td>1386.000000</td>\n",
              "      <td>1.363000e+03</td>\n",
              "      <td>1364.000000</td>\n",
              "      <td>1386.000000</td>\n",
              "      <td>1386.0</td>\n",
              "      <td>1386.000000</td>\n",
              "      <td>1386.000000</td>\n",
              "      <td>1386.000000</td>\n",
              "      <td>1386.000000</td>\n",
              "    </tr>\n",
              "    <tr>\n",
              "      <th>mean</th>\n",
              "      <td>0.098846</td>\n",
              "      <td>0.424242</td>\n",
              "      <td>1.894781e+05</td>\n",
              "      <td>-16033.953812</td>\n",
              "      <td>60265.073593</td>\n",
              "      <td>1.0</td>\n",
              "      <td>0.204906</td>\n",
              "      <td>0.310967</td>\n",
              "      <td>0.094517</td>\n",
              "      <td>2.176046</td>\n",
              "    </tr>\n",
              "    <tr>\n",
              "      <th>std</th>\n",
              "      <td>0.298562</td>\n",
              "      <td>0.792813</td>\n",
              "      <td>1.069330e+05</td>\n",
              "      <td>4216.837346</td>\n",
              "      <td>138577.322363</td>\n",
              "      <td>0.0</td>\n",
              "      <td>0.403779</td>\n",
              "      <td>0.463056</td>\n",
              "      <td>0.292652</td>\n",
              "      <td>0.960236</td>\n",
              "    </tr>\n",
              "    <tr>\n",
              "      <th>min</th>\n",
              "      <td>0.000000</td>\n",
              "      <td>0.000000</td>\n",
              "      <td>3.375000e+04</td>\n",
              "      <td>-24946.000000</td>\n",
              "      <td>-14887.000000</td>\n",
              "      <td>1.0</td>\n",
              "      <td>0.000000</td>\n",
              "      <td>0.000000</td>\n",
              "      <td>0.000000</td>\n",
              "      <td>1.000000</td>\n",
              "    </tr>\n",
              "    <tr>\n",
              "      <th>25%</th>\n",
              "      <td>0.000000</td>\n",
              "      <td>0.000000</td>\n",
              "      <td>1.215000e+05</td>\n",
              "      <td>-19543.000000</td>\n",
              "      <td>-3153.750000</td>\n",
              "      <td>1.0</td>\n",
              "      <td>0.000000</td>\n",
              "      <td>0.000000</td>\n",
              "      <td>0.000000</td>\n",
              "      <td>2.000000</td>\n",
              "    </tr>\n",
              "    <tr>\n",
              "      <th>50%</th>\n",
              "      <td>0.000000</td>\n",
              "      <td>0.000000</td>\n",
              "      <td>1.620000e+05</td>\n",
              "      <td>-15611.500000</td>\n",
              "      <td>-1542.500000</td>\n",
              "      <td>1.0</td>\n",
              "      <td>0.000000</td>\n",
              "      <td>0.000000</td>\n",
              "      <td>0.000000</td>\n",
              "      <td>2.000000</td>\n",
              "    </tr>\n",
              "    <tr>\n",
              "      <th>75%</th>\n",
              "      <td>0.000000</td>\n",
              "      <td>1.000000</td>\n",
              "      <td>2.250000e+05</td>\n",
              "      <td>-12445.000000</td>\n",
              "      <td>-412.000000</td>\n",
              "      <td>1.0</td>\n",
              "      <td>0.000000</td>\n",
              "      <td>1.000000</td>\n",
              "      <td>0.000000</td>\n",
              "      <td>3.000000</td>\n",
              "    </tr>\n",
              "    <tr>\n",
              "      <th>max</th>\n",
              "      <td>1.000000</td>\n",
              "      <td>14.000000</td>\n",
              "      <td>1.575000e+06</td>\n",
              "      <td>-7705.000000</td>\n",
              "      <td>365243.000000</td>\n",
              "      <td>1.0</td>\n",
              "      <td>1.000000</td>\n",
              "      <td>1.000000</td>\n",
              "      <td>1.000000</td>\n",
              "      <td>15.000000</td>\n",
              "    </tr>\n",
              "  </tbody>\n",
              "</table>\n",
              "</div>\n",
              "      <button class=\"colab-df-convert\" onclick=\"convertToInteractive('df-2f620bc5-69dd-4a11-9c93-c818558e93aa')\"\n",
              "              title=\"Convert this dataframe to an interactive table.\"\n",
              "              style=\"display:none;\">\n",
              "        \n",
              "  <svg xmlns=\"http://www.w3.org/2000/svg\" height=\"24px\"viewBox=\"0 0 24 24\"\n",
              "       width=\"24px\">\n",
              "    <path d=\"M0 0h24v24H0V0z\" fill=\"none\"/>\n",
              "    <path d=\"M18.56 5.44l.94 2.06.94-2.06 2.06-.94-2.06-.94-.94-2.06-.94 2.06-2.06.94zm-11 1L8.5 8.5l.94-2.06 2.06-.94-2.06-.94L8.5 2.5l-.94 2.06-2.06.94zm10 10l.94 2.06.94-2.06 2.06-.94-2.06-.94-.94-2.06-.94 2.06-2.06.94z\"/><path d=\"M17.41 7.96l-1.37-1.37c-.4-.4-.92-.59-1.43-.59-.52 0-1.04.2-1.43.59L10.3 9.45l-7.72 7.72c-.78.78-.78 2.05 0 2.83L4 21.41c.39.39.9.59 1.41.59.51 0 1.02-.2 1.41-.59l7.78-7.78 2.81-2.81c.8-.78.8-2.07 0-2.86zM5.41 20L4 18.59l7.72-7.72 1.47 1.35L5.41 20z\"/>\n",
              "  </svg>\n",
              "      </button>\n",
              "      \n",
              "  <style>\n",
              "    .colab-df-container {\n",
              "      display:flex;\n",
              "      flex-wrap:wrap;\n",
              "      gap: 12px;\n",
              "    }\n",
              "\n",
              "    .colab-df-convert {\n",
              "      background-color: #E8F0FE;\n",
              "      border: none;\n",
              "      border-radius: 50%;\n",
              "      cursor: pointer;\n",
              "      display: none;\n",
              "      fill: #1967D2;\n",
              "      height: 32px;\n",
              "      padding: 0 0 0 0;\n",
              "      width: 32px;\n",
              "    }\n",
              "\n",
              "    .colab-df-convert:hover {\n",
              "      background-color: #E2EBFA;\n",
              "      box-shadow: 0px 1px 2px rgba(60, 64, 67, 0.3), 0px 1px 3px 1px rgba(60, 64, 67, 0.15);\n",
              "      fill: #174EA6;\n",
              "    }\n",
              "\n",
              "    [theme=dark] .colab-df-convert {\n",
              "      background-color: #3B4455;\n",
              "      fill: #D2E3FC;\n",
              "    }\n",
              "\n",
              "    [theme=dark] .colab-df-convert:hover {\n",
              "      background-color: #434B5C;\n",
              "      box-shadow: 0px 1px 3px 1px rgba(0, 0, 0, 0.15);\n",
              "      filter: drop-shadow(0px 1px 2px rgba(0, 0, 0, 0.3));\n",
              "      fill: #FFFFFF;\n",
              "    }\n",
              "  </style>\n",
              "\n",
              "      <script>\n",
              "        const buttonEl =\n",
              "          document.querySelector('#df-2f620bc5-69dd-4a11-9c93-c818558e93aa button.colab-df-convert');\n",
              "        buttonEl.style.display =\n",
              "          google.colab.kernel.accessAllowed ? 'block' : 'none';\n",
              "\n",
              "        async function convertToInteractive(key) {\n",
              "          const element = document.querySelector('#df-2f620bc5-69dd-4a11-9c93-c818558e93aa');\n",
              "          const dataTable =\n",
              "            await google.colab.kernel.invokeFunction('convertToInteractive',\n",
              "                                                     [key], {});\n",
              "          if (!dataTable) return;\n",
              "\n",
              "          const docLinkHtml = 'Like what you see? Visit the ' +\n",
              "            '<a target=\"_blank\" href=https://colab.research.google.com/notebooks/data_table.ipynb>data table notebook</a>'\n",
              "            + ' to learn more about interactive tables.';\n",
              "          element.innerHTML = '';\n",
              "          dataTable['output_type'] = 'display_data';\n",
              "          await google.colab.output.renderOutput(dataTable, element);\n",
              "          const docLink = document.createElement('div');\n",
              "          docLink.innerHTML = docLinkHtml;\n",
              "          element.appendChild(docLink);\n",
              "        }\n",
              "      </script>\n",
              "    </div>\n",
              "  </div>\n",
              "  "
            ]
          },
          "metadata": {},
          "execution_count": 14
        }
      ]
    },
    {
      "cell_type": "code",
      "source": [
        "#Summary of data\n",
        "\n",
        "credit_card.info()"
      ],
      "metadata": {
        "colab": {
          "base_uri": "https://localhost:8080/"
        },
        "id": "DzROFMGURjcL",
        "outputId": "443d6b69-762d-48fd-dccd-04fd382429c8"
      },
      "execution_count": 15,
      "outputs": [
        {
          "output_type": "stream",
          "name": "stdout",
          "text": [
            "<class 'pandas.core.frame.DataFrame'>\n",
            "Int64Index: 1386 entries, 5008827 to 5053790\n",
            "Data columns (total 18 columns):\n",
            " #   Column           Non-Null Count  Dtype  \n",
            "---  ------           --------------  -----  \n",
            " 0   label            1386 non-null   int64  \n",
            " 1   GENDER           1379 non-null   object \n",
            " 2   Car_Owner        1386 non-null   object \n",
            " 3   Propert_Owner    1386 non-null   object \n",
            " 4   CHILDREN         1386 non-null   int64  \n",
            " 5   Annual_income    1363 non-null   float64\n",
            " 6   Type_Income      1386 non-null   object \n",
            " 7   EDUCATION        1386 non-null   object \n",
            " 8   Marital_status   1386 non-null   object \n",
            " 9   Housing_type     1386 non-null   object \n",
            " 10  Birthday_count   1364 non-null   float64\n",
            " 11  Employed_days    1386 non-null   int64  \n",
            " 12  Mobile_phone     1386 non-null   int64  \n",
            " 13  Work_Phone       1386 non-null   int64  \n",
            " 14  Phone            1386 non-null   int64  \n",
            " 15  EMAIL_ID         1386 non-null   int64  \n",
            " 16  Type_Occupation  948 non-null    object \n",
            " 17  Family_Members   1386 non-null   int64  \n",
            "dtypes: float64(2), int64(8), object(8)\n",
            "memory usage: 205.7+ KB\n"
          ]
        }
      ]
    },
    {
      "cell_type": "markdown",
      "source": [
        "**Examining Column Names**"
      ],
      "metadata": {
        "id": "_QjTO0m3BP25"
      }
    },
    {
      "cell_type": "code",
      "source": [
        "credit_card.columns #checking column names"
      ],
      "metadata": {
        "colab": {
          "base_uri": "https://localhost:8080/"
        },
        "id": "4AZk_HyZA3In",
        "outputId": "e1d45766-ffb2-414b-8747-416dd0912747"
      },
      "execution_count": 16,
      "outputs": [
        {
          "output_type": "execute_result",
          "data": {
            "text/plain": [
              "Index(['label', 'GENDER', 'Car_Owner', 'Propert_Owner', 'CHILDREN',\n",
              "       'Annual_income', 'Type_Income', 'EDUCATION', 'Marital_status',\n",
              "       'Housing_type', 'Birthday_count', 'Employed_days', 'Mobile_phone',\n",
              "       'Work_Phone', 'Phone', 'EMAIL_ID', 'Type_Occupation', 'Family_Members'],\n",
              "      dtype='object')"
            ]
          },
          "metadata": {},
          "execution_count": 16
        }
      ]
    },
    {
      "cell_type": "markdown",
      "source": [
        "**Examing DATATYPES**"
      ],
      "metadata": {
        "id": "QBoiZvN1BF2l"
      }
    },
    {
      "cell_type": "code",
      "source": [
        "credit_card.dtypes #checking datatypes "
      ],
      "metadata": {
        "colab": {
          "base_uri": "https://localhost:8080/"
        },
        "id": "QPqH6SR5A8e2",
        "outputId": "2cb03129-a30e-4644-a3c6-e90bba90ad17"
      },
      "execution_count": 17,
      "outputs": [
        {
          "output_type": "execute_result",
          "data": {
            "text/plain": [
              "label                int64\n",
              "GENDER              object\n",
              "Car_Owner           object\n",
              "Propert_Owner       object\n",
              "CHILDREN             int64\n",
              "Annual_income      float64\n",
              "Type_Income         object\n",
              "EDUCATION           object\n",
              "Marital_status      object\n",
              "Housing_type        object\n",
              "Birthday_count     float64\n",
              "Employed_days        int64\n",
              "Mobile_phone         int64\n",
              "Work_Phone           int64\n",
              "Phone                int64\n",
              "EMAIL_ID             int64\n",
              "Type_Occupation     object\n",
              "Family_Members       int64\n",
              "dtype: object"
            ]
          },
          "metadata": {},
          "execution_count": 17
        }
      ]
    },
    {
      "cell_type": "markdown",
      "source": [
        "Checking unique values:\n",
        "We want to be sure that there is no unnecesrry value present in our dataset"
      ],
      "metadata": {
        "id": "mzm3dgzZ8LEX"
      }
    },
    {
      "cell_type": "code",
      "source": [
        "#Getting unique values from each features\n",
        "for i in credit_card.columns:\n",
        "    print(i,'-',credit_card[i].unique())"
      ],
      "metadata": {
        "colab": {
          "base_uri": "https://localhost:8080/"
        },
        "id": "_LWLH4-V8Qup",
        "outputId": "14638e0d-97c7-4da5-e5fb-317f4079f54b"
      },
      "execution_count": 18,
      "outputs": [
        {
          "output_type": "stream",
          "name": "stdout",
          "text": [
            "label - [1 0]\n",
            "GENDER - ['M' 'F' nan]\n",
            "Car_Owner - ['Y' 'N']\n",
            "Propert_Owner - ['Y' 'N']\n",
            "CHILDREN - [ 0  1  2  4  3 14]\n",
            "Annual_income - [ 180000.   315000.        nan  450000.    90000.   472500.   270000.\n",
            "  126000.   202500.   157500.   112500.   540000.   292500.   135000.\n",
            "   76500.   215100.   225000.    67500.   171000.   103500.    99000.\n",
            "  391500.    65250.    72900.   360000.   256500.   675000.   247500.\n",
            "   85500.   121500.   130500.   211500.    81000.    72000.   148500.\n",
            "  162000.   195750.   585000.   216000.   306000.   108000.    63000.\n",
            "   45000.   337500.   131400.   117000.   445500.   234000.  1575000.\n",
            "  144000.    67050.    73350.   193500.   900000.    94500.   198000.\n",
            "   54000.   166500.   167400.   153000.   423000.   243000.   283500.\n",
            "  252000.   495000.   612000.    36000.   139500.   133650.   427500.\n",
            "  261000.   231750.    90900.    45900.   119250.    58500.   328500.\n",
            "  787500.   594000.   119700.    69372.    37800.   387000.   207000.\n",
            "  189000.   333000.   105750.   382500.   141750.    40500.   405000.\n",
            "   44550.   301500.   351000.   175500.   121900.5  238500.    33750.\n",
            "  116100.   297000.   630000.   418500.    83250.   173250.   274500.\n",
            "  115200.    56250.    95850.   185400.   810000.   184500.   165600.\n",
            "  114750.    47250.    49500.    69750. ]\n",
            "Type_Income - ['Pensioner' 'Commercial associate' 'Working' 'State servant']\n",
            "EDUCATION - ['Higher education' 'Secondary / secondary special' 'Lower secondary'\n",
            " 'Incomplete higher' 'Academic degree']\n",
            "Marital_status - ['Married' 'Single / not married' 'Civil marriage' 'Separated' 'Widow']\n",
            "Housing_type - ['House / apartment' 'With parents' 'Rented apartment'\n",
            " 'Municipal apartment' 'Co-op apartment' 'Office apartment']\n",
            "Birthday_count - [-18772. -13557.     nan ... -10229. -15292. -16601.]\n",
            "Employed_days - [365243   -586   -678  -1002   -913   -248  -2470  -1644  -4327  -1674\n",
            "  -1086   -925   -854   -185  -3350   -691  -4770  -2394   -384  -3647\n",
            "  -1546   -808  -1285   -855  -7369  -2269  -4114  -1161  -7288   -166\n",
            "   -866   -564  -3366  -2150  -1458  -8369   -508  -1567   -137  -3974\n",
            "  -1570  -2878   -140  -2576  -1905  -1724  -1328  -4987  -3496  -1394\n",
            "  -1265  -2531  -2105   -860   -217   -535  -6866   -584  -2227  -8161\n",
            "   -613   -606  -6944   -346  -1808  -3420   -863  -7413  -7553  -3931\n",
            "  -1039   -134   -622  -1595  -1626  -1868   -555  -1935   -931   -900\n",
            "  -4305   -499  -2418   -189  -1132  -1770   -919  -1081   -502  -2420\n",
            "  -1325  -6367  -2484   -341  -9422  -3054  -2987  -2128   -820   -141\n",
            "  -1692  -4686   -693   -567   -885  -2769  -1547  -3179  -5204  -3072\n",
            "   -320  -2469   -583   -834  -1085  -1399  -7310  -1748  -2479   -875\n",
            "  -2805  -2477  -1477  -1782   -431  -1416   -263  -2349   -412  -7068\n",
            "  -1787  -1345  -3717  -1048  -2667  -2606  -2135  -1534  -2311  -1323\n",
            "  -5061  -2213  -2152  -4509  -1552  -1569  -1679  -8684  -6337    -97\n",
            "  -1222   -531  -7591  -5639  -1776  -5498  -5880   -460  -4532  -3309\n",
            "  -3873   -344  -1923   -604  -1922  -1496   -708 -12332  -5209  -6273\n",
            "  -2722  -9363   -746  -1322  -3458   -158  -2457  -2811  -7018  -2026\n",
            "   -188  -2967  -3166  -5107  -1649  -3694  -3697  -4596  -5674  -1682\n",
            "   -196   -530  -1696  -2168 -13382  -1509  -1347  -1405   -227  -9975\n",
            "  -1505  -5084  -2905   -356  -1719  -3680   -962  -3000  -4275   -110\n",
            "  -2078  -8377  -4392   -126  -7640  -3153   -139  -4023  -4888 -14887\n",
            "  -3319  -1966   -200  -6123   -117  -2625  -1763  -3689  -3414  -2910\n",
            "  -3412  -1107  -8036  -3608   -101  -3231   -203  -1589  -3577   -735\n",
            "  -8737  -1617  -1591   -979   -422   -655  -3653  -1261  -7346  -5545\n",
            "  -3810  -1190  -3246  -7676  -1353  -3715  -1113   -992  -2289 -12621\n",
            "  -3643   -869  -2174  -5336  -3535  -4407   -453   -960  -4711  -1965\n",
            "  -2543  -1393  -2234  -1631  -1619  -5981  -2682  -3443  -2330   -413\n",
            "  -6645   -505   -201  -3273  -1462  -2609   -521  -1321  -2467   -716\n",
            "  -1632   -614  -1904   -351  -7260   -626  -6853   -458  -1628  -6094\n",
            "   -734   -657  -2700   -880   -157   -135  -1497  -1266   -515  -1023\n",
            "  -2129   -575  -3262   -430  -2207  -1866  -4568   -309   -578  -6908\n",
            "  -1931  -8033  -2257  -3776  -4583  -4404   -727  -3805  -2316  -1455\n",
            "  -5422   -581   -893  -1860  -6317  -1000  -4766  -2259  -1344  -4690\n",
            "  -8290  -2052  -5004   -923  -1193   -793  -5453    -88  -5495   -593\n",
            "  -4816  -1586  -2104  -1032  -9698  -1131  -1175  -8375  -2199  -1912\n",
            "   -926  -2499  -2654  -1174   -230  -2276  -2197  -2468 -11448   -932\n",
            "  -2956   -619  -3787  -1253  -3242   -298   -124  -4082  -1431  -5330\n",
            "  -1017  -1128  -3088  -1466  -1689  -3003  -4039   -588   -282  -4491\n",
            "  -1155  -1220  -1203   -712  -2844  -4031  -3322  -6693  -2760  -2532\n",
            "  -1646 -11542  -5408  -1374  -3092  -2993  -2379  -1281  -7804  -3002\n",
            "   -825  -2057  -1611   -652  -2537  -2331  -4710  -1191  -1162  -3900\n",
            "   -219   -223  -3034  -3329   -235  -3503  -1324  -3112  -2959   -234\n",
            "   -719  -2616  -4410  -1587  -1537  -1430  -1928  -2753   -867  -2134\n",
            "  -3232    -95  -3690  -9870  -4979  -3396   -461  -5206  -3173   -732\n",
            "   -432  -2102  -6583   -156  -5460  -2506  -3397  -3792  -3230  -2464\n",
            "  -3334  -3110  -2966  -2728  -4161  -7494  -4280  -5891  -1350   -609\n",
            "  -2381  -1613  -3533  -6218  -2874  -1654  -2433  -4534   -522   -798\n",
            "  -2620   -145   -663  -2299  -1812  -2589   -130  -5056   -796  -7341\n",
            "  -1130  -5436  -2368  -1889  -1315  -1678  -2939  -1616  -8405  -3476\n",
            "  -3453  -3769  -1359  -2990  -2321  -4267  -1386   -645   -886  -1823\n",
            "  -4965  -3716  -1557  -3761  -1981   -102   -288  -2147  -3929   -424\n",
            "  -1069  -2323  -3332   -553   -375  -6352  -1056  -1172  -4663  -5587\n",
            "  -1406  -8966  -6860  -1463   -561  -3661  -6764 -10600  -3999  -3960\n",
            "  -2065  -1205  -1135  -5190  -3720  -2633  -3272  -2500  -6033   -170\n",
            "   -278  -3062  -8157  -2653  -1953  -5457  -1997  -3435  -1504  -2696\n",
            " -13735   -132  -6621  -2481  -2818 -11906  -1077  -9258  -2277  -2422\n",
            "   -826  -2969  -2086  -1070  -8172   -701  -1384  -9447  -1160  -1952\n",
            "  -1354   -469   -563  -1526  -2092  -1749   -168  -4029  -4967  -3282\n",
            "   -339  -7979  -9683   -577  -2622   -976  -1994  -1563  -4523   -340\n",
            "  -6614  -1639  -3392  -3261  -3928  -5082  -3630  -3591  -1199  -4304\n",
            "  -2514  -2187  -7140    -96  -5176  -6761  -2356  -2908  -3333  -3596\n",
            "  -4606  -4030  -5246  -2906  -1915  -1267  -1256  -1721  -2317  -1518\n",
            "   -864  -7364  -1101  -2231  -1327   -355  -1934  -5179  -2326   -980\n",
            "  -1224  -7048  -2266    -73  -2661   -286  -8044   -523   -978   -795\n",
            "  -2351  -1114  -3760  -5145  -4119  -3641   -481  -4603   -888   -393\n",
            "  -1007 -10688  -2228  -8479  -2180  -1362  -1876  -2265 -11389  -4146\n",
            "  -5500  -5521   -658  -3695   -901  -1751  -3663  -3149  -1375   -183\n",
            "   -500   -489  -2450  -1539  -1556  -7095   -674  -2605  -1999  -4599\n",
            "  -6488  -1054   -745  -3505  -1585  -6904  -2530  -1420   -314  -2441\n",
            " -11884  -4520  -3289  -1495  -3504  -3093  -2417  -2554   -818  -9359\n",
            "  -1508 -10364  -4331  -2296  -2142  -3163  -3961  -2896  -1185  -1670\n",
            "  -3670  -1202  -4936   -596  -6648   -747  -1741  -1615  -1444  -2089\n",
            "   -397  -2592  -1618  -2822  -1600  -2558   -991  -2758  -2988  -2904\n",
            "  -3377  -3902  -3202   -671   -848   -552  -2559  -2361  -3854  -1182\n",
            "  -2384  -8230  -2493  -2362  -4034  -2143  -2393  -2565   -450  -5496\n",
            "  -2319   -191  -3506  -2865  -2339  -2072  -7013  -3008  -2932   -565\n",
            "  -1282  -3154  -1225  -2333  -1869 -11940  -3515  -3291   -407   -444\n",
            "   -226   -279  -1661   -896   -670  -2533  -7400  -3339  -1259   -265\n",
            "  -1870  -2540  -2978   -187   -477  -1436  -1978  -1133  -2985 -10758\n",
            "  -4288    -89  -6930  -1807  -3143  -3850  -4560   -785  -3570   -777\n",
            " -11451   -742  -5950   -464   -385  -2475  -2051  -3607  -2454  -7614\n",
            "  -2796   -642  -4004  -4917  -5622   -313  -1753  -5830  -1677  -3078\n",
            "  -3061   -625  -1381   -308  -5437   -218  -3195  -1198  -1473  -5483\n",
            "   -704 -12870  -5373  -7128  -2255  -5345  -3574   -164  -6226  -6678\n",
            "  -2024   -890  -6075  -1774   -686  -3229  -3455  -5454 -13010  -5507\n",
            "  -6640  -5488   -221   -127  -8760  -7718  -3123  -1652  -6879  -2673\n",
            "   -420  -1072  -5760  -1871  -1707  -1962  -1598  -1583  -7264   -536\n",
            "  -1313  -2512  -5673  -3380  -3944  -3654   -171  -1801  -1138  -1897\n",
            "  -2980  -1581  -6558  -4434   -210  -3032  -2389  -1467   -377 -10762\n",
            "  -2788  -3668  -2340  -9925   -918  -4219   -194  -3010   -370   -232\n",
            "   -285  -1830  -3853  -2866  -1022  -2423  -2545  -6230   -104  -2631\n",
            "   -367   -857  -4887   -433   -803  -3361  -1520  -5155  -5006  -2191\n",
            "  -1064   -828  -4874  -1217  -7557  -5334   -611  -5215   -438   -958\n",
            "  -3095  -2827  -3693  -2262   -195   -109  -5862  -1200  -1891  -4662\n",
            "  -2924  -1648  -3536  -2182  -1209  -2859]\n",
            "Mobile_phone - [1]\n",
            "Work_Phone - [0 1]\n",
            "Phone - [0 1]\n",
            "EMAIL_ID - [0 1]\n",
            "Type_Occupation - [nan 'Core staff' 'Cooking staff' 'Laborers' 'Sales staff' 'Accountants'\n",
            " 'High skill tech staff' 'Managers' 'Cleaning staff' 'Drivers'\n",
            " 'Low-skill Laborers' 'IT staff' 'Waiters/barmen staff' 'Security staff'\n",
            " 'Medicine staff' 'Private service staff' 'HR staff' 'Secretaries'\n",
            " 'Realty agents']\n",
            "Family_Members - [ 2  3  1  4  6  5 15]\n"
          ]
        }
      ]
    },
    {
      "cell_type": "code",
      "source": [
        "#Type casting\n",
        "credit_card['GENDER'] = credit_card['GENDER'].astype('category')\n",
        "credit_card['Car_Owner'] = credit_card['Car_Owner'].astype('category')\n",
        "credit_card['Type_Income'] = credit_card['Type_Income'].astype('category')\n",
        "credit_card['Propert_Owner'] = credit_card['Propert_Owner'].astype('category')\n",
        "credit_card['EDUCATION'] = credit_card['EDUCATION'].astype('category')\n",
        "credit_card['Housing_type'] = credit_card['Housing_type'].astype('category')\n",
        "credit_card['Type_Occupation'] = credit_card['Type_Occupation'].astype('category')\n",
        "credit_card['Marital_status'] = credit_card['Marital_status'].astype('category')\n",
        "credit_card['Mobile_phone'] = credit_card['Mobile_phone'].astype('category')\n",
        "credit_card['Work_Phone'] = credit_card['Work_Phone'].astype('category')\n",
        "credit_card['Phone'] = credit_card['Phone'].astype('category')\n",
        "credit_card['EMAIL_ID'] = credit_card['EMAIL_ID'].astype('category')"
      ],
      "metadata": {
        "id": "L6bVZFrt8bNR"
      },
      "execution_count": 19,
      "outputs": []
    },
    {
      "cell_type": "code",
      "source": [
        "def get_label(status):\n",
        "    if status in (2,3,4,5):\n",
        "        return 1  # Risky\n",
        "    else:\n",
        "        return 0 # Not Risky"
      ],
      "metadata": {
        "id": "enKYXs1h-6Jh"
      },
      "execution_count": 20,
      "outputs": []
    },
    {
      "cell_type": "code",
      "source": [
        "credit_card['AGE']=-(credit_card['Birthday_count'])//365\n",
        "credit_card['WORKTERM']=-(credit_card['Employed_days'])//365\n",
        "\n",
        "credit_card['WORKTERM']= credit_card['WORKTERM'].replace(-1001,-1)\n",
        "credit_card.drop(['Birthday_count','Employed_days'],axis = 1,inplace=True)\n"
      ],
      "metadata": {
        "id": "CKMY2sYkVxB8"
      },
      "execution_count": 21,
      "outputs": []
    },
    {
      "cell_type": "code",
      "source": [
        "credit_card['label'] = credit_card['Marital_status'].apply(get_label)\n",
        "credit_card['label']= credit_card['label'].astype('category')"
      ],
      "metadata": {
        "id": "OYo2j6ut-9AD"
      },
      "execution_count": 22,
      "outputs": []
    },
    {
      "cell_type": "code",
      "source": [
        "credit_card['WORKTERM'].unique()"
      ],
      "metadata": {
        "colab": {
          "base_uri": "https://localhost:8080/"
        },
        "id": "GLY0vlQJ_GhI",
        "outputId": "4805db5c-53d8-45fd-e2c8-96c999537e75"
      },
      "execution_count": 23,
      "outputs": [
        {
          "output_type": "execute_result",
          "data": {
            "text/plain": [
              "array([-1,  1,  2,  0,  6,  4, 11,  9, 13,  3, 20, 19,  5, 22, 10,  7, 18,\n",
              "       17, 25,  8, 12, 14, 23, 15, 16, 33, 36, 27, 40, 21, 34, 26, 31, 24,\n",
              "       29, 37, 32, 28, 35])"
            ]
          },
          "metadata": {},
          "execution_count": 23
        }
      ]
    },
    {
      "cell_type": "code",
      "source": [
        "credit_card.isnull().sum() * 100 / credit_card.shape[0]"
      ],
      "metadata": {
        "colab": {
          "base_uri": "https://localhost:8080/"
        },
        "id": "jJXuh-Wv_Lf1",
        "outputId": "3d5aba93-6f33-4d6c-ee17-b43e86f181e5"
      },
      "execution_count": 24,
      "outputs": [
        {
          "output_type": "execute_result",
          "data": {
            "text/plain": [
              "label               0.000000\n",
              "GENDER              0.505051\n",
              "Car_Owner           0.000000\n",
              "Propert_Owner       0.000000\n",
              "CHILDREN            0.000000\n",
              "Annual_income       1.659452\n",
              "Type_Income         0.000000\n",
              "EDUCATION           0.000000\n",
              "Marital_status      0.000000\n",
              "Housing_type        0.000000\n",
              "Mobile_phone        0.000000\n",
              "Work_Phone          0.000000\n",
              "Phone               0.000000\n",
              "EMAIL_ID            0.000000\n",
              "Type_Occupation    31.601732\n",
              "Family_Members      0.000000\n",
              "AGE                 1.587302\n",
              "WORKTERM            0.000000\n",
              "dtype: float64"
            ]
          },
          "metadata": {},
          "execution_count": 24
        }
      ]
    },
    {
      "cell_type": "code",
      "source": [
        "sns.countplot(x=credit_card[\"label\"])"
      ],
      "metadata": {
        "colab": {
          "base_uri": "https://localhost:8080/",
          "height": 296
        },
        "id": "RD7JqhTH_PFS",
        "outputId": "b83eb711-2244-4ee0-d24d-41f02d0ff45e"
      },
      "execution_count": 25,
      "outputs": [
        {
          "output_type": "execute_result",
          "data": {
            "text/plain": [
              "<Axes: xlabel='label', ylabel='count'>"
            ]
          },
          "metadata": {},
          "execution_count": 25
        },
        {
          "output_type": "display_data",
          "data": {
            "text/plain": [
              "<Figure size 432x288 with 1 Axes>"
            ],
            "image/png": "[encoded data removed]"
          },
          "metadata": {
            "needs_background": "light"
          }
        }
      ]
    },
    {
      "cell_type": "markdown",
      "source": [
        "Here we can clearly observe imbalance in the data where maximum number applicants are of whose application is approved. This need to corrected using sampling techniques before feeding into predictive models.\n"
      ],
      "metadata": {
        "id": "jmulgKVj_U9A"
      }
    },
    {
      "cell_type": "code",
      "source": [
        "sns.pairplot(credit_card.sample(100))"
      ],
      "metadata": {
        "colab": {
          "base_uri": "https://localhost:8080/",
          "height": 920
        },
        "id": "RE1vqNTt_bDV",
        "outputId": "19e57dbb-a045-49f4-9d98-15037ba39ea4"
      },
      "execution_count": 26,
      "outputs": [
        {
          "output_type": "execute_result",
          "data": {
            "text/plain": [
              "<seaborn.axisgrid.PairGrid at 0x7f90c6126640>"
            ]
          },
          "metadata": {},
          "execution_count": 26
        },
        {
          "output_type": "display_data",
          "data": {
            "text/plain": [
              "<Figure size 900x900 with 30 Axes>"
            ],
            "image/png": "[encoded data removed]"
          },
          "metadata": {
            "needs_background": "light"
          }
        }
      ]
    },
    {
      "cell_type": "code",
      "source": [
        "credit_card.skew()\n"
      ],
      "metadata": {
        "colab": {
          "base_uri": "https://localhost:8080/"
        },
        "id": "KLWESdXx_fhl",
        "outputId": "a5be769c-c3b2-4770-d8e5-746ede71adfe"
      },
      "execution_count": 27,
      "outputs": [
        {
          "output_type": "execute_result",
          "data": {
            "text/plain": [
              "CHILDREN          4.750842\n",
              "Annual_income     3.329552\n",
              "Family_Members    2.332374\n",
              "AGE               0.178907\n",
              "WORKTERM          1.685713\n",
              "dtype: float64"
            ]
          },
          "metadata": {},
          "execution_count": 27
        }
      ]
    },
    {
      "cell_type": "code",
      "source": [
        "plt.figure(figsize=[20,15])\n",
        "plt.subplot(4,2,1)\n",
        "plt.hist(data= credit_card, x='CHILDREN')\n",
        "plt.subplot(4,2,2)\n",
        "plt.hist(data= credit_card, x='Annual_income')\n",
        "plt.subplot(4,2,3)\n",
        "plt.hist(data= credit_card, x='AGE')\n",
        "plt.subplot(4,2,4)\n",
        "plt.hist(data= credit_card, x='Employed_days')\n",
        "plt.subplot(4,2,5)\n",
        "plt.hist(data= credit_card, x='Family_Members')\n",
        "plt.show()"
      ],
      "metadata": {
        "colab": {
          "base_uri": "https://localhost:8080/",
          "height": 624
        },
        "id": "tNCzrQjf_jkS",
        "outputId": "b2a9183a-42c2-42d8-af26-a4355325db75"
      },
      "execution_count": 28,
      "outputs": [
        {
          "output_type": "display_data",
          "data": {
            "text/plain": [
              "<Figure size 1440x1080 with 5 Axes>"
            ],
            "image/png": "[encoded data removed]"
          },
          "metadata": {
            "needs_background": "light"
          }
        }
      ]
    },
    {
      "cell_type": "markdown",
      "source": [
        "Heat Map"
      ],
      "metadata": {
        "id": "Crk10zGTAYLk"
      }
    },
    {
      "cell_type": "code",
      "source": [
        "import plotly.figure_factory as ff\n",
        "credit_card_corr = credit_card.corr(method='spearman') # Generate correlation matrix for spearman correlation\n",
        "\n",
        "x = list(credit_card_corr.columns)\n",
        "y = list(credit_card_corr.index)\n",
        "z = np.array(credit_card_corr)\n",
        "\n",
        "fig = ff.create_annotated_heatmap(\n",
        "    z,\n",
        "    x = x,\n",
        "    y = y ,\n",
        "    annotation_text = np.around(z, decimals=2),\n",
        "    hoverinfo='z',\n",
        "    colorscale='Viridis'\n",
        "    )\n",
        "fig.show()"
      ],
      "metadata": {
        "colab": {
          "base_uri": "https://localhost:8080/",
          "height": 542
        },
        "id": "KnWC7DTH_62I",
        "outputId": "2d5520c6-d0c3-48fb-c30d-c8f30b9410f1"
      },
      "execution_count": 29,
      "outputs": [
        {
          "output_type": "display_data",
          "data": {
            "text/html": [
              "<html>\n",
              "<head><meta charset=\"utf-8\" /></head>\n",
              "<body>\n",
              "    <div>            <script src=\"https://cdnjs.cloudflare.com/ajax/libs/mathjax/2.7.5/MathJax.js?config=TeX-AMS-MML_SVG\"></script><script type=\"text/javascript\">if (window.MathJax && window.MathJax.Hub && window.MathJax.Hub.Config) {window.MathJax.Hub.Config({SVG: {font: \"STIX-Web\"}});}</script>                <script type=\"text/javascript\">window.PlotlyConfig = {MathJaxConfig: 'local'};</script>\n",
              "        <script src=\"https://cdn.plot.ly/plotly-2.18.2.min.js\"></script>                <div id=\"af0259db-5314-40fa-9848-4cfa749a00da\" class=\"plotly-graph-div\" style=\"height:525px; width:100%;\"></div>            <script type=\"text/javascript\">                                    window.PLOTLYENV=window.PLOTLYENV || {};                                    if (document.getElementById(\"af0259db-5314-40fa-9848-4cfa749a00da\")) {                    Plotly.newPlot(                        \"af0259db-5314-40fa-9848-4cfa749a00da\",                        [{\"colorscale\":[[0.0,\"#440154\"],[0.1111111111111111,\"#482878\"],[0.2222222222222222,\"#3e4989\"],[0.3333333333333333,\"#31688e\"],[0.4444444444444444,\"#26828e\"],[0.5555555555555556,\"#1f9e89\"],[0.6666666666666666,\"#35b779\"],[0.7777777777777778,\"#6ece58\"],[0.8888888888888888,\"#b5de2b\"],[1.0,\"#fde725\"]],\"hoverinfo\":\"z\",\"reversescale\":false,\"showscale\":false,\"x\":[\"CHILDREN\",\"Annual_income\",\"Family_Members\",\"AGE\",\"WORKTERM\"],\"y\":[\"CHILDREN\",\"Annual_income\",\"Family_Members\",\"AGE\",\"WORKTERM\"],\"z\":[[1.0,0.06331793729223388,0.8196848365942117,-0.3529030526413693,0.16664747686215117],[0.06331793729223388,1.0,0.04074781674339347,-0.11193782387382281,0.1692658941991364],[0.8196848365942117,0.04074781674339347,1.0,-0.28986991032029075,0.18483332818980366],[-0.3529030526413693,-0.11193782387382281,-0.28986991032029075,1.0,-0.22851094350659187],[0.16664747686215117,0.1692658941991364,0.18483332818980366,-0.22851094350659187,1.0]],\"type\":\"heatmap\"}],                        {\"annotations\":[{\"font\":{\"color\":\"#000000\"},\"showarrow\":false,\"text\":\"1.0\",\"x\":\"CHILDREN\",\"xref\":\"x\",\"y\":\"CHILDREN\",\"yref\":\"y\"},{\"font\":{\"color\":\"#FFFFFF\"},\"showarrow\":false,\"text\":\"0.06\",\"x\":\"Annual_income\",\"xref\":\"x\",\"y\":\"CHILDREN\",\"yref\":\"y\"},{\"font\":{\"color\":\"#000000\"},\"showarrow\":false,\"text\":\"0.82\",\"x\":\"Family_Members\",\"xref\":\"x\",\"y\":\"CHILDREN\",\"yref\":\"y\"},{\"font\":{\"color\":\"#FFFFFF\"},\"showarrow\":false,\"text\":\"-0.35\",\"x\":\"AGE\",\"xref\":\"x\",\"y\":\"CHILDREN\",\"yref\":\"y\"},{\"font\":{\"color\":\"#FFFFFF\"},\"showarrow\":false,\"text\":\"0.17\",\"x\":\"WORKTERM\",\"xref\":\"x\",\"y\":\"CHILDREN\",\"yref\":\"y\"},{\"font\":{\"color\":\"#FFFFFF\"},\"showarrow\":false,\"text\":\"0.06\",\"x\":\"CHILDREN\",\"xref\":\"x\",\"y\":\"Annual_income\",\"yref\":\"y\"},{\"font\":{\"color\":\"#000000\"},\"showarrow\":false,\"text\":\"1.0\",\"x\":\"Annual_income\",\"xref\":\"x\",\"y\":\"Annual_income\",\"yref\":\"y\"},{\"font\":{\"color\":\"#FFFFFF\"},\"showarrow\":false,\"text\":\"0.04\",\"x\":\"Family_Members\",\"xref\":\"x\",\"y\":\"Annual_income\",\"yref\":\"y\"},{\"font\":{\"color\":\"#FFFFFF\"},\"showarrow\":false,\"text\":\"-0.11\",\"x\":\"AGE\",\"xref\":\"x\",\"y\":\"Annual_income\",\"yref\":\"y\"},{\"font\":{\"color\":\"#FFFFFF\"},\"showarrow\":false,\"text\":\"0.17\",\"x\":\"WORKTERM\",\"xref\":\"x\",\"y\":\"Annual_income\",\"yref\":\"y\"},{\"font\":{\"color\":\"#000000\"},\"showarrow\":false,\"text\":\"0.82\",\"x\":\"CHILDREN\",\"xref\":\"x\",\"y\":\"Family_Members\",\"yref\":\"y\"},{\"font\":{\"color\":\"#FFFFFF\"},\"showarrow\":false,\"text\":\"0.04\",\"x\":\"Annual_income\",\"xref\":\"x\",\"y\":\"Family_Members\",\"yref\":\"y\"},{\"font\":{\"color\":\"#000000\"},\"showarrow\":false,\"text\":\"1.0\",\"x\":\"Family_Members\",\"xref\":\"x\",\"y\":\"Family_Members\",\"yref\":\"y\"},{\"font\":{\"color\":\"#FFFFFF\"},\"showarrow\":false,\"text\":\"-0.29\",\"x\":\"AGE\",\"xref\":\"x\",\"y\":\"Family_Members\",\"yref\":\"y\"},{\"font\":{\"color\":\"#FFFFFF\"},\"showarrow\":false,\"text\":\"0.18\",\"x\":\"WORKTERM\",\"xref\":\"x\",\"y\":\"Family_Members\",\"yref\":\"y\"},{\"font\":{\"color\":\"#FFFFFF\"},\"showarrow\":false,\"text\":\"-0.35\",\"x\":\"CHILDREN\",\"xref\":\"x\",\"y\":\"AGE\",\"yref\":\"y\"},{\"font\":{\"color\":\"#FFFFFF\"},\"showarrow\":false,\"text\":\"-0.11\",\"x\":\"Annual_income\",\"xref\":\"x\",\"y\":\"AGE\",\"yref\":\"y\"},{\"font\":{\"color\":\"#FFFFFF\"},\"showarrow\":false,\"text\":\"-0.29\",\"x\":\"Family_Members\",\"xref\":\"x\",\"y\":\"AGE\",\"yref\":\"y\"},{\"font\":{\"color\":\"#000000\"},\"showarrow\":false,\"text\":\"1.0\",\"x\":\"AGE\",\"xref\":\"x\",\"y\":\"AGE\",\"yref\":\"y\"},{\"font\":{\"color\":\"#FFFFFF\"},\"showarrow\":false,\"text\":\"-0.23\",\"x\":\"WORKTERM\",\"xref\":\"x\",\"y\":\"AGE\",\"yref\":\"y\"},{\"font\":{\"color\":\"#FFFFFF\"},\"showarrow\":false,\"text\":\"0.17\",\"x\":\"CHILDREN\",\"xref\":\"x\",\"y\":\"WORKTERM\",\"yref\":\"y\"},{\"font\":{\"color\":\"#FFFFFF\"},\"showarrow\":false,\"text\":\"0.17\",\"x\":\"Annual_income\",\"xref\":\"x\",\"y\":\"WORKTERM\",\"yref\":\"y\"},{\"font\":{\"color\":\"#FFFFFF\"},\"showarrow\":false,\"text\":\"0.18\",\"x\":\"Family_Members\",\"xref\":\"x\",\"y\":\"WORKTERM\",\"yref\":\"y\"},{\"font\":{\"color\":\"#FFFFFF\"},\"showarrow\":false,\"text\":\"-0.23\",\"x\":\"AGE\",\"xref\":\"x\",\"y\":\"WORKTERM\",\"yref\":\"y\"},{\"font\":{\"color\":\"#000000\"},\"showarrow\":false,\"text\":\"1.0\",\"x\":\"WORKTERM\",\"xref\":\"x\",\"y\":\"WORKTERM\",\"yref\":\"y\"}],\"xaxis\":{\"dtick\":1,\"gridcolor\":\"rgb(0, 0, 0)\",\"side\":\"top\",\"ticks\":\"\"},\"yaxis\":{\"dtick\":1,\"ticks\":\"\",\"ticksuffix\":\"  \"},\"template\":{\"data\":{\"histogram2dcontour\":[{\"type\":\"histogram2dcontour\",\"colorbar\":{\"outlinewidth\":0,\"ticks\":\"\"},\"colorscale\":[[0.0,\"#0d0887\"],[0.1111111111111111,\"#46039f\"],[0.2222222222222222,\"#7201a8\"],[0.3333333333333333,\"#9c179e\"],[0.4444444444444444,\"#bd3786\"],[0.5555555555555556,\"#d8576b\"],[0.6666666666666666,\"#ed7953\"],[0.7777777777777778,\"#fb9f3a\"],[0.8888888888888888,\"#fdca26\"],[1.0,\"#f0f921\"]]}],\"choropleth\":[{\"type\":\"choropleth\",\"colorbar\":{\"outlinewidth\":0,\"ticks\":\"\"}}],\"histogram2d\":[{\"type\":\"histogram2d\",\"colorbar\":{\"outlinewidth\":0,\"ticks\":\"\"},\"colorscale\":[[0.0,\"#0d0887\"],[0.1111111111111111,\"#46039f\"],[0.2222222222222222,\"#7201a8\"],[0.3333333333333333,\"#9c179e\"],[0.4444444444444444,\"#bd3786\"],[0.5555555555555556,\"#d8576b\"],[0.6666666666666666,\"#ed7953\"],[0.7777777777777778,\"#fb9f3a\"],[0.8888888888888888,\"#fdca26\"],[1.0,\"#f0f921\"]]}],\"heatmap\":[{\"type\":\"heatmap\",\"colorbar\":{\"outlinewidth\":0,\"ticks\":\"\"},\"colorscale\":[[0.0,\"#0d0887\"],[0.1111111111111111,\"#46039f\"],[0.2222222222222222,\"#7201a8\"],[0.3333333333333333,\"#9c179e\"],[0.4444444444444444,\"#bd3786\"],[0.5555555555555556,\"#d8576b\"],[0.6666666666666666,\"#ed7953\"],[0.7777777777777778,\"#fb9f3a\"],[0.8888888888888888,\"#fdca26\"],[1.0,\"#f0f921\"]]}],\"heatmapgl\":[{\"type\":\"heatmapgl\",\"colorbar\":{\"outlinewidth\":0,\"ticks\":\"\"},\"colorscale\":[[0.0,\"#0d0887\"],[0.1111111111111111,\"#46039f\"],[0.2222222222222222,\"#7201a8\"],[0.3333333333333333,\"#9c179e\"],[0.4444444444444444,\"#bd3786\"],[0.5555555555555556,\"#d8576b\"],[0.6666666666666666,\"#ed7953\"],[0.7777777777777778,\"#fb9f3a\"],[0.8888888888888888,\"#fdca26\"],[1.0,\"#f0f921\"]]}],\"contourcarpet\":[{\"type\":\"contourcarpet\",\"colorbar\":{\"outlinewidth\":0,\"ticks\":\"\"}}],\"contour\":[{\"type\":\"contour\",\"colorbar\":{\"outlinewidth\":0,\"ticks\":\"\"},\"colorscale\":[[0.0,\"#0d0887\"],[0.1111111111111111,\"#46039f\"],[0.2222222222222222,\"#7201a8\"],[0.3333333333333333,\"#9c179e\"],[0.4444444444444444,\"#bd3786\"],[0.5555555555555556,\"#d8576b\"],[0.6666666666666666,\"#ed7953\"],[0.7777777777777778,\"#fb9f3a\"],[0.8888888888888888,\"#fdca26\"],[1.0,\"#f0f921\"]]}],\"surface\":[{\"type\":\"surface\",\"colorbar\":{\"outlinewidth\":0,\"ticks\":\"\"},\"colorscale\":[[0.0,\"#0d0887\"],[0.1111111111111111,\"#46039f\"],[0.2222222222222222,\"#7201a8\"],[0.3333333333333333,\"#9c179e\"],[0.4444444444444444,\"#bd3786\"],[0.5555555555555556,\"#d8576b\"],[0.6666666666666666,\"#ed7953\"],[0.7777777777777778,\"#fb9f3a\"],[0.8888888888888888,\"#fdca26\"],[1.0,\"#f0f921\"]]}],\"mesh3d\":[{\"type\":\"mesh3d\",\"colorbar\":{\"outlinewidth\":0,\"ticks\":\"\"}}],\"scatter\":[{\"fillpattern\":{\"fillmode\":\"overlay\",\"size\":10,\"solidity\":0.2},\"type\":\"scatter\"}],\"parcoords\":[{\"type\":\"parcoords\",\"line\":{\"colorbar\":{\"outlinewidth\":0,\"ticks\":\"\"}}}],\"scatterpolargl\":[{\"type\":\"scatterpolargl\",\"marker\":{\"colorbar\":{\"outlinewidth\":0,\"ticks\":\"\"}}}],\"bar\":[{\"error_x\":{\"color\":\"#2a3f5f\"},\"error_y\":{\"color\":\"#2a3f5f\"},\"marker\":{\"line\":{\"color\":\"#E5ECF6\",\"width\":0.5},\"pattern\":{\"fillmode\":\"overlay\",\"size\":10,\"solidity\":0.2}},\"type\":\"bar\"}],\"scattergeo\":[{\"type\":\"scattergeo\",\"marker\":{\"colorbar\":{\"outlinewidth\":0,\"ticks\":\"\"}}}],\"scatterpolar\":[{\"type\":\"scatterpolar\",\"marker\":{\"colorbar\":{\"outlinewidth\":0,\"ticks\":\"\"}}}],\"histogram\":[{\"marker\":{\"pattern\":{\"fillmode\":\"overlay\",\"size\":10,\"solidity\":0.2}},\"type\":\"histogram\"}],\"scattergl\":[{\"type\":\"scattergl\",\"marker\":{\"colorbar\":{\"outlinewidth\":0,\"ticks\":\"\"}}}],\"scatter3d\":[{\"type\":\"scatter3d\",\"line\":{\"colorbar\":{\"outlinewidth\":0,\"ticks\":\"\"}},\"marker\":{\"colorbar\":{\"outlinewidth\":0,\"ticks\":\"\"}}}],\"scattermapbox\":[{\"type\":\"scattermapbox\",\"marker\":{\"colorbar\":{\"outlinewidth\":0,\"ticks\":\"\"}}}],\"scatterternary\":[{\"type\":\"scatterternary\",\"marker\":{\"colorbar\":{\"outlinewidth\":0,\"ticks\":\"\"}}}],\"scattercarpet\":[{\"type\":\"scattercarpet\",\"marker\":{\"colorbar\":{\"outlinewidth\":0,\"ticks\":\"\"}}}],\"carpet\":[{\"aaxis\":{\"endlinecolor\":\"#2a3f5f\",\"gridcolor\":\"white\",\"linecolor\":\"white\",\"minorgridcolor\":\"white\",\"startlinecolor\":\"#2a3f5f\"},\"baxis\":{\"endlinecolor\":\"#2a3f5f\",\"gridcolor\":\"white\",\"linecolor\":\"white\",\"minorgridcolor\":\"white\",\"startlinecolor\":\"#2a3f5f\"},\"type\":\"carpet\"}],\"table\":[{\"cells\":{\"fill\":{\"color\":\"#EBF0F8\"},\"line\":{\"color\":\"white\"}},\"header\":{\"fill\":{\"color\":\"#C8D4E3\"},\"line\":{\"color\":\"white\"}},\"type\":\"table\"}],\"barpolar\":[{\"marker\":{\"line\":{\"color\":\"#E5ECF6\",\"width\":0.5},\"pattern\":{\"fillmode\":\"overlay\",\"size\":10,\"solidity\":0.2}},\"type\":\"barpolar\"}],\"pie\":[{\"automargin\":true,\"type\":\"pie\"}]},\"layout\":{\"autotypenumbers\":\"strict\",\"colorway\":[\"#636efa\",\"#EF553B\",\"#00cc96\",\"#ab63fa\",\"#FFA15A\",\"#19d3f3\",\"#FF6692\",\"#B6E880\",\"#FF97FF\",\"#FECB52\"],\"font\":{\"color\":\"#2a3f5f\"},\"hovermode\":\"closest\",\"hoverlabel\":{\"align\":\"left\"},\"paper_bgcolor\":\"white\",\"plot_bgcolor\":\"#E5ECF6\",\"polar\":{\"bgcolor\":\"#E5ECF6\",\"angularaxis\":{\"gridcolor\":\"white\",\"linecolor\":\"white\",\"ticks\":\"\"},\"radialaxis\":{\"gridcolor\":\"white\",\"linecolor\":\"white\",\"ticks\":\"\"}},\"ternary\":{\"bgcolor\":\"#E5ECF6\",\"aaxis\":{\"gridcolor\":\"white\",\"linecolor\":\"white\",\"ticks\":\"\"},\"baxis\":{\"gridcolor\":\"white\",\"linecolor\":\"white\",\"ticks\":\"\"},\"caxis\":{\"gridcolor\":\"white\",\"linecolor\":\"white\",\"ticks\":\"\"}},\"coloraxis\":{\"colorbar\":{\"outlinewidth\":0,\"ticks\":\"\"}},\"colorscale\":{\"sequential\":[[0.0,\"#0d0887\"],[0.1111111111111111,\"#46039f\"],[0.2222222222222222,\"#7201a8\"],[0.3333333333333333,\"#9c179e\"],[0.4444444444444444,\"#bd3786\"],[0.5555555555555556,\"#d8576b\"],[0.6666666666666666,\"#ed7953\"],[0.7777777777777778,\"#fb9f3a\"],[0.8888888888888888,\"#fdca26\"],[1.0,\"#f0f921\"]],\"sequentialminus\":[[0.0,\"#0d0887\"],[0.1111111111111111,\"#46039f\"],[0.2222222222222222,\"#7201a8\"],[0.3333333333333333,\"#9c179e\"],[0.4444444444444444,\"#bd3786\"],[0.5555555555555556,\"#d8576b\"],[0.6666666666666666,\"#ed7953\"],[0.7777777777777778,\"#fb9f3a\"],[0.8888888888888888,\"#fdca26\"],[1.0,\"#f0f921\"]],\"diverging\":[[0,\"#8e0152\"],[0.1,\"#c51b7d\"],[0.2,\"#de77ae\"],[0.3,\"#f1b6da\"],[0.4,\"#fde0ef\"],[0.5,\"#f7f7f7\"],[0.6,\"#e6f5d0\"],[0.7,\"#b8e186\"],[0.8,\"#7fbc41\"],[0.9,\"#4d9221\"],[1,\"#276419\"]]},\"xaxis\":{\"gridcolor\":\"white\",\"linecolor\":\"white\",\"ticks\":\"\",\"title\":{\"standoff\":15},\"zerolinecolor\":\"white\",\"automargin\":true,\"zerolinewidth\":2},\"yaxis\":{\"gridcolor\":\"white\",\"linecolor\":\"white\",\"ticks\":\"\",\"title\":{\"standoff\":15},\"zerolinecolor\":\"white\",\"automargin\":true,\"zerolinewidth\":2},\"scene\":{\"xaxis\":{\"backgroundcolor\":\"#E5ECF6\",\"gridcolor\":\"white\",\"linecolor\":\"white\",\"showbackground\":true,\"ticks\":\"\",\"zerolinecolor\":\"white\",\"gridwidth\":2},\"yaxis\":{\"backgroundcolor\":\"#E5ECF6\",\"gridcolor\":\"white\",\"linecolor\":\"white\",\"showbackground\":true,\"ticks\":\"\",\"zerolinecolor\":\"white\",\"gridwidth\":2},\"zaxis\":{\"backgroundcolor\":\"#E5ECF6\",\"gridcolor\":\"white\",\"linecolor\":\"white\",\"showbackground\":true,\"ticks\":\"\",\"zerolinecolor\":\"white\",\"gridwidth\":2}},\"shapedefaults\":{\"line\":{\"color\":\"#2a3f5f\"}},\"annotationdefaults\":{\"arrowcolor\":\"#2a3f5f\",\"arrowhead\":0,\"arrowwidth\":1},\"geo\":{\"bgcolor\":\"white\",\"landcolor\":\"#E5ECF6\",\"subunitcolor\":\"white\",\"showland\":true,\"showlakes\":true,\"lakecolor\":\"white\"},\"title\":{\"x\":0.05},\"mapbox\":{\"style\":\"light\"}}}},                        {\"responsive\": true}                    ).then(function(){\n",
              "                            \n",
              "var gd = document.getElementById('af0259db-5314-40fa-9848-4cfa749a00da');\n",
              "var x = new MutationObserver(function (mutations, observer) {{\n",
              "        var display = window.getComputedStyle(gd).display;\n",
              "        if (!display || display === 'none') {{\n",
              "            console.log([gd, 'removed!']);\n",
              "            Plotly.purge(gd);\n",
              "            observer.disconnect();\n",
              "        }}\n",
              "}});\n",
              "\n",
              "// Listen for the removal of the full notebook cells\n",
              "var notebookContainer = gd.closest('#notebook-container');\n",
              "if (notebookContainer) {{\n",
              "    x.observe(notebookContainer, {childList: true});\n",
              "}}\n",
              "\n",
              "// Listen for the clearing of the current output cell\n",
              "var outputEl = gd.closest('.output');\n",
              "if (outputEl) {{\n",
              "    x.observe(outputEl, {childList: true});\n",
              "}}\n",
              "\n",
              "                        })                };                            </script>        </div>\n",
              "</body>\n",
              "</html>"
            ]
          },
          "metadata": {}
        }
      ]
    },
    {
      "cell_type": "code",
      "source": [
        "plt.figure(figsize=(5,5))\n",
        "sns.countplot(x='GENDER', data=credit_card,hue='label')\n",
        "plt.title('Distribution of each gender')\n",
        "plt.show()"
      ],
      "metadata": {
        "colab": {
          "base_uri": "https://localhost:8080/",
          "height": 350
        },
        "id": "BRA-uGLxYRPO",
        "outputId": "434e7402-f9a6-4e65-e954-45631017b635"
      },
      "execution_count": 30,
      "outputs": [
        {
          "output_type": "display_data",
          "data": {
            "text/plain": [
              "<Figure size 360x360 with 1 Axes>"
            ],
            "image/png": "[encoded data removed]"
          },
          "metadata": {
            "needs_background": "light"
          }
        }
      ]
    },
    {
      "cell_type": "code",
      "source": [
        "plt.figure(figsize=(5,5))\n",
        "sns.countplot(x='Car_Owner', data=credit_card,hue='label')\n",
        "plt.title('Distribution of Car Owner or Not')\n",
        "plt.show()"
      ],
      "metadata": {
        "colab": {
          "base_uri": "https://localhost:8080/",
          "height": 351
        },
        "id": "_QmqsyfCCTxx",
        "outputId": "bb2dcebf-158b-4242-c21d-ea31748dba0a"
      },
      "execution_count": 31,
      "outputs": [
        {
          "output_type": "display_data",
          "data": {
            "text/plain": [
              "<Figure size 360x360 with 1 Axes>"
            ],
            "image/png": "[encoded data removed]"
          },
          "metadata": {
            "needs_background": "light"
          }
        }
      ]
    },
    {
      "cell_type": "code",
      "source": [
        "plt.figure(figsize=(5,5))\n",
        "sns.countplot(x='Propert_Owner', data=credit_card,hue='label')\n",
        "plt.title('Distribution of Property Owner or Not')\n",
        "plt.show()"
      ],
      "metadata": {
        "colab": {
          "base_uri": "https://localhost:8080/",
          "height": 351
        },
        "id": "ksS44YvoCdey",
        "outputId": "67ee7249-90fc-4645-f58a-bd68a73962b1"
      },
      "execution_count": 32,
      "outputs": [
        {
          "output_type": "display_data",
          "data": {
            "text/plain": [
              "<Figure size 360x360 with 1 Axes>"
            ],
            "image/png": "[encoded data removed]"
          },
          "metadata": {
            "needs_background": "light"
          }
        }
      ]
    },
    {
      "cell_type": "code",
      "source": [
        "plt.figure(figsize=(10,5))\n",
        "sns.countplot(x='Type_Income', data=credit_card,hue='label')\n",
        "plt.title('Distribution of Type Income')\n",
        "plt.show()"
      ],
      "metadata": {
        "colab": {
          "base_uri": "https://localhost:8080/",
          "height": 351
        },
        "id": "TyjYh_w2Col3",
        "outputId": "dfeb7806-17f2-47c8-d6ad-63d3f878acc6"
      },
      "execution_count": 33,
      "outputs": [
        {
          "output_type": "display_data",
          "data": {
            "text/plain": [
              "<Figure size 720x360 with 1 Axes>"
            ],
            "image/png": "[encoded data removed]"
          },
          "metadata": {
            "needs_background": "light"
          }
        }
      ]
    },
    {
      "cell_type": "code",
      "source": [
        "plt.figure(figsize=(10,5))\n",
        "sns.countplot(x='EDUCATION', data=credit_card,hue='label')\n",
        "plt.title('Distribution of Type Income')\n",
        "plt.show()"
      ],
      "metadata": {
        "colab": {
          "base_uri": "https://localhost:8080/",
          "height": 350
        },
        "id": "jAEcVYTmCw0Y",
        "outputId": "f4c811aa-bcff-43b4-ed4e-3ad44ae9b3eb"
      },
      "execution_count": 34,
      "outputs": [
        {
          "output_type": "display_data",
          "data": {
            "text/plain": [
              "<Figure size 720x360 with 1 Axes>"
            ],
            "image/png": "[encoded data removed]"
          },
          "metadata": {
            "needs_background": "light"
          }
        }
      ]
    },
    {
      "cell_type": "code",
      "source": [
        "plt.figure(figsize=(10,5))\n",
        "sns.countplot(x='Marital_status', data=credit_card,hue='label')\n",
        "plt.title('Distribution of Type status')\n",
        "plt.show()"
      ],
      "metadata": {
        "colab": {
          "base_uri": "https://localhost:8080/",
          "height": 351
        },
        "id": "lV91h5uEYfnJ",
        "outputId": "18f7c4f9-b72d-452d-832b-4b37e1ab3e10"
      },
      "execution_count": 35,
      "outputs": [
        {
          "output_type": "display_data",
          "data": {
            "text/plain": [
              "<Figure size 720x360 with 1 Axes>"
            ],
            "image/png": "[encoded data removed]"
          },
          "metadata": {
            "needs_background": "light"
          }
        }
      ]
    },
    {
      "cell_type": "code",
      "source": [
        "plt.figure(figsize=(20,10))\n",
        "sns.countplot(x='Housing_type', data=credit_card,hue='label')\n",
        "plt.title('Distribution of each Housing type')\n",
        "plt.show()"
      ],
      "metadata": {
        "colab": {
          "base_uri": "https://localhost:8080/",
          "height": 590
        },
        "id": "-rsflWINC2Vq",
        "outputId": "7c5c3b6b-c8f6-4c75-bfa7-7812417c09a0"
      },
      "execution_count": 36,
      "outputs": [
        {
          "output_type": "display_data",
          "data": {
            "text/plain": [
              "<Figure size 1440x720 with 1 Axes>"
            ],
            "image/png": "[encoded data removed]"
          },
          "metadata": {
            "needs_background": "light"
          }
        }
      ]
    },
    {
      "cell_type": "code",
      "source": [
        "plt.figure(figsize=(5,5))\n",
        "sns.countplot(x='Work_Phone', data=credit_card,hue='label')\n",
        "plt.title('Distribution of having Work Phone or Not')\n",
        "plt.show()"
      ],
      "metadata": {
        "colab": {
          "base_uri": "https://localhost:8080/",
          "height": 351
        },
        "id": "0XH9UkW-DZXI",
        "outputId": "c4da08b9-5459-4a7d-f3a7-467389f6d59e"
      },
      "execution_count": 37,
      "outputs": [
        {
          "output_type": "display_data",
          "data": {
            "text/plain": [
              "<Figure size 360x360 with 1 Axes>"
            ],
            "image/png": "[encoded data removed]"
          },
          "metadata": {
            "needs_background": "light"
          }
        }
      ]
    },
    {
      "cell_type": "code",
      "source": [
        "plt.figure(figsize=(5,5))\n",
        "sns.countplot(x='Phone', data=credit_card,hue='label')\n",
        "plt.title('Distribution of having any Phone number or Not')\n",
        "plt.show()"
      ],
      "metadata": {
        "colab": {
          "base_uri": "https://localhost:8080/",
          "height": 350
        },
        "id": "m_NRghf3DeaE",
        "outputId": "6f41ee5d-fb9c-4f58-999c-2330ebb5da59"
      },
      "execution_count": 38,
      "outputs": [
        {
          "output_type": "display_data",
          "data": {
            "text/plain": [
              "<Figure size 360x360 with 1 Axes>"
            ],
            "image/png": "[encoded data removed]"
          },
          "metadata": {
            "needs_background": "light"
          }
        }
      ]
    },
    {
      "cell_type": "code",
      "source": [],
      "metadata": {
        "id": "26jc2O9iDlFT"
      },
      "execution_count": null,
      "outputs": []
    },
    {
      "cell_type": "code",
      "source": [
        "plt.figure(figsize=(5,5))\n",
        "sns.countplot(x='Work_Phone', data=credit_card,hue='label')\n",
        "plt.title('Distribution of having Work Phone or Not')\n",
        "plt.show()"
      ],
      "metadata": {
        "colab": {
          "base_uri": "https://localhost:8080/",
          "height": 351
        },
        "id": "5keP-mupDnqV",
        "outputId": "17e5a123-f780-404c-a90e-b90019c0efd3"
      },
      "execution_count": 39,
      "outputs": [
        {
          "output_type": "display_data",
          "data": {
            "text/plain": [
              "<Figure size 360x360 with 1 Axes>"
            ],
            "image/png": "[encoded data removed]"
          },
          "metadata": {
            "needs_background": "light"
          }
        }
      ]
    },
    {
      "cell_type": "code",
      "source": [
        "plt.figure(figsize=(5,5))\n",
        "sns.countplot(x='EMAIL_ID', data=credit_card,hue='label')\n",
        "plt.title('Distribution of having any EMAIL ID or Not')\n",
        "plt.show()"
      ],
      "metadata": {
        "colab": {
          "base_uri": "https://localhost:8080/",
          "height": 351
        },
        "id": "QrL_RakvD4LE",
        "outputId": "5733ea19-dea2-478b-b2fa-aa01b3e6f3cc"
      },
      "execution_count": 40,
      "outputs": [
        {
          "output_type": "display_data",
          "data": {
            "text/plain": [
              "<Figure size 360x360 with 1 Axes>"
            ],
            "image/png": "[encoded data removed]"
          },
          "metadata": {
            "needs_background": "light"
          }
        }
      ]
    },
    {
      "cell_type": "code",
      "source": [
        "plt.figure(figsize=(30,10))\n",
        "sns.countplot(x='Type_Occupation', data=credit_card,hue='label')\n",
        "plt.title('Distribution of Type of Occupation')\n",
        "plt.show()"
      ],
      "metadata": {
        "colab": {
          "base_uri": "https://localhost:8080/",
          "height": 405
        },
        "id": "V4DgR-VjD_SQ",
        "outputId": "4233f205-9a93-4638-fab8-ef40e0ae40ed"
      },
      "execution_count": 41,
      "outputs": [
        {
          "output_type": "display_data",
          "data": {
            "text/plain": [
              "<Figure size 2160x720 with 1 Axes>"
            ],
            "image/png": "[encoded data removed]"
          },
          "metadata": {
            "needs_background": "light"
          }
        }
      ]
    },
    {
      "cell_type": "markdown",
      "source": [
        "**Data Cleaning****"
      ],
      "metadata": {
        "id": "TNJhnfAMEHqL"
      }
    },
    {
      "cell_type": "markdown",
      "source": [
        "As overall missing values in Type_Occupation is more than 30% it is best to drop the feature\n"
      ],
      "metadata": {
        "id": "-9xCd5SgETXL"
      }
    },
    {
      "cell_type": "markdown",
      "source": [
        "# Dealing with categorical values\n"
      ],
      "metadata": {
        "id": "csx5Su7jEVWX"
      }
    },
    {
      "cell_type": "code",
      "source": [
        "credit_card_1 = pd.get_dummies(credit_card,columns= ['GENDER', 'Car_Owner', 'Propert_Owner','Marital_status', 'Type_Income','EDUCATION','Housing_type'])"
      ],
      "metadata": {
        "id": "SxDVqNe0EVki"
      },
      "execution_count": 42,
      "outputs": []
    },
    {
      "cell_type": "code",
      "source": [
        "credit_card_1.columns\n"
      ],
      "metadata": {
        "colab": {
          "base_uri": "https://localhost:8080/"
        },
        "id": "fdRSgoTLK8Mc",
        "outputId": "1120070b-8d1a-4063-a5b5-b41558c6aa2b"
      },
      "execution_count": 363,
      "outputs": [
        {
          "output_type": "execute_result",
          "data": {
            "text/plain": [
              "Index(['label', 'CHILDREN', 'Annual_income', 'Mobile_phone', 'Work_Phone',\n",
              "       'Phone', 'EMAIL_ID', 'Type_Occupation', 'Family_Members', 'AGE',\n",
              "       'WORKTERM', 'GENDER_F', 'GENDER_M', 'Car_Owner_N', 'Car_Owner_Y',\n",
              "       'Propert_Owner_N', 'Propert_Owner_Y', 'Marital_status_Civil marriage',\n",
              "       'Marital_status_Married', 'Marital_status_Separated',\n",
              "       'Marital_status_Single / not married', 'Marital_status_Widow',\n",
              "       'Type_Income_Commercial associate', 'Type_Income_Pensioner',\n",
              "       'Type_Income_State servant', 'Type_Income_Working',\n",
              "       'EDUCATION_Academic degree', 'EDUCATION_Higher education',\n",
              "       'EDUCATION_Incomplete higher', 'EDUCATION_Lower secondary',\n",
              "       'EDUCATION_Secondary / secondary special',\n",
              "       'Housing_type_Co-op apartment', 'Housing_type_House / apartment',\n",
              "       'Housing_type_Municipal apartment', 'Housing_type_Office apartment',\n",
              "       'Housing_type_Rented apartment', 'Housing_type_With parents'],\n",
              "      dtype='object')"
            ]
          },
          "metadata": {},
          "execution_count": 363
        }
      ]
    },
    {
      "cell_type": "code",
      "source": [
        "credit_card_1.drop(['GENDER_M','Car_Owner_Y','Propert_Owner_Y','Type_Income_Working','Marital_status_Widow','EDUCATION_Secondary / secondary special','Housing_type_With parents'],inplace=True,axis = 1)"
      ],
      "metadata": {
        "id": "g8rnugWvLA31"
      },
      "execution_count": 364,
      "outputs": []
    },
    {
      "cell_type": "markdown",
      "source": [
        "**Helper function** \n"
      ],
      "metadata": {
        "id": "a2Kd6eLsLkgy"
      }
    },
    {
      "cell_type": "code",
      "source": [
        "from datetime import date\n",
        "from datetime import timedelta\n",
        "\n",
        "def lowerCase(x):\n",
        "    return x.lower()\n",
        "\n",
        "#check duplicate data \n",
        "def check_duplicate(df):\n",
        "    if df.duplicated().all():\n",
        "        return  'There are duplicate Data in Data Frame Nedded To be  removed . ' \n",
        "    else :\n",
        "        return 'Data Is clean ,No Duplicate Data Found .'\n",
        "\n",
        "# def car_name(x):\n",
        "#     carname  = x.split(' ')[0]\n",
        "#     return carname\n",
        "\n",
        "# def car_model(x):\n",
        "#     y   = x.split(' ')[1:]\n",
        "#     carModel = ' '.join(y)\n",
        "#     return  carModel \n",
        "            \n",
        "# def getfreq(x):\n",
        "#     freq = x.split(' ')[-1]\n",
        "#     return freq\n",
        "\n",
        "def calc_day_of_birth (day_num):\n",
        "    today = date.today() \n",
        "    birthDay = (today + timedelta(days=day_num)).strftime('%Y-%m-%d')\n",
        "    return birthDay\n",
        "    \n",
        "def calc_day_of_employed(day_num):\n",
        "    today = date.today() \n",
        "    employedDay = (today + timedelta(days=day_num)).strftime('%Y-%m-%d')\n",
        "    result = 0\n",
        "    if employedDay > date.today().strftime('%Y-%m-%d') :\n",
        "         result = 0\n",
        "    else:\n",
        "         result = employedDay\n",
        "    return result\n",
        "\n",
        "def get_appartment(x):\n",
        "    if x == 'House / apartment' :\n",
        "       x= x.split(' /')[0]       \n",
        "    return x\n",
        "    \n",
        "def get_ducational_type(x):\n",
        "    if x == 'Secondary / secondary special' :\n",
        "       x= x.split(' /')[0]       \n",
        "    return x\n",
        "\n",
        "def get_label_for_data(x):\n",
        "    target = ''\n",
        "    if x in (2,3,4,5) :\n",
        "       target = 'YES' #risky\n",
        "    else:\n",
        "         target = 'NO'  #not risky\n",
        "\n",
        "    return target    \n",
        "\n",
        "def numerical_plotting(df, col, title, symb):\n",
        "    fig, ax = plt.subplots(2, 1, sharex=True, figsize=(8,5),gridspec_kw={\"height_ratios\": (.2, .8)})\n",
        "    ax[0].set_title(title,fontsize=18)\n",
        "    sns.boxplot(x=col, data=df, ax=ax[0])\n",
        "    ax[0].set(yticks=[])\n",
        "    sns.distplot(df[col],kde=True)\n",
        "    plt.xticks(rotation=45)\n",
        "    ax[1].set_xlabel(col, fontsize=16)\n",
        "    plt.axvline(df[col].mean(), color='darkgreen', linewidth=2.2, label='mean=' + str(np.round(df[col].mean(),1)) + symb)\n",
        "    plt.axvline(df[col].median(), color='red', linewidth=2.2, label='median='+ str(np.round(df[col].median(),1)) + symb)\n",
        "    plt.axvline(df[col].mode()[0], color='purple', linewidth=2.2, label='mode='+ str(df[col].mode()[0]) + symb)\n",
        "    plt.legend(bbox_to_anchor=(1, 1.03), ncol=1, fontsize=17, fancybox=True, shadow=True, frameon=True)\n",
        "    plt.tight_layout()\n",
        "    plt.show()   \n",
        "\n",
        "def categorical_plotting(df,col,title):\n",
        "    fig, ax = plt.subplots(figsize=(10,5))\n",
        "    ax=sns.countplot(x=col, data=df, palette='flare', order = df[col].value_counts().index)\n",
        "    ax.set_xticklabels(ax.get_xticklabels(), rotation=45)\n",
        "    ax.bar_label(ax.containers[0])\n",
        "    plt.title(title)\n",
        "    plt.show()\n",
        "\n",
        "def plot_feature_importance (x,model,Model_name):\n",
        "    plt.figure(figsize=(15,20))\n",
        "    columns_list = x.columns\n",
        "    model.feature_names = columns_list\n",
        "    plt.barh(model.feature_names,sorted(model.coef_))\n",
        "    plt.xticks(rotation=45);\n",
        "    plt.title('Feature Importance'+ Model_name)\n",
        "    plt.xlabel('Feature Importance (%)')\n",
        "    plt.show()\n",
        "def plot_feature_importance_2 (x,model,Model_name):\n",
        "    plt.figure(figsize=(15,20))\n",
        "    columns_list = x.columns\n",
        "    model.feature_names = columns_list\n",
        "    plt.barh(model.feature_names,sorted(model.feature_importances_))\n",
        "    plt.xticks(rotation=45);\n",
        "    plt.title('Feature Importance'+ Model_name)\n",
        "    plt.xlabel('Feature Importance (%)')\n",
        "    plt.show()\n",
        "\n",
        "def lr_plot(df, col_x, col_y, leg):\n",
        "    slope, intercept, r_value, p_value, std_err = stats.linregress(df[col_x],df[col_y])\n",
        "    sns.regplot(x=col_x, y = col_y, data=df, color='#0d98ba', line_kws={'label':\"y={0:.1f}x+{1:.1f}\".format(slope,intercept)})\n",
        "    plt.legend(loc=leg, ncol=1, fontsize=15, fancybox=True, shadow=True, frameon=True)\n",
        "    plt.title(col_y + ' VS ' + col_x)\n",
        "    plt.show()\n",
        "\n",
        "    return slope, intercept\n",
        "def average_plotting(df,col,output,number,title):\n",
        "    data_list = df[col].value_counts().index[:number].tolist()\n",
        "    plt.figure(figsize=(15,5))\n",
        "    ax=sns.barplot(x=col, y=output, data=df[df[col].isin(data_list)],order=data_list,palette='flare',ci=False,edgecolor=\"black\") \n",
        "    plt.xticks(rotation=45);\n",
        "    ax.bar_label(ax.containers[0])\n",
        "    plt.title(title)\n",
        "    plt.show()\n",
        "def draw_unique_value (df,title):\n",
        "    plt.figure(figsize=(10,5))\n",
        "    plt.title(title)\n",
        "    unique_counts = df.nunique().to_dict()\n",
        "    ax = sns.barplot(list(unique_counts.keys()), list(unique_counts.values()),palette='flare')\n",
        "    ax.bar_label(ax.containers[0])\n",
        "    plt.plot()"
      ],
      "metadata": {
        "id": "lzu5hYrVDWbL"
      },
      "execution_count": 52,
      "outputs": []
    },
    {
      "cell_type": "markdown",
      "source": [
        "trying to get new features or new column to our dataset to add more information to cover all possible factors for our model to get accurate result\n"
      ],
      "metadata": {
        "id": "rIHHg770Cmkl"
      }
    },
    {
      "cell_type": "code",
      "source": [
        "credit_df =pd.read_csv(\"/content/Credit_card.csv\")#reading url dataset\n",
        "label_df  = pd.read_csv(\"/content/Credit_card_label.csv\")#reading url dataset\n",
        "df = label_df.merge(credit_df, how='inner', on=['Ind_ID'])"
      ],
      "metadata": {
        "id": "SR4bwei8CkBQ"
      },
      "execution_count": 45,
      "outputs": []
    },
    {
      "cell_type": "code",
      "source": [
        "#get the day of birth for each person   \n",
        "df = df.dropna()\n",
        "df['Birthday_count'] = df['Birthday_count'].apply(calc_day_of_birth)\n",
        "#get the day of birth for each person   \n",
        "df['Employed_days']   = df['Employed_days'].apply(calc_day_of_employed)\n",
        "#enhance housing \n",
        "df['Housing_type'] = df['Housing_type'].apply(get_appartment)\n",
        "#enhance educational type\n",
        "df['EDUCATION'] =df['EDUCATION'].apply(get_ducational_type)\n",
        "df"
      ],
      "metadata": {
        "colab": {
          "base_uri": "https://localhost:8080/",
          "height": 574
        },
        "id": "hDxCUnelGRra",
        "outputId": "3483c689-1e3d-46bc-c2db-b314b10494fc"
      },
      "execution_count": 54,
      "outputs": [
        {
          "output_type": "execute_result",
          "data": {
            "text/plain": [
              "       Ind_ID  label GENDER Car_Owner Propert_Owner  CHILDREN  Annual_income  \\\n",
              "8     5010864      1      M         Y             Y         1       450000.0   \n",
              "9     5010868      1      M         Y             Y         1       450000.0   \n",
              "10    5010869      1      M         Y             Y         1       450000.0   \n",
              "11    5018498      1      F         Y             Y         0        90000.0   \n",
              "13    5018503      1      F         Y             Y         0        90000.0   \n",
              "...       ...    ...    ...       ...           ...       ...            ...   \n",
              "1540  5024049      0      F         Y             Y         1       144000.0   \n",
              "1542  5118268      0      M         Y             N         1       360000.0   \n",
              "1544  5023655      0      F         N             N         0       225000.0   \n",
              "1545  5115992      0      M         Y             Y         2       180000.0   \n",
              "1546  5118219      0      M         Y             N         0       270000.0   \n",
              "\n",
              "               Type_Income          EDUCATION        Marital_status  \\\n",
              "8     Commercial associate          Secondary               Married   \n",
              "9                Pensioner          Secondary               Married   \n",
              "10    Commercial associate          Secondary  Single / not married   \n",
              "11                 Working          Secondary               Married   \n",
              "13                 Working          Secondary               Married   \n",
              "...                    ...                ...                   ...   \n",
              "1540               Working   Higher education               Married   \n",
              "1542         State servant          Secondary               Married   \n",
              "1544  Commercial associate  Incomplete higher  Single / not married   \n",
              "1545               Working   Higher education               Married   \n",
              "1546               Working          Secondary        Civil marriage   \n",
              "\n",
              "     Housing_type Birthday_count Employed_days  Mobile_phone  Work_Phone  \\\n",
              "8           House     1973-06-17    2021-05-11             1           0   \n",
              "9           House     1973-06-17    2021-05-11             1           0   \n",
              "10          House     1973-06-17    2021-05-11             1           0   \n",
              "11          House     1971-05-02    2020-06-21             1           1   \n",
              "13          House     1971-05-02    2020-06-21             1           1   \n",
              "...           ...            ...           ...           ...         ...   \n",
              "1540        House     1987-11-21    2015-03-18             1           0   \n",
              "1542        House     1992-04-17    2013-07-14             1           0   \n",
              "1544        House     1995-03-18    2019-11-27             1           0   \n",
              "1545        House     1987-02-23    2016-06-07             1           0   \n",
              "1546        House     1981-05-07    2021-06-13             1           1   \n",
              "\n",
              "      Phone  EMAIL_ID Type_Occupation  Family_Members  \n",
              "8         1         1      Core staff               3  \n",
              "9         1         1      Core staff               3  \n",
              "10        1         1      Core staff               1  \n",
              "11        1         0   Cooking staff               2  \n",
              "13        1         0   Cooking staff               2  \n",
              "...     ...       ...             ...             ...  \n",
              "1540      0         0     Accountants               3  \n",
              "1542      1         0         Drivers               3  \n",
              "1544      0         0     Accountants               1  \n",
              "1545      0         0        Managers               4  \n",
              "1546      1         0         Drivers               2  \n",
              "\n",
              "[1025 rows x 19 columns]"
            ],
            "text/html": [
              "\n",
              "  <div id=\"df-5effc7a5-0479-44f4-8802-dec03115c5dc\">\n",
              "    <div class=\"colab-df-container\">\n",
              "      <div>\n",
              "<style scoped>\n",
              "    .dataframe tbody tr th:only-of-type {\n",
              "        vertical-align: middle;\n",
              "    }\n",
              "\n",
              "    .dataframe tbody tr th {\n",
              "        vertical-align: top;\n",
              "    }\n",
              "\n",
              "    .dataframe thead th {\n",
              "        text-align: right;\n",
              "    }\n",
              "</style>\n",
              "<table border=\"1\" class=\"dataframe\">\n",
              "  <thead>\n",
              "    <tr style=\"text-align: right;\">\n",
              "      <th></th>\n",
              "      <th>Ind_ID</th>\n",
              "      <th>label</th>\n",
              "      <th>GENDER</th>\n",
              "      <th>Car_Owner</th>\n",
              "      <th>Propert_Owner</th>\n",
              "      <th>CHILDREN</th>\n",
              "      <th>Annual_income</th>\n",
              "      <th>Type_Income</th>\n",
              "      <th>EDUCATION</th>\n",
              "      <th>Marital_status</th>\n",
              "      <th>Housing_type</th>\n",
              "      <th>Birthday_count</th>\n",
              "      <th>Employed_days</th>\n",
              "      <th>Mobile_phone</th>\n",
              "      <th>Work_Phone</th>\n",
              "      <th>Phone</th>\n",
              "      <th>EMAIL_ID</th>\n",
              "      <th>Type_Occupation</th>\n",
              "      <th>Family_Members</th>\n",
              "    </tr>\n",
              "  </thead>\n",
              "  <tbody>\n",
              "    <tr>\n",
              "      <th>8</th>\n",
              "      <td>5010864</td>\n",
              "      <td>1</td>\n",
              "      <td>M</td>\n",
              "      <td>Y</td>\n",
              "      <td>Y</td>\n",
              "      <td>1</td>\n",
              "      <td>450000.0</td>\n",
              "      <td>Commercial associate</td>\n",
              "      <td>Secondary</td>\n",
              "      <td>Married</td>\n",
              "      <td>House</td>\n",
              "      <td>1973-06-17</td>\n",
              "      <td>2021-05-11</td>\n",
              "      <td>1</td>\n",
              "      <td>0</td>\n",
              "      <td>1</td>\n",
              "      <td>1</td>\n",
              "      <td>Core staff</td>\n",
              "      <td>3</td>\n",
              "    </tr>\n",
              "    <tr>\n",
              "      <th>9</th>\n",
              "      <td>5010868</td>\n",
              "      <td>1</td>\n",
              "      <td>M</td>\n",
              "      <td>Y</td>\n",
              "      <td>Y</td>\n",
              "      <td>1</td>\n",
              "      <td>450000.0</td>\n",
              "      <td>Pensioner</td>\n",
              "      <td>Secondary</td>\n",
              "      <td>Married</td>\n",
              "      <td>House</td>\n",
              "      <td>1973-06-17</td>\n",
              "      <td>2021-05-11</td>\n",
              "      <td>1</td>\n",
              "      <td>0</td>\n",
              "      <td>1</td>\n",
              "      <td>1</td>\n",
              "      <td>Core staff</td>\n",
              "      <td>3</td>\n",
              "    </tr>\n",
              "    <tr>\n",
              "      <th>10</th>\n",
              "      <td>5010869</td>\n",
              "      <td>1</td>\n",
              "      <td>M</td>\n",
              "      <td>Y</td>\n",
              "      <td>Y</td>\n",
              "      <td>1</td>\n",
              "      <td>450000.0</td>\n",
              "      <td>Commercial associate</td>\n",
              "      <td>Secondary</td>\n",
              "      <td>Single / not married</td>\n",
              "      <td>House</td>\n",
              "      <td>1973-06-17</td>\n",
              "      <td>2021-05-11</td>\n",
              "      <td>1</td>\n",
              "      <td>0</td>\n",
              "      <td>1</td>\n",
              "      <td>1</td>\n",
              "      <td>Core staff</td>\n",
              "      <td>1</td>\n",
              "    </tr>\n",
              "    <tr>\n",
              "      <th>11</th>\n",
              "      <td>5018498</td>\n",
              "      <td>1</td>\n",
              "      <td>F</td>\n",
              "      <td>Y</td>\n",
              "      <td>Y</td>\n",
              "      <td>0</td>\n",
              "      <td>90000.0</td>\n",
              "      <td>Working</td>\n",
              "      <td>Secondary</td>\n",
              "      <td>Married</td>\n",
              "      <td>House</td>\n",
              "      <td>1971-05-02</td>\n",
              "      <td>2020-06-21</td>\n",
              "      <td>1</td>\n",
              "      <td>1</td>\n",
              "      <td>1</td>\n",
              "      <td>0</td>\n",
              "      <td>Cooking staff</td>\n",
              "      <td>2</td>\n",
              "    </tr>\n",
              "    <tr>\n",
              "      <th>13</th>\n",
              "      <td>5018503</td>\n",
              "      <td>1</td>\n",
              "      <td>F</td>\n",
              "      <td>Y</td>\n",
              "      <td>Y</td>\n",
              "      <td>0</td>\n",
              "      <td>90000.0</td>\n",
              "      <td>Working</td>\n",
              "      <td>Secondary</td>\n",
              "      <td>Married</td>\n",
              "      <td>House</td>\n",
              "      <td>1971-05-02</td>\n",
              "      <td>2020-06-21</td>\n",
              "      <td>1</td>\n",
              "      <td>1</td>\n",
              "      <td>1</td>\n",
              "      <td>0</td>\n",
              "      <td>Cooking staff</td>\n",
              "      <td>2</td>\n",
              "    </tr>\n",
              "    <tr>\n",
              "      <th>...</th>\n",
              "      <td>...</td>\n",
              "      <td>...</td>\n",
              "      <td>...</td>\n",
              "      <td>...</td>\n",
              "      <td>...</td>\n",
              "      <td>...</td>\n",
              "      <td>...</td>\n",
              "      <td>...</td>\n",
              "      <td>...</td>\n",
              "      <td>...</td>\n",
              "      <td>...</td>\n",
              "      <td>...</td>\n",
              "      <td>...</td>\n",
              "      <td>...</td>\n",
              "      <td>...</td>\n",
              "      <td>...</td>\n",
              "      <td>...</td>\n",
              "      <td>...</td>\n",
              "      <td>...</td>\n",
              "    </tr>\n",
              "    <tr>\n",
              "      <th>1540</th>\n",
              "      <td>5024049</td>\n",
              "      <td>0</td>\n",
              "      <td>F</td>\n",
              "      <td>Y</td>\n",
              "      <td>Y</td>\n",
              "      <td>1</td>\n",
              "      <td>144000.0</td>\n",
              "      <td>Working</td>\n",
              "      <td>Higher education</td>\n",
              "      <td>Married</td>\n",
              "      <td>House</td>\n",
              "      <td>1987-11-21</td>\n",
              "      <td>2015-03-18</td>\n",
              "      <td>1</td>\n",
              "      <td>0</td>\n",
              "      <td>0</td>\n",
              "      <td>0</td>\n",
              "      <td>Accountants</td>\n",
              "      <td>3</td>\n",
              "    </tr>\n",
              "    <tr>\n",
              "      <th>1542</th>\n",
              "      <td>5118268</td>\n",
              "      <td>0</td>\n",
              "      <td>M</td>\n",
              "      <td>Y</td>\n",
              "      <td>N</td>\n",
              "      <td>1</td>\n",
              "      <td>360000.0</td>\n",
              "      <td>State servant</td>\n",
              "      <td>Secondary</td>\n",
              "      <td>Married</td>\n",
              "      <td>House</td>\n",
              "      <td>1992-04-17</td>\n",
              "      <td>2013-07-14</td>\n",
              "      <td>1</td>\n",
              "      <td>0</td>\n",
              "      <td>1</td>\n",
              "      <td>0</td>\n",
              "      <td>Drivers</td>\n",
              "      <td>3</td>\n",
              "    </tr>\n",
              "    <tr>\n",
              "      <th>1544</th>\n",
              "      <td>5023655</td>\n",
              "      <td>0</td>\n",
              "      <td>F</td>\n",
              "      <td>N</td>\n",
              "      <td>N</td>\n",
              "      <td>0</td>\n",
              "      <td>225000.0</td>\n",
              "      <td>Commercial associate</td>\n",
              "      <td>Incomplete higher</td>\n",
              "      <td>Single / not married</td>\n",
              "      <td>House</td>\n",
              "      <td>1995-03-18</td>\n",
              "      <td>2019-11-27</td>\n",
              "      <td>1</td>\n",
              "      <td>0</td>\n",
              "      <td>0</td>\n",
              "      <td>0</td>\n",
              "      <td>Accountants</td>\n",
              "      <td>1</td>\n",
              "    </tr>\n",
              "    <tr>\n",
              "      <th>1545</th>\n",
              "      <td>5115992</td>\n",
              "      <td>0</td>\n",
              "      <td>M</td>\n",
              "      <td>Y</td>\n",
              "      <td>Y</td>\n",
              "      <td>2</td>\n",
              "      <td>180000.0</td>\n",
              "      <td>Working</td>\n",
              "      <td>Higher education</td>\n",
              "      <td>Married</td>\n",
              "      <td>House</td>\n",
              "      <td>1987-02-23</td>\n",
              "      <td>2016-06-07</td>\n",
              "      <td>1</td>\n",
              "      <td>0</td>\n",
              "      <td>0</td>\n",
              "      <td>0</td>\n",
              "      <td>Managers</td>\n",
              "      <td>4</td>\n",
              "    </tr>\n",
              "    <tr>\n",
              "      <th>1546</th>\n",
              "      <td>5118219</td>\n",
              "      <td>0</td>\n",
              "      <td>M</td>\n",
              "      <td>Y</td>\n",
              "      <td>N</td>\n",
              "      <td>0</td>\n",
              "      <td>270000.0</td>\n",
              "      <td>Working</td>\n",
              "      <td>Secondary</td>\n",
              "      <td>Civil marriage</td>\n",
              "      <td>House</td>\n",
              "      <td>1981-05-07</td>\n",
              "      <td>2021-06-13</td>\n",
              "      <td>1</td>\n",
              "      <td>1</td>\n",
              "      <td>1</td>\n",
              "      <td>0</td>\n",
              "      <td>Drivers</td>\n",
              "      <td>2</td>\n",
              "    </tr>\n",
              "  </tbody>\n",
              "</table>\n",
              "<p>1025 rows × 19 columns</p>\n",
              "</div>\n",
              "      <button class=\"colab-df-convert\" onclick=\"convertToInteractive('df-5effc7a5-0479-44f4-8802-dec03115c5dc')\"\n",
              "              title=\"Convert this dataframe to an interactive table.\"\n",
              "              style=\"display:none;\">\n",
              "        \n",
              "  <svg xmlns=\"http://www.w3.org/2000/svg\" height=\"24px\"viewBox=\"0 0 24 24\"\n",
              "       width=\"24px\">\n",
              "    <path d=\"M0 0h24v24H0V0z\" fill=\"none\"/>\n",
              "    <path d=\"M18.56 5.44l.94 2.06.94-2.06 2.06-.94-2.06-.94-.94-2.06-.94 2.06-2.06.94zm-11 1L8.5 8.5l.94-2.06 2.06-.94-2.06-.94L8.5 2.5l-.94 2.06-2.06.94zm10 10l.94 2.06.94-2.06 2.06-.94-2.06-.94-.94-2.06-.94 2.06-2.06.94z\"/><path d=\"M17.41 7.96l-1.37-1.37c-.4-.4-.92-.59-1.43-.59-.52 0-1.04.2-1.43.59L10.3 9.45l-7.72 7.72c-.78.78-.78 2.05 0 2.83L4 21.41c.39.39.9.59 1.41.59.51 0 1.02-.2 1.41-.59l7.78-7.78 2.81-2.81c.8-.78.8-2.07 0-2.86zM5.41 20L4 18.59l7.72-7.72 1.47 1.35L5.41 20z\"/>\n",
              "  </svg>\n",
              "      </button>\n",
              "      \n",
              "  <style>\n",
              "    .colab-df-container {\n",
              "      display:flex;\n",
              "      flex-wrap:wrap;\n",
              "      gap: 12px;\n",
              "    }\n",
              "\n",
              "    .colab-df-convert {\n",
              "      background-color: #E8F0FE;\n",
              "      border: none;\n",
              "      border-radius: 50%;\n",
              "      cursor: pointer;\n",
              "      display: none;\n",
              "      fill: #1967D2;\n",
              "      height: 32px;\n",
              "      padding: 0 0 0 0;\n",
              "      width: 32px;\n",
              "    }\n",
              "\n",
              "    .colab-df-convert:hover {\n",
              "      background-color: #E2EBFA;\n",
              "      box-shadow: 0px 1px 2px rgba(60, 64, 67, 0.3), 0px 1px 3px 1px rgba(60, 64, 67, 0.15);\n",
              "      fill: #174EA6;\n",
              "    }\n",
              "\n",
              "    [theme=dark] .colab-df-convert {\n",
              "      background-color: #3B4455;\n",
              "      fill: #D2E3FC;\n",
              "    }\n",
              "\n",
              "    [theme=dark] .colab-df-convert:hover {\n",
              "      background-color: #434B5C;\n",
              "      box-shadow: 0px 1px 3px 1px rgba(0, 0, 0, 0.15);\n",
              "      filter: drop-shadow(0px 1px 2px rgba(0, 0, 0, 0.3));\n",
              "      fill: #FFFFFF;\n",
              "    }\n",
              "  </style>\n",
              "\n",
              "      <script>\n",
              "        const buttonEl =\n",
              "          document.querySelector('#df-5effc7a5-0479-44f4-8802-dec03115c5dc button.colab-df-convert');\n",
              "        buttonEl.style.display =\n",
              "          google.colab.kernel.accessAllowed ? 'block' : 'none';\n",
              "\n",
              "        async function convertToInteractive(key) {\n",
              "          const element = document.querySelector('#df-5effc7a5-0479-44f4-8802-dec03115c5dc');\n",
              "          const dataTable =\n",
              "            await google.colab.kernel.invokeFunction('convertToInteractive',\n",
              "                                                     [key], {});\n",
              "          if (!dataTable) return;\n",
              "\n",
              "          const docLinkHtml = 'Like what you see? Visit the ' +\n",
              "            '<a target=\"_blank\" href=https://colab.research.google.com/notebooks/data_table.ipynb>data table notebook</a>'\n",
              "            + ' to learn more about interactive tables.';\n",
              "          element.innerHTML = '';\n",
              "          dataTable['output_type'] = 'display_data';\n",
              "          await google.colab.output.renderOutput(dataTable, element);\n",
              "          const docLink = document.createElement('div');\n",
              "          docLink.innerHTML = docLinkHtml;\n",
              "          element.appendChild(docLink);\n",
              "        }\n",
              "      </script>\n",
              "    </div>\n",
              "  </div>\n",
              "  "
            ]
          },
          "metadata": {},
          "execution_count": 54
        }
      ]
    },
    {
      "cell_type": "markdown",
      "source": [
        "We can replace NaN values with 0 to get rid of NaN values. This is done by using fillna() function. This function will check the NaN values in the dataframe columns and fill the given value."
      ],
      "metadata": {
        "id": "gbL16bDJH7y1"
      }
    },
    {
      "cell_type": "code",
      "source": [],
      "metadata": {
        "id": "98zvEC4FIHti"
      },
      "execution_count": null,
      "outputs": []
    },
    {
      "cell_type": "code",
      "source": [
        "df.fillna(0)"
      ],
      "metadata": {
        "colab": {
          "base_uri": "https://localhost:8080/",
          "height": 574
        },
        "id": "AXlWHmT0Hzi3",
        "outputId": "bfd1b444-9a2a-4628-b813-3623f0749a3f"
      },
      "execution_count": 56,
      "outputs": [
        {
          "output_type": "execute_result",
          "data": {
            "text/plain": [
              "       Ind_ID  label GENDER Car_Owner Propert_Owner  CHILDREN  Annual_income  \\\n",
              "8     5010864      1      M         Y             Y         1       450000.0   \n",
              "9     5010868      1      M         Y             Y         1       450000.0   \n",
              "10    5010869      1      M         Y             Y         1       450000.0   \n",
              "11    5018498      1      F         Y             Y         0        90000.0   \n",
              "13    5018503      1      F         Y             Y         0        90000.0   \n",
              "...       ...    ...    ...       ...           ...       ...            ...   \n",
              "1540  5024049      0      F         Y             Y         1       144000.0   \n",
              "1542  5118268      0      M         Y             N         1       360000.0   \n",
              "1544  5023655      0      F         N             N         0       225000.0   \n",
              "1545  5115992      0      M         Y             Y         2       180000.0   \n",
              "1546  5118219      0      M         Y             N         0       270000.0   \n",
              "\n",
              "               Type_Income          EDUCATION        Marital_status  \\\n",
              "8     Commercial associate          Secondary               Married   \n",
              "9                Pensioner          Secondary               Married   \n",
              "10    Commercial associate          Secondary  Single / not married   \n",
              "11                 Working          Secondary               Married   \n",
              "13                 Working          Secondary               Married   \n",
              "...                    ...                ...                   ...   \n",
              "1540               Working   Higher education               Married   \n",
              "1542         State servant          Secondary               Married   \n",
              "1544  Commercial associate  Incomplete higher  Single / not married   \n",
              "1545               Working   Higher education               Married   \n",
              "1546               Working          Secondary        Civil marriage   \n",
              "\n",
              "     Housing_type Birthday_count Employed_days  Mobile_phone  Work_Phone  \\\n",
              "8           House     1973-06-17    2021-05-11             1           0   \n",
              "9           House     1973-06-17    2021-05-11             1           0   \n",
              "10          House     1973-06-17    2021-05-11             1           0   \n",
              "11          House     1971-05-02    2020-06-21             1           1   \n",
              "13          House     1971-05-02    2020-06-21             1           1   \n",
              "...           ...            ...           ...           ...         ...   \n",
              "1540        House     1987-11-21    2015-03-18             1           0   \n",
              "1542        House     1992-04-17    2013-07-14             1           0   \n",
              "1544        House     1995-03-18    2019-11-27             1           0   \n",
              "1545        House     1987-02-23    2016-06-07             1           0   \n",
              "1546        House     1981-05-07    2021-06-13             1           1   \n",
              "\n",
              "      Phone  EMAIL_ID Type_Occupation  Family_Members  \n",
              "8         1         1      Core staff               3  \n",
              "9         1         1      Core staff               3  \n",
              "10        1         1      Core staff               1  \n",
              "11        1         0   Cooking staff               2  \n",
              "13        1         0   Cooking staff               2  \n",
              "...     ...       ...             ...             ...  \n",
              "1540      0         0     Accountants               3  \n",
              "1542      1         0         Drivers               3  \n",
              "1544      0         0     Accountants               1  \n",
              "1545      0         0        Managers               4  \n",
              "1546      1         0         Drivers               2  \n",
              "\n",
              "[1025 rows x 19 columns]"
            ],
            "text/html": [
              "\n",
              "  <div id=\"df-76f45e36-d766-45d7-8749-39ad5e6bc8f5\">\n",
              "    <div class=\"colab-df-container\">\n",
              "      <div>\n",
              "<style scoped>\n",
              "    .dataframe tbody tr th:only-of-type {\n",
              "        vertical-align: middle;\n",
              "    }\n",
              "\n",
              "    .dataframe tbody tr th {\n",
              "        vertical-align: top;\n",
              "    }\n",
              "\n",
              "    .dataframe thead th {\n",
              "        text-align: right;\n",
              "    }\n",
              "</style>\n",
              "<table border=\"1\" class=\"dataframe\">\n",
              "  <thead>\n",
              "    <tr style=\"text-align: right;\">\n",
              "      <th></th>\n",
              "      <th>Ind_ID</th>\n",
              "      <th>label</th>\n",
              "      <th>GENDER</th>\n",
              "      <th>Car_Owner</th>\n",
              "      <th>Propert_Owner</th>\n",
              "      <th>CHILDREN</th>\n",
              "      <th>Annual_income</th>\n",
              "      <th>Type_Income</th>\n",
              "      <th>EDUCATION</th>\n",
              "      <th>Marital_status</th>\n",
              "      <th>Housing_type</th>\n",
              "      <th>Birthday_count</th>\n",
              "      <th>Employed_days</th>\n",
              "      <th>Mobile_phone</th>\n",
              "      <th>Work_Phone</th>\n",
              "      <th>Phone</th>\n",
              "      <th>EMAIL_ID</th>\n",
              "      <th>Type_Occupation</th>\n",
              "      <th>Family_Members</th>\n",
              "    </tr>\n",
              "  </thead>\n",
              "  <tbody>\n",
              "    <tr>\n",
              "      <th>8</th>\n",
              "      <td>5010864</td>\n",
              "      <td>1</td>\n",
              "      <td>M</td>\n",
              "      <td>Y</td>\n",
              "      <td>Y</td>\n",
              "      <td>1</td>\n",
              "      <td>450000.0</td>\n",
              "      <td>Commercial associate</td>\n",
              "      <td>Secondary</td>\n",
              "      <td>Married</td>\n",
              "      <td>House</td>\n",
              "      <td>1973-06-17</td>\n",
              "      <td>2021-05-11</td>\n",
              "      <td>1</td>\n",
              "      <td>0</td>\n",
              "      <td>1</td>\n",
              "      <td>1</td>\n",
              "      <td>Core staff</td>\n",
              "      <td>3</td>\n",
              "    </tr>\n",
              "    <tr>\n",
              "      <th>9</th>\n",
              "      <td>5010868</td>\n",
              "      <td>1</td>\n",
              "      <td>M</td>\n",
              "      <td>Y</td>\n",
              "      <td>Y</td>\n",
              "      <td>1</td>\n",
              "      <td>450000.0</td>\n",
              "      <td>Pensioner</td>\n",
              "      <td>Secondary</td>\n",
              "      <td>Married</td>\n",
              "      <td>House</td>\n",
              "      <td>1973-06-17</td>\n",
              "      <td>2021-05-11</td>\n",
              "      <td>1</td>\n",
              "      <td>0</td>\n",
              "      <td>1</td>\n",
              "      <td>1</td>\n",
              "      <td>Core staff</td>\n",
              "      <td>3</td>\n",
              "    </tr>\n",
              "    <tr>\n",
              "      <th>10</th>\n",
              "      <td>5010869</td>\n",
              "      <td>1</td>\n",
              "      <td>M</td>\n",
              "      <td>Y</td>\n",
              "      <td>Y</td>\n",
              "      <td>1</td>\n",
              "      <td>450000.0</td>\n",
              "      <td>Commercial associate</td>\n",
              "      <td>Secondary</td>\n",
              "      <td>Single / not married</td>\n",
              "      <td>House</td>\n",
              "      <td>1973-06-17</td>\n",
              "      <td>2021-05-11</td>\n",
              "      <td>1</td>\n",
              "      <td>0</td>\n",
              "      <td>1</td>\n",
              "      <td>1</td>\n",
              "      <td>Core staff</td>\n",
              "      <td>1</td>\n",
              "    </tr>\n",
              "    <tr>\n",
              "      <th>11</th>\n",
              "      <td>5018498</td>\n",
              "      <td>1</td>\n",
              "      <td>F</td>\n",
              "      <td>Y</td>\n",
              "      <td>Y</td>\n",
              "      <td>0</td>\n",
              "      <td>90000.0</td>\n",
              "      <td>Working</td>\n",
              "      <td>Secondary</td>\n",
              "      <td>Married</td>\n",
              "      <td>House</td>\n",
              "      <td>1971-05-02</td>\n",
              "      <td>2020-06-21</td>\n",
              "      <td>1</td>\n",
              "      <td>1</td>\n",
              "      <td>1</td>\n",
              "      <td>0</td>\n",
              "      <td>Cooking staff</td>\n",
              "      <td>2</td>\n",
              "    </tr>\n",
              "    <tr>\n",
              "      <th>13</th>\n",
              "      <td>5018503</td>\n",
              "      <td>1</td>\n",
              "      <td>F</td>\n",
              "      <td>Y</td>\n",
              "      <td>Y</td>\n",
              "      <td>0</td>\n",
              "      <td>90000.0</td>\n",
              "      <td>Working</td>\n",
              "      <td>Secondary</td>\n",
              "      <td>Married</td>\n",
              "      <td>House</td>\n",
              "      <td>1971-05-02</td>\n",
              "      <td>2020-06-21</td>\n",
              "      <td>1</td>\n",
              "      <td>1</td>\n",
              "      <td>1</td>\n",
              "      <td>0</td>\n",
              "      <td>Cooking staff</td>\n",
              "      <td>2</td>\n",
              "    </tr>\n",
              "    <tr>\n",
              "      <th>...</th>\n",
              "      <td>...</td>\n",
              "      <td>...</td>\n",
              "      <td>...</td>\n",
              "      <td>...</td>\n",
              "      <td>...</td>\n",
              "      <td>...</td>\n",
              "      <td>...</td>\n",
              "      <td>...</td>\n",
              "      <td>...</td>\n",
              "      <td>...</td>\n",
              "      <td>...</td>\n",
              "      <td>...</td>\n",
              "      <td>...</td>\n",
              "      <td>...</td>\n",
              "      <td>...</td>\n",
              "      <td>...</td>\n",
              "      <td>...</td>\n",
              "      <td>...</td>\n",
              "      <td>...</td>\n",
              "    </tr>\n",
              "    <tr>\n",
              "      <th>1540</th>\n",
              "      <td>5024049</td>\n",
              "      <td>0</td>\n",
              "      <td>F</td>\n",
              "      <td>Y</td>\n",
              "      <td>Y</td>\n",
              "      <td>1</td>\n",
              "      <td>144000.0</td>\n",
              "      <td>Working</td>\n",
              "      <td>Higher education</td>\n",
              "      <td>Married</td>\n",
              "      <td>House</td>\n",
              "      <td>1987-11-21</td>\n",
              "      <td>2015-03-18</td>\n",
              "      <td>1</td>\n",
              "      <td>0</td>\n",
              "      <td>0</td>\n",
              "      <td>0</td>\n",
              "      <td>Accountants</td>\n",
              "      <td>3</td>\n",
              "    </tr>\n",
              "    <tr>\n",
              "      <th>1542</th>\n",
              "      <td>5118268</td>\n",
              "      <td>0</td>\n",
              "      <td>M</td>\n",
              "      <td>Y</td>\n",
              "      <td>N</td>\n",
              "      <td>1</td>\n",
              "      <td>360000.0</td>\n",
              "      <td>State servant</td>\n",
              "      <td>Secondary</td>\n",
              "      <td>Married</td>\n",
              "      <td>House</td>\n",
              "      <td>1992-04-17</td>\n",
              "      <td>2013-07-14</td>\n",
              "      <td>1</td>\n",
              "      <td>0</td>\n",
              "      <td>1</td>\n",
              "      <td>0</td>\n",
              "      <td>Drivers</td>\n",
              "      <td>3</td>\n",
              "    </tr>\n",
              "    <tr>\n",
              "      <th>1544</th>\n",
              "      <td>5023655</td>\n",
              "      <td>0</td>\n",
              "      <td>F</td>\n",
              "      <td>N</td>\n",
              "      <td>N</td>\n",
              "      <td>0</td>\n",
              "      <td>225000.0</td>\n",
              "      <td>Commercial associate</td>\n",
              "      <td>Incomplete higher</td>\n",
              "      <td>Single / not married</td>\n",
              "      <td>House</td>\n",
              "      <td>1995-03-18</td>\n",
              "      <td>2019-11-27</td>\n",
              "      <td>1</td>\n",
              "      <td>0</td>\n",
              "      <td>0</td>\n",
              "      <td>0</td>\n",
              "      <td>Accountants</td>\n",
              "      <td>1</td>\n",
              "    </tr>\n",
              "    <tr>\n",
              "      <th>1545</th>\n",
              "      <td>5115992</td>\n",
              "      <td>0</td>\n",
              "      <td>M</td>\n",
              "      <td>Y</td>\n",
              "      <td>Y</td>\n",
              "      <td>2</td>\n",
              "      <td>180000.0</td>\n",
              "      <td>Working</td>\n",
              "      <td>Higher education</td>\n",
              "      <td>Married</td>\n",
              "      <td>House</td>\n",
              "      <td>1987-02-23</td>\n",
              "      <td>2016-06-07</td>\n",
              "      <td>1</td>\n",
              "      <td>0</td>\n",
              "      <td>0</td>\n",
              "      <td>0</td>\n",
              "      <td>Managers</td>\n",
              "      <td>4</td>\n",
              "    </tr>\n",
              "    <tr>\n",
              "      <th>1546</th>\n",
              "      <td>5118219</td>\n",
              "      <td>0</td>\n",
              "      <td>M</td>\n",
              "      <td>Y</td>\n",
              "      <td>N</td>\n",
              "      <td>0</td>\n",
              "      <td>270000.0</td>\n",
              "      <td>Working</td>\n",
              "      <td>Secondary</td>\n",
              "      <td>Civil marriage</td>\n",
              "      <td>House</td>\n",
              "      <td>1981-05-07</td>\n",
              "      <td>2021-06-13</td>\n",
              "      <td>1</td>\n",
              "      <td>1</td>\n",
              "      <td>1</td>\n",
              "      <td>0</td>\n",
              "      <td>Drivers</td>\n",
              "      <td>2</td>\n",
              "    </tr>\n",
              "  </tbody>\n",
              "</table>\n",
              "<p>1025 rows × 19 columns</p>\n",
              "</div>\n",
              "      <button class=\"colab-df-convert\" onclick=\"convertToInteractive('df-76f45e36-d766-45d7-8749-39ad5e6bc8f5')\"\n",
              "              title=\"Convert this dataframe to an interactive table.\"\n",
              "              style=\"display:none;\">\n",
              "        \n",
              "  <svg xmlns=\"http://www.w3.org/2000/svg\" height=\"24px\"viewBox=\"0 0 24 24\"\n",
              "       width=\"24px\">\n",
              "    <path d=\"M0 0h24v24H0V0z\" fill=\"none\"/>\n",
              "    <path d=\"M18.56 5.44l.94 2.06.94-2.06 2.06-.94-2.06-.94-.94-2.06-.94 2.06-2.06.94zm-11 1L8.5 8.5l.94-2.06 2.06-.94-2.06-.94L8.5 2.5l-.94 2.06-2.06.94zm10 10l.94 2.06.94-2.06 2.06-.94-2.06-.94-.94-2.06-.94 2.06-2.06.94z\"/><path d=\"M17.41 7.96l-1.37-1.37c-.4-.4-.92-.59-1.43-.59-.52 0-1.04.2-1.43.59L10.3 9.45l-7.72 7.72c-.78.78-.78 2.05 0 2.83L4 21.41c.39.39.9.59 1.41.59.51 0 1.02-.2 1.41-.59l7.78-7.78 2.81-2.81c.8-.78.8-2.07 0-2.86zM5.41 20L4 18.59l7.72-7.72 1.47 1.35L5.41 20z\"/>\n",
              "  </svg>\n",
              "      </button>\n",
              "      \n",
              "  <style>\n",
              "    .colab-df-container {\n",
              "      display:flex;\n",
              "      flex-wrap:wrap;\n",
              "      gap: 12px;\n",
              "    }\n",
              "\n",
              "    .colab-df-convert {\n",
              "      background-color: #E8F0FE;\n",
              "      border: none;\n",
              "      border-radius: 50%;\n",
              "      cursor: pointer;\n",
              "      display: none;\n",
              "      fill: #1967D2;\n",
              "      height: 32px;\n",
              "      padding: 0 0 0 0;\n",
              "      width: 32px;\n",
              "    }\n",
              "\n",
              "    .colab-df-convert:hover {\n",
              "      background-color: #E2EBFA;\n",
              "      box-shadow: 0px 1px 2px rgba(60, 64, 67, 0.3), 0px 1px 3px 1px rgba(60, 64, 67, 0.15);\n",
              "      fill: #174EA6;\n",
              "    }\n",
              "\n",
              "    [theme=dark] .colab-df-convert {\n",
              "      background-color: #3B4455;\n",
              "      fill: #D2E3FC;\n",
              "    }\n",
              "\n",
              "    [theme=dark] .colab-df-convert:hover {\n",
              "      background-color: #434B5C;\n",
              "      box-shadow: 0px 1px 3px 1px rgba(0, 0, 0, 0.15);\n",
              "      filter: drop-shadow(0px 1px 2px rgba(0, 0, 0, 0.3));\n",
              "      fill: #FFFFFF;\n",
              "    }\n",
              "  </style>\n",
              "\n",
              "      <script>\n",
              "        const buttonEl =\n",
              "          document.querySelector('#df-76f45e36-d766-45d7-8749-39ad5e6bc8f5 button.colab-df-convert');\n",
              "        buttonEl.style.display =\n",
              "          google.colab.kernel.accessAllowed ? 'block' : 'none';\n",
              "\n",
              "        async function convertToInteractive(key) {\n",
              "          const element = document.querySelector('#df-76f45e36-d766-45d7-8749-39ad5e6bc8f5');\n",
              "          const dataTable =\n",
              "            await google.colab.kernel.invokeFunction('convertToInteractive',\n",
              "                                                     [key], {});\n",
              "          if (!dataTable) return;\n",
              "\n",
              "          const docLinkHtml = 'Like what you see? Visit the ' +\n",
              "            '<a target=\"_blank\" href=https://colab.research.google.com/notebooks/data_table.ipynb>data table notebook</a>'\n",
              "            + ' to learn more about interactive tables.';\n",
              "          element.innerHTML = '';\n",
              "          dataTable['output_type'] = 'display_data';\n",
              "          await google.colab.output.renderOutput(dataTable, element);\n",
              "          const docLink = document.createElement('div');\n",
              "          docLink.innerHTML = docLinkHtml;\n",
              "          element.appendChild(docLink);\n",
              "        }\n",
              "      </script>\n",
              "    </div>\n",
              "  </div>\n",
              "  "
            ]
          },
          "metadata": {},
          "execution_count": 56
        }
      ]
    },
    {
      "cell_type": "code",
      "source": [
        "#drop un nessesary columns\n",
        "df = df.drop(['Ind_ID','Birthday_count','Annual_income','Work_Phone','Employed_days'],axis=1)\n",
        "df"
      ],
      "metadata": {
        "colab": {
          "base_uri": "https://localhost:8080/",
          "height": 574
        },
        "id": "6SPMhMosIJOT",
        "outputId": "8f83f702-b78a-4e01-f5d2-f412287498cd"
      },
      "execution_count": 57,
      "outputs": [
        {
          "output_type": "execute_result",
          "data": {
            "text/plain": [
              "      label GENDER Car_Owner Propert_Owner  CHILDREN           Type_Income  \\\n",
              "8         1      M         Y             Y         1  Commercial associate   \n",
              "9         1      M         Y             Y         1             Pensioner   \n",
              "10        1      M         Y             Y         1  Commercial associate   \n",
              "11        1      F         Y             Y         0               Working   \n",
              "13        1      F         Y             Y         0               Working   \n",
              "...     ...    ...       ...           ...       ...                   ...   \n",
              "1540      0      F         Y             Y         1               Working   \n",
              "1542      0      M         Y             N         1         State servant   \n",
              "1544      0      F         N             N         0  Commercial associate   \n",
              "1545      0      M         Y             Y         2               Working   \n",
              "1546      0      M         Y             N         0               Working   \n",
              "\n",
              "              EDUCATION        Marital_status Housing_type  Mobile_phone  \\\n",
              "8             Secondary               Married        House             1   \n",
              "9             Secondary               Married        House             1   \n",
              "10            Secondary  Single / not married        House             1   \n",
              "11            Secondary               Married        House             1   \n",
              "13            Secondary               Married        House             1   \n",
              "...                 ...                   ...          ...           ...   \n",
              "1540   Higher education               Married        House             1   \n",
              "1542          Secondary               Married        House             1   \n",
              "1544  Incomplete higher  Single / not married        House             1   \n",
              "1545   Higher education               Married        House             1   \n",
              "1546          Secondary        Civil marriage        House             1   \n",
              "\n",
              "      Phone  EMAIL_ID Type_Occupation  Family_Members  \n",
              "8         1         1      Core staff               3  \n",
              "9         1         1      Core staff               3  \n",
              "10        1         1      Core staff               1  \n",
              "11        1         0   Cooking staff               2  \n",
              "13        1         0   Cooking staff               2  \n",
              "...     ...       ...             ...             ...  \n",
              "1540      0         0     Accountants               3  \n",
              "1542      1         0         Drivers               3  \n",
              "1544      0         0     Accountants               1  \n",
              "1545      0         0        Managers               4  \n",
              "1546      1         0         Drivers               2  \n",
              "\n",
              "[1025 rows x 14 columns]"
            ],
            "text/html": [
              "\n",
              "  <div id=\"df-fcc3ca11-08d8-4aeb-b5d6-063a8827e4a3\">\n",
              "    <div class=\"colab-df-container\">\n",
              "      <div>\n",
              "<style scoped>\n",
              "    .dataframe tbody tr th:only-of-type {\n",
              "        vertical-align: middle;\n",
              "    }\n",
              "\n",
              "    .dataframe tbody tr th {\n",
              "        vertical-align: top;\n",
              "    }\n",
              "\n",
              "    .dataframe thead th {\n",
              "        text-align: right;\n",
              "    }\n",
              "</style>\n",
              "<table border=\"1\" class=\"dataframe\">\n",
              "  <thead>\n",
              "    <tr style=\"text-align: right;\">\n",
              "      <th></th>\n",
              "      <th>label</th>\n",
              "      <th>GENDER</th>\n",
              "      <th>Car_Owner</th>\n",
              "      <th>Propert_Owner</th>\n",
              "      <th>CHILDREN</th>\n",
              "      <th>Type_Income</th>\n",
              "      <th>EDUCATION</th>\n",
              "      <th>Marital_status</th>\n",
              "      <th>Housing_type</th>\n",
              "      <th>Mobile_phone</th>\n",
              "      <th>Phone</th>\n",
              "      <th>EMAIL_ID</th>\n",
              "      <th>Type_Occupation</th>\n",
              "      <th>Family_Members</th>\n",
              "    </tr>\n",
              "  </thead>\n",
              "  <tbody>\n",
              "    <tr>\n",
              "      <th>8</th>\n",
              "      <td>1</td>\n",
              "      <td>M</td>\n",
              "      <td>Y</td>\n",
              "      <td>Y</td>\n",
              "      <td>1</td>\n",
              "      <td>Commercial associate</td>\n",
              "      <td>Secondary</td>\n",
              "      <td>Married</td>\n",
              "      <td>House</td>\n",
              "      <td>1</td>\n",
              "      <td>1</td>\n",
              "      <td>1</td>\n",
              "      <td>Core staff</td>\n",
              "      <td>3</td>\n",
              "    </tr>\n",
              "    <tr>\n",
              "      <th>9</th>\n",
              "      <td>1</td>\n",
              "      <td>M</td>\n",
              "      <td>Y</td>\n",
              "      <td>Y</td>\n",
              "      <td>1</td>\n",
              "      <td>Pensioner</td>\n",
              "      <td>Secondary</td>\n",
              "      <td>Married</td>\n",
              "      <td>House</td>\n",
              "      <td>1</td>\n",
              "      <td>1</td>\n",
              "      <td>1</td>\n",
              "      <td>Core staff</td>\n",
              "      <td>3</td>\n",
              "    </tr>\n",
              "    <tr>\n",
              "      <th>10</th>\n",
              "      <td>1</td>\n",
              "      <td>M</td>\n",
              "      <td>Y</td>\n",
              "      <td>Y</td>\n",
              "      <td>1</td>\n",
              "      <td>Commercial associate</td>\n",
              "      <td>Secondary</td>\n",
              "      <td>Single / not married</td>\n",
              "      <td>House</td>\n",
              "      <td>1</td>\n",
              "      <td>1</td>\n",
              "      <td>1</td>\n",
              "      <td>Core staff</td>\n",
              "      <td>1</td>\n",
              "    </tr>\n",
              "    <tr>\n",
              "      <th>11</th>\n",
              "      <td>1</td>\n",
              "      <td>F</td>\n",
              "      <td>Y</td>\n",
              "      <td>Y</td>\n",
              "      <td>0</td>\n",
              "      <td>Working</td>\n",
              "      <td>Secondary</td>\n",
              "      <td>Married</td>\n",
              "      <td>House</td>\n",
              "      <td>1</td>\n",
              "      <td>1</td>\n",
              "      <td>0</td>\n",
              "      <td>Cooking staff</td>\n",
              "      <td>2</td>\n",
              "    </tr>\n",
              "    <tr>\n",
              "      <th>13</th>\n",
              "      <td>1</td>\n",
              "      <td>F</td>\n",
              "      <td>Y</td>\n",
              "      <td>Y</td>\n",
              "      <td>0</td>\n",
              "      <td>Working</td>\n",
              "      <td>Secondary</td>\n",
              "      <td>Married</td>\n",
              "      <td>House</td>\n",
              "      <td>1</td>\n",
              "      <td>1</td>\n",
              "      <td>0</td>\n",
              "      <td>Cooking staff</td>\n",
              "      <td>2</td>\n",
              "    </tr>\n",
              "    <tr>\n",
              "      <th>...</th>\n",
              "      <td>...</td>\n",
              "      <td>...</td>\n",
              "      <td>...</td>\n",
              "      <td>...</td>\n",
              "      <td>...</td>\n",
              "      <td>...</td>\n",
              "      <td>...</td>\n",
              "      <td>...</td>\n",
              "      <td>...</td>\n",
              "      <td>...</td>\n",
              "      <td>...</td>\n",
              "      <td>...</td>\n",
              "      <td>...</td>\n",
              "      <td>...</td>\n",
              "    </tr>\n",
              "    <tr>\n",
              "      <th>1540</th>\n",
              "      <td>0</td>\n",
              "      <td>F</td>\n",
              "      <td>Y</td>\n",
              "      <td>Y</td>\n",
              "      <td>1</td>\n",
              "      <td>Working</td>\n",
              "      <td>Higher education</td>\n",
              "      <td>Married</td>\n",
              "      <td>House</td>\n",
              "      <td>1</td>\n",
              "      <td>0</td>\n",
              "      <td>0</td>\n",
              "      <td>Accountants</td>\n",
              "      <td>3</td>\n",
              "    </tr>\n",
              "    <tr>\n",
              "      <th>1542</th>\n",
              "      <td>0</td>\n",
              "      <td>M</td>\n",
              "      <td>Y</td>\n",
              "      <td>N</td>\n",
              "      <td>1</td>\n",
              "      <td>State servant</td>\n",
              "      <td>Secondary</td>\n",
              "      <td>Married</td>\n",
              "      <td>House</td>\n",
              "      <td>1</td>\n",
              "      <td>1</td>\n",
              "      <td>0</td>\n",
              "      <td>Drivers</td>\n",
              "      <td>3</td>\n",
              "    </tr>\n",
              "    <tr>\n",
              "      <th>1544</th>\n",
              "      <td>0</td>\n",
              "      <td>F</td>\n",
              "      <td>N</td>\n",
              "      <td>N</td>\n",
              "      <td>0</td>\n",
              "      <td>Commercial associate</td>\n",
              "      <td>Incomplete higher</td>\n",
              "      <td>Single / not married</td>\n",
              "      <td>House</td>\n",
              "      <td>1</td>\n",
              "      <td>0</td>\n",
              "      <td>0</td>\n",
              "      <td>Accountants</td>\n",
              "      <td>1</td>\n",
              "    </tr>\n",
              "    <tr>\n",
              "      <th>1545</th>\n",
              "      <td>0</td>\n",
              "      <td>M</td>\n",
              "      <td>Y</td>\n",
              "      <td>Y</td>\n",
              "      <td>2</td>\n",
              "      <td>Working</td>\n",
              "      <td>Higher education</td>\n",
              "      <td>Married</td>\n",
              "      <td>House</td>\n",
              "      <td>1</td>\n",
              "      <td>0</td>\n",
              "      <td>0</td>\n",
              "      <td>Managers</td>\n",
              "      <td>4</td>\n",
              "    </tr>\n",
              "    <tr>\n",
              "      <th>1546</th>\n",
              "      <td>0</td>\n",
              "      <td>M</td>\n",
              "      <td>Y</td>\n",
              "      <td>N</td>\n",
              "      <td>0</td>\n",
              "      <td>Working</td>\n",
              "      <td>Secondary</td>\n",
              "      <td>Civil marriage</td>\n",
              "      <td>House</td>\n",
              "      <td>1</td>\n",
              "      <td>1</td>\n",
              "      <td>0</td>\n",
              "      <td>Drivers</td>\n",
              "      <td>2</td>\n",
              "    </tr>\n",
              "  </tbody>\n",
              "</table>\n",
              "<p>1025 rows × 14 columns</p>\n",
              "</div>\n",
              "      <button class=\"colab-df-convert\" onclick=\"convertToInteractive('df-fcc3ca11-08d8-4aeb-b5d6-063a8827e4a3')\"\n",
              "              title=\"Convert this dataframe to an interactive table.\"\n",
              "              style=\"display:none;\">\n",
              "        \n",
              "  <svg xmlns=\"http://www.w3.org/2000/svg\" height=\"24px\"viewBox=\"0 0 24 24\"\n",
              "       width=\"24px\">\n",
              "    <path d=\"M0 0h24v24H0V0z\" fill=\"none\"/>\n",
              "    <path d=\"M18.56 5.44l.94 2.06.94-2.06 2.06-.94-2.06-.94-.94-2.06-.94 2.06-2.06.94zm-11 1L8.5 8.5l.94-2.06 2.06-.94-2.06-.94L8.5 2.5l-.94 2.06-2.06.94zm10 10l.94 2.06.94-2.06 2.06-.94-2.06-.94-.94-2.06-.94 2.06-2.06.94z\"/><path d=\"M17.41 7.96l-1.37-1.37c-.4-.4-.92-.59-1.43-.59-.52 0-1.04.2-1.43.59L10.3 9.45l-7.72 7.72c-.78.78-.78 2.05 0 2.83L4 21.41c.39.39.9.59 1.41.59.51 0 1.02-.2 1.41-.59l7.78-7.78 2.81-2.81c.8-.78.8-2.07 0-2.86zM5.41 20L4 18.59l7.72-7.72 1.47 1.35L5.41 20z\"/>\n",
              "  </svg>\n",
              "      </button>\n",
              "      \n",
              "  <style>\n",
              "    .colab-df-container {\n",
              "      display:flex;\n",
              "      flex-wrap:wrap;\n",
              "      gap: 12px;\n",
              "    }\n",
              "\n",
              "    .colab-df-convert {\n",
              "      background-color: #E8F0FE;\n",
              "      border: none;\n",
              "      border-radius: 50%;\n",
              "      cursor: pointer;\n",
              "      display: none;\n",
              "      fill: #1967D2;\n",
              "      height: 32px;\n",
              "      padding: 0 0 0 0;\n",
              "      width: 32px;\n",
              "    }\n",
              "\n",
              "    .colab-df-convert:hover {\n",
              "      background-color: #E2EBFA;\n",
              "      box-shadow: 0px 1px 2px rgba(60, 64, 67, 0.3), 0px 1px 3px 1px rgba(60, 64, 67, 0.15);\n",
              "      fill: #174EA6;\n",
              "    }\n",
              "\n",
              "    [theme=dark] .colab-df-convert {\n",
              "      background-color: #3B4455;\n",
              "      fill: #D2E3FC;\n",
              "    }\n",
              "\n",
              "    [theme=dark] .colab-df-convert:hover {\n",
              "      background-color: #434B5C;\n",
              "      box-shadow: 0px 1px 3px 1px rgba(0, 0, 0, 0.15);\n",
              "      filter: drop-shadow(0px 1px 2px rgba(0, 0, 0, 0.3));\n",
              "      fill: #FFFFFF;\n",
              "    }\n",
              "  </style>\n",
              "\n",
              "      <script>\n",
              "        const buttonEl =\n",
              "          document.querySelector('#df-fcc3ca11-08d8-4aeb-b5d6-063a8827e4a3 button.colab-df-convert');\n",
              "        buttonEl.style.display =\n",
              "          google.colab.kernel.accessAllowed ? 'block' : 'none';\n",
              "\n",
              "        async function convertToInteractive(key) {\n",
              "          const element = document.querySelector('#df-fcc3ca11-08d8-4aeb-b5d6-063a8827e4a3');\n",
              "          const dataTable =\n",
              "            await google.colab.kernel.invokeFunction('convertToInteractive',\n",
              "                                                     [key], {});\n",
              "          if (!dataTable) return;\n",
              "\n",
              "          const docLinkHtml = 'Like what you see? Visit the ' +\n",
              "            '<a target=\"_blank\" href=https://colab.research.google.com/notebooks/data_table.ipynb>data table notebook</a>'\n",
              "            + ' to learn more about interactive tables.';\n",
              "          element.innerHTML = '';\n",
              "          dataTable['output_type'] = 'display_data';\n",
              "          await google.colab.output.renderOutput(dataTable, element);\n",
              "          const docLink = document.createElement('div');\n",
              "          docLink.innerHTML = docLinkHtml;\n",
              "          element.appendChild(docLink);\n",
              "        }\n",
              "      </script>\n",
              "    </div>\n",
              "  </div>\n",
              "  "
            ]
          },
          "metadata": {},
          "execution_count": 57
        }
      ]
    },
    {
      "cell_type": "markdown",
      "source": [
        "Data Labelling"
      ],
      "metadata": {
        "id": "X12rexO7IvUh"
      }
    },
    {
      "cell_type": "markdown",
      "source": [
        "Due to this data set havent lebeld data , so i will labeld data spcialy i will use status column to make my label as all user that delay for overdue than 60monthes iwill label them with YES (Risky Peapole) and other will be NO\n"
      ],
      "metadata": {
        "id": "RuI5u2d8I4pE"
      }
    },
    {
      "cell_type": "code",
      "source": [
        "df['TARGET'] = df['Marital_status'].apply(get_label_for_data)\n",
        "df"
      ],
      "metadata": {
        "colab": {
          "base_uri": "https://localhost:8080/",
          "height": 574
        },
        "id": "XPO2A0qqIJUo",
        "outputId": "9dfed06f-5e9c-408a-b8b9-50c687c1e06a"
      },
      "execution_count": 58,
      "outputs": [
        {
          "output_type": "execute_result",
          "data": {
            "text/plain": [
              "      label GENDER Car_Owner Propert_Owner  CHILDREN           Type_Income  \\\n",
              "8         1      M         Y             Y         1  Commercial associate   \n",
              "9         1      M         Y             Y         1             Pensioner   \n",
              "10        1      M         Y             Y         1  Commercial associate   \n",
              "11        1      F         Y             Y         0               Working   \n",
              "13        1      F         Y             Y         0               Working   \n",
              "...     ...    ...       ...           ...       ...                   ...   \n",
              "1540      0      F         Y             Y         1               Working   \n",
              "1542      0      M         Y             N         1         State servant   \n",
              "1544      0      F         N             N         0  Commercial associate   \n",
              "1545      0      M         Y             Y         2               Working   \n",
              "1546      0      M         Y             N         0               Working   \n",
              "\n",
              "              EDUCATION        Marital_status Housing_type  Mobile_phone  \\\n",
              "8             Secondary               Married        House             1   \n",
              "9             Secondary               Married        House             1   \n",
              "10            Secondary  Single / not married        House             1   \n",
              "11            Secondary               Married        House             1   \n",
              "13            Secondary               Married        House             1   \n",
              "...                 ...                   ...          ...           ...   \n",
              "1540   Higher education               Married        House             1   \n",
              "1542          Secondary               Married        House             1   \n",
              "1544  Incomplete higher  Single / not married        House             1   \n",
              "1545   Higher education               Married        House             1   \n",
              "1546          Secondary        Civil marriage        House             1   \n",
              "\n",
              "      Phone  EMAIL_ID Type_Occupation  Family_Members TARGET  \n",
              "8         1         1      Core staff               3     NO  \n",
              "9         1         1      Core staff               3     NO  \n",
              "10        1         1      Core staff               1     NO  \n",
              "11        1         0   Cooking staff               2     NO  \n",
              "13        1         0   Cooking staff               2     NO  \n",
              "...     ...       ...             ...             ...    ...  \n",
              "1540      0         0     Accountants               3     NO  \n",
              "1542      1         0         Drivers               3     NO  \n",
              "1544      0         0     Accountants               1     NO  \n",
              "1545      0         0        Managers               4     NO  \n",
              "1546      1         0         Drivers               2     NO  \n",
              "\n",
              "[1025 rows x 15 columns]"
            ],
            "text/html": [
              "\n",
              "  <div id=\"df-c725ed04-1c05-42e0-8262-a54ac4ee64da\">\n",
              "    <div class=\"colab-df-container\">\n",
              "      <div>\n",
              "<style scoped>\n",
              "    .dataframe tbody tr th:only-of-type {\n",
              "        vertical-align: middle;\n",
              "    }\n",
              "\n",
              "    .dataframe tbody tr th {\n",
              "        vertical-align: top;\n",
              "    }\n",
              "\n",
              "    .dataframe thead th {\n",
              "        text-align: right;\n",
              "    }\n",
              "</style>\n",
              "<table border=\"1\" class=\"dataframe\">\n",
              "  <thead>\n",
              "    <tr style=\"text-align: right;\">\n",
              "      <th></th>\n",
              "      <th>label</th>\n",
              "      <th>GENDER</th>\n",
              "      <th>Car_Owner</th>\n",
              "      <th>Propert_Owner</th>\n",
              "      <th>CHILDREN</th>\n",
              "      <th>Type_Income</th>\n",
              "      <th>EDUCATION</th>\n",
              "      <th>Marital_status</th>\n",
              "      <th>Housing_type</th>\n",
              "      <th>Mobile_phone</th>\n",
              "      <th>Phone</th>\n",
              "      <th>EMAIL_ID</th>\n",
              "      <th>Type_Occupation</th>\n",
              "      <th>Family_Members</th>\n",
              "      <th>TARGET</th>\n",
              "    </tr>\n",
              "  </thead>\n",
              "  <tbody>\n",
              "    <tr>\n",
              "      <th>8</th>\n",
              "      <td>1</td>\n",
              "      <td>M</td>\n",
              "      <td>Y</td>\n",
              "      <td>Y</td>\n",
              "      <td>1</td>\n",
              "      <td>Commercial associate</td>\n",
              "      <td>Secondary</td>\n",
              "      <td>Married</td>\n",
              "      <td>House</td>\n",
              "      <td>1</td>\n",
              "      <td>1</td>\n",
              "      <td>1</td>\n",
              "      <td>Core staff</td>\n",
              "      <td>3</td>\n",
              "      <td>NO</td>\n",
              "    </tr>\n",
              "    <tr>\n",
              "      <th>9</th>\n",
              "      <td>1</td>\n",
              "      <td>M</td>\n",
              "      <td>Y</td>\n",
              "      <td>Y</td>\n",
              "      <td>1</td>\n",
              "      <td>Pensioner</td>\n",
              "      <td>Secondary</td>\n",
              "      <td>Married</td>\n",
              "      <td>House</td>\n",
              "      <td>1</td>\n",
              "      <td>1</td>\n",
              "      <td>1</td>\n",
              "      <td>Core staff</td>\n",
              "      <td>3</td>\n",
              "      <td>NO</td>\n",
              "    </tr>\n",
              "    <tr>\n",
              "      <th>10</th>\n",
              "      <td>1</td>\n",
              "      <td>M</td>\n",
              "      <td>Y</td>\n",
              "      <td>Y</td>\n",
              "      <td>1</td>\n",
              "      <td>Commercial associate</td>\n",
              "      <td>Secondary</td>\n",
              "      <td>Single / not married</td>\n",
              "      <td>House</td>\n",
              "      <td>1</td>\n",
              "      <td>1</td>\n",
              "      <td>1</td>\n",
              "      <td>Core staff</td>\n",
              "      <td>1</td>\n",
              "      <td>NO</td>\n",
              "    </tr>\n",
              "    <tr>\n",
              "      <th>11</th>\n",
              "      <td>1</td>\n",
              "      <td>F</td>\n",
              "      <td>Y</td>\n",
              "      <td>Y</td>\n",
              "      <td>0</td>\n",
              "      <td>Working</td>\n",
              "      <td>Secondary</td>\n",
              "      <td>Married</td>\n",
              "      <td>House</td>\n",
              "      <td>1</td>\n",
              "      <td>1</td>\n",
              "      <td>0</td>\n",
              "      <td>Cooking staff</td>\n",
              "      <td>2</td>\n",
              "      <td>NO</td>\n",
              "    </tr>\n",
              "    <tr>\n",
              "      <th>13</th>\n",
              "      <td>1</td>\n",
              "      <td>F</td>\n",
              "      <td>Y</td>\n",
              "      <td>Y</td>\n",
              "      <td>0</td>\n",
              "      <td>Working</td>\n",
              "      <td>Secondary</td>\n",
              "      <td>Married</td>\n",
              "      <td>House</td>\n",
              "      <td>1</td>\n",
              "      <td>1</td>\n",
              "      <td>0</td>\n",
              "      <td>Cooking staff</td>\n",
              "      <td>2</td>\n",
              "      <td>NO</td>\n",
              "    </tr>\n",
              "    <tr>\n",
              "      <th>...</th>\n",
              "      <td>...</td>\n",
              "      <td>...</td>\n",
              "      <td>...</td>\n",
              "      <td>...</td>\n",
              "      <td>...</td>\n",
              "      <td>...</td>\n",
              "      <td>...</td>\n",
              "      <td>...</td>\n",
              "      <td>...</td>\n",
              "      <td>...</td>\n",
              "      <td>...</td>\n",
              "      <td>...</td>\n",
              "      <td>...</td>\n",
              "      <td>...</td>\n",
              "      <td>...</td>\n",
              "    </tr>\n",
              "    <tr>\n",
              "      <th>1540</th>\n",
              "      <td>0</td>\n",
              "      <td>F</td>\n",
              "      <td>Y</td>\n",
              "      <td>Y</td>\n",
              "      <td>1</td>\n",
              "      <td>Working</td>\n",
              "      <td>Higher education</td>\n",
              "      <td>Married</td>\n",
              "      <td>House</td>\n",
              "      <td>1</td>\n",
              "      <td>0</td>\n",
              "      <td>0</td>\n",
              "      <td>Accountants</td>\n",
              "      <td>3</td>\n",
              "      <td>NO</td>\n",
              "    </tr>\n",
              "    <tr>\n",
              "      <th>1542</th>\n",
              "      <td>0</td>\n",
              "      <td>M</td>\n",
              "      <td>Y</td>\n",
              "      <td>N</td>\n",
              "      <td>1</td>\n",
              "      <td>State servant</td>\n",
              "      <td>Secondary</td>\n",
              "      <td>Married</td>\n",
              "      <td>House</td>\n",
              "      <td>1</td>\n",
              "      <td>1</td>\n",
              "      <td>0</td>\n",
              "      <td>Drivers</td>\n",
              "      <td>3</td>\n",
              "      <td>NO</td>\n",
              "    </tr>\n",
              "    <tr>\n",
              "      <th>1544</th>\n",
              "      <td>0</td>\n",
              "      <td>F</td>\n",
              "      <td>N</td>\n",
              "      <td>N</td>\n",
              "      <td>0</td>\n",
              "      <td>Commercial associate</td>\n",
              "      <td>Incomplete higher</td>\n",
              "      <td>Single / not married</td>\n",
              "      <td>House</td>\n",
              "      <td>1</td>\n",
              "      <td>0</td>\n",
              "      <td>0</td>\n",
              "      <td>Accountants</td>\n",
              "      <td>1</td>\n",
              "      <td>NO</td>\n",
              "    </tr>\n",
              "    <tr>\n",
              "      <th>1545</th>\n",
              "      <td>0</td>\n",
              "      <td>M</td>\n",
              "      <td>Y</td>\n",
              "      <td>Y</td>\n",
              "      <td>2</td>\n",
              "      <td>Working</td>\n",
              "      <td>Higher education</td>\n",
              "      <td>Married</td>\n",
              "      <td>House</td>\n",
              "      <td>1</td>\n",
              "      <td>0</td>\n",
              "      <td>0</td>\n",
              "      <td>Managers</td>\n",
              "      <td>4</td>\n",
              "      <td>NO</td>\n",
              "    </tr>\n",
              "    <tr>\n",
              "      <th>1546</th>\n",
              "      <td>0</td>\n",
              "      <td>M</td>\n",
              "      <td>Y</td>\n",
              "      <td>N</td>\n",
              "      <td>0</td>\n",
              "      <td>Working</td>\n",
              "      <td>Secondary</td>\n",
              "      <td>Civil marriage</td>\n",
              "      <td>House</td>\n",
              "      <td>1</td>\n",
              "      <td>1</td>\n",
              "      <td>0</td>\n",
              "      <td>Drivers</td>\n",
              "      <td>2</td>\n",
              "      <td>NO</td>\n",
              "    </tr>\n",
              "  </tbody>\n",
              "</table>\n",
              "<p>1025 rows × 15 columns</p>\n",
              "</div>\n",
              "      <button class=\"colab-df-convert\" onclick=\"convertToInteractive('df-c725ed04-1c05-42e0-8262-a54ac4ee64da')\"\n",
              "              title=\"Convert this dataframe to an interactive table.\"\n",
              "              style=\"display:none;\">\n",
              "        \n",
              "  <svg xmlns=\"http://www.w3.org/2000/svg\" height=\"24px\"viewBox=\"0 0 24 24\"\n",
              "       width=\"24px\">\n",
              "    <path d=\"M0 0h24v24H0V0z\" fill=\"none\"/>\n",
              "    <path d=\"M18.56 5.44l.94 2.06.94-2.06 2.06-.94-2.06-.94-.94-2.06-.94 2.06-2.06.94zm-11 1L8.5 8.5l.94-2.06 2.06-.94-2.06-.94L8.5 2.5l-.94 2.06-2.06.94zm10 10l.94 2.06.94-2.06 2.06-.94-2.06-.94-.94-2.06-.94 2.06-2.06.94z\"/><path d=\"M17.41 7.96l-1.37-1.37c-.4-.4-.92-.59-1.43-.59-.52 0-1.04.2-1.43.59L10.3 9.45l-7.72 7.72c-.78.78-.78 2.05 0 2.83L4 21.41c.39.39.9.59 1.41.59.51 0 1.02-.2 1.41-.59l7.78-7.78 2.81-2.81c.8-.78.8-2.07 0-2.86zM5.41 20L4 18.59l7.72-7.72 1.47 1.35L5.41 20z\"/>\n",
              "  </svg>\n",
              "      </button>\n",
              "      \n",
              "  <style>\n",
              "    .colab-df-container {\n",
              "      display:flex;\n",
              "      flex-wrap:wrap;\n",
              "      gap: 12px;\n",
              "    }\n",
              "\n",
              "    .colab-df-convert {\n",
              "      background-color: #E8F0FE;\n",
              "      border: none;\n",
              "      border-radius: 50%;\n",
              "      cursor: pointer;\n",
              "      display: none;\n",
              "      fill: #1967D2;\n",
              "      height: 32px;\n",
              "      padding: 0 0 0 0;\n",
              "      width: 32px;\n",
              "    }\n",
              "\n",
              "    .colab-df-convert:hover {\n",
              "      background-color: #E2EBFA;\n",
              "      box-shadow: 0px 1px 2px rgba(60, 64, 67, 0.3), 0px 1px 3px 1px rgba(60, 64, 67, 0.15);\n",
              "      fill: #174EA6;\n",
              "    }\n",
              "\n",
              "    [theme=dark] .colab-df-convert {\n",
              "      background-color: #3B4455;\n",
              "      fill: #D2E3FC;\n",
              "    }\n",
              "\n",
              "    [theme=dark] .colab-df-convert:hover {\n",
              "      background-color: #434B5C;\n",
              "      box-shadow: 0px 1px 3px 1px rgba(0, 0, 0, 0.15);\n",
              "      filter: drop-shadow(0px 1px 2px rgba(0, 0, 0, 0.3));\n",
              "      fill: #FFFFFF;\n",
              "    }\n",
              "  </style>\n",
              "\n",
              "      <script>\n",
              "        const buttonEl =\n",
              "          document.querySelector('#df-c725ed04-1c05-42e0-8262-a54ac4ee64da button.colab-df-convert');\n",
              "        buttonEl.style.display =\n",
              "          google.colab.kernel.accessAllowed ? 'block' : 'none';\n",
              "\n",
              "        async function convertToInteractive(key) {\n",
              "          const element = document.querySelector('#df-c725ed04-1c05-42e0-8262-a54ac4ee64da');\n",
              "          const dataTable =\n",
              "            await google.colab.kernel.invokeFunction('convertToInteractive',\n",
              "                                                     [key], {});\n",
              "          if (!dataTable) return;\n",
              "\n",
              "          const docLinkHtml = 'Like what you see? Visit the ' +\n",
              "            '<a target=\"_blank\" href=https://colab.research.google.com/notebooks/data_table.ipynb>data table notebook</a>'\n",
              "            + ' to learn more about interactive tables.';\n",
              "          element.innerHTML = '';\n",
              "          dataTable['output_type'] = 'display_data';\n",
              "          await google.colab.output.renderOutput(dataTable, element);\n",
              "          const docLink = document.createElement('div');\n",
              "          docLink.innerHTML = docLinkHtml;\n",
              "          element.appendChild(docLink);\n",
              "        }\n",
              "      </script>\n",
              "    </div>\n",
              "  </div>\n",
              "  "
            ]
          },
          "metadata": {},
          "execution_count": 58
        }
      ]
    },
    {
      "cell_type": "code",
      "source": [
        "df['TARGET'].value_counts()"
      ],
      "metadata": {
        "colab": {
          "base_uri": "https://localhost:8080/"
        },
        "id": "Gt8zx2JZJDbI",
        "outputId": "50a6a5da-bdfa-48b5-df80-ca587946d3f3"
      },
      "execution_count": 59,
      "outputs": [
        {
          "output_type": "execute_result",
          "data": {
            "text/plain": [
              "NO    1025\n",
              "Name: TARGET, dtype: int64"
            ]
          },
          "metadata": {},
          "execution_count": 59
        }
      ]
    },
    {
      "cell_type": "markdown",
      "source": [
        "**Data Analaysis & Visualization**"
      ],
      "metadata": {
        "id": "coWp9ZiJJJTa"
      }
    },
    {
      "cell_type": "markdown",
      "source": [
        "In this part we will analays and versialize each part of data to be in near step from our goal then pased on deployed models we will sense best factior that affect on our bussiness goal\n"
      ],
      "metadata": {
        "id": "kB6GhYBAJPiB"
      }
    },
    {
      "cell_type": "code",
      "source": [
        "categorical_plotting(df,'TARGET','total count of Risky per Users')"
      ],
      "metadata": {
        "colab": {
          "base_uri": "https://localhost:8080/",
          "height": 358
        },
        "id": "S0JUtfyAJFYO",
        "outputId": "cf3fa90c-bfab-42c6-9723-06a97dda6870"
      },
      "execution_count": 60,
      "outputs": [
        {
          "output_type": "display_data",
          "data": {
            "text/plain": [
              "<Figure size 720x360 with 1 Axes>"
            ],
            "image/png": "[encoded data removed]"
          },
          "metadata": {
            "needs_background": "light"
          }
        }
      ]
    },
    {
      "cell_type": "code",
      "source": [
        "plt.figure(figsize = (16,10))\n",
        "sns.heatmap(df.corr(),annot= True)\n",
        "plt.show()"
      ],
      "metadata": {
        "colab": {
          "base_uri": "https://localhost:8080/",
          "height": 596
        },
        "id": "9w5eT97RJk7k",
        "outputId": "6f17b531-11ac-4ac9-916d-8e03463a952b"
      },
      "execution_count": 61,
      "outputs": [
        {
          "output_type": "display_data",
          "data": {
            "text/plain": [
              "<Figure size 1152x720 with 2 Axes>"
            ],
            "image/png": "[encoded data removed]"
          },
          "metadata": {
            "needs_background": "light"
          }
        }
      ]
    },
    {
      "cell_type": "code",
      "source": [
        "sns.pairplot(data=df )"
      ],
      "metadata": {
        "colab": {
          "base_uri": "https://localhost:8080/",
          "height": 1000
        },
        "id": "jiElAWB-JppU",
        "outputId": "02d00a8d-5337-41c7-e594-a6ff1537ba4d"
      },
      "execution_count": 63,
      "outputs": [
        {
          "output_type": "execute_result",
          "data": {
            "text/plain": [
              "<seaborn.axisgrid.PairGrid at 0x7f90bc1dca60>"
            ]
          },
          "metadata": {},
          "execution_count": 63
        },
        {
          "output_type": "display_data",
          "data": {
            "text/plain": [
              "<Figure size 1080x1080 with 42 Axes>"
            ],
            "image/png": "[encoded data removed]"
          },
          "metadata": {
            "needs_background": "light"
          }
        }
      ]
    },
    {
      "cell_type": "markdown",
      "source": [
        "**Dealing With Numerical Data**"
      ],
      "metadata": {
        "id": "oMTibObVJ8HG"
      }
    },
    {
      "cell_type": "code",
      "source": [
        "#get all numerical column \n",
        "numCol  = [col for col in df.columns if  df[col].dtype != \"O\"]\n",
        "numCol"
      ],
      "metadata": {
        "colab": {
          "base_uri": "https://localhost:8080/"
        },
        "id": "h74TJwRsKBOH",
        "outputId": "f3854843-e2c6-4052-c64a-aa0866c04494"
      },
      "execution_count": 64,
      "outputs": [
        {
          "output_type": "execute_result",
          "data": {
            "text/plain": [
              "['label', 'CHILDREN', 'Mobile_phone', 'Phone', 'EMAIL_ID', 'Family_Members']"
            ]
          },
          "metadata": {},
          "execution_count": 64
        }
      ]
    },
    {
      "cell_type": "code",
      "source": [
        "numerical_plotting(df,'CHILDREN','CHILDREN Distribution',' ')"
      ],
      "metadata": {
        "colab": {
          "base_uri": "https://localhost:8080/",
          "height": 369
        },
        "id": "nEQFffnoKBZM",
        "outputId": "6fc964ce-f5e8-4f68-cb66-0d5c034f2d53"
      },
      "execution_count": 66,
      "outputs": [
        {
          "output_type": "display_data",
          "data": {
            "text/plain": [
              "<Figure size 576x360 with 2 Axes>"
            ],
            "image/png": "[encoded data removed]"
          },
          "metadata": {
            "needs_background": "light"
          }
        }
      ]
    },
    {
      "cell_type": "code",
      "source": [
        "df.describe()[['CHILDREN']]"
      ],
      "metadata": {
        "colab": {
          "base_uri": "https://localhost:8080/",
          "height": 300
        },
        "id": "KUUlnZqcKYj_",
        "outputId": "caf2078e-c9c6-4e41-f4f2-df977d3fda35"
      },
      "execution_count": 70,
      "outputs": [
        {
          "output_type": "execute_result",
          "data": {
            "text/plain": [
              "          CHILDREN\n",
              "count  1025.000000\n",
              "mean      0.494634\n",
              "std       0.844456\n",
              "min       0.000000\n",
              "25%       0.000000\n",
              "50%       0.000000\n",
              "75%       1.000000\n",
              "max      14.000000"
            ],
            "text/html": [
              "\n",
              "  <div id=\"df-083f5a5c-5e54-4beb-8b65-c37ee8716aac\">\n",
              "    <div class=\"colab-df-container\">\n",
              "      <div>\n",
              "<style scoped>\n",
              "    .dataframe tbody tr th:only-of-type {\n",
              "        vertical-align: middle;\n",
              "    }\n",
              "\n",
              "    .dataframe tbody tr th {\n",
              "        vertical-align: top;\n",
              "    }\n",
              "\n",
              "    .dataframe thead th {\n",
              "        text-align: right;\n",
              "    }\n",
              "</style>\n",
              "<table border=\"1\" class=\"dataframe\">\n",
              "  <thead>\n",
              "    <tr style=\"text-align: right;\">\n",
              "      <th></th>\n",
              "      <th>CHILDREN</th>\n",
              "    </tr>\n",
              "  </thead>\n",
              "  <tbody>\n",
              "    <tr>\n",
              "      <th>count</th>\n",
              "      <td>1025.000000</td>\n",
              "    </tr>\n",
              "    <tr>\n",
              "      <th>mean</th>\n",
              "      <td>0.494634</td>\n",
              "    </tr>\n",
              "    <tr>\n",
              "      <th>std</th>\n",
              "      <td>0.844456</td>\n",
              "    </tr>\n",
              "    <tr>\n",
              "      <th>min</th>\n",
              "      <td>0.000000</td>\n",
              "    </tr>\n",
              "    <tr>\n",
              "      <th>25%</th>\n",
              "      <td>0.000000</td>\n",
              "    </tr>\n",
              "    <tr>\n",
              "      <th>50%</th>\n",
              "      <td>0.000000</td>\n",
              "    </tr>\n",
              "    <tr>\n",
              "      <th>75%</th>\n",
              "      <td>1.000000</td>\n",
              "    </tr>\n",
              "    <tr>\n",
              "      <th>max</th>\n",
              "      <td>14.000000</td>\n",
              "    </tr>\n",
              "  </tbody>\n",
              "</table>\n",
              "</div>\n",
              "      <button class=\"colab-df-convert\" onclick=\"convertToInteractive('df-083f5a5c-5e54-4beb-8b65-c37ee8716aac')\"\n",
              "              title=\"Convert this dataframe to an interactive table.\"\n",
              "              style=\"display:none;\">\n",
              "        \n",
              "  <svg xmlns=\"http://www.w3.org/2000/svg\" height=\"24px\"viewBox=\"0 0 24 24\"\n",
              "       width=\"24px\">\n",
              "    <path d=\"M0 0h24v24H0V0z\" fill=\"none\"/>\n",
              "    <path d=\"M18.56 5.44l.94 2.06.94-2.06 2.06-.94-2.06-.94-.94-2.06-.94 2.06-2.06.94zm-11 1L8.5 8.5l.94-2.06 2.06-.94-2.06-.94L8.5 2.5l-.94 2.06-2.06.94zm10 10l.94 2.06.94-2.06 2.06-.94-2.06-.94-.94-2.06-.94 2.06-2.06.94z\"/><path d=\"M17.41 7.96l-1.37-1.37c-.4-.4-.92-.59-1.43-.59-.52 0-1.04.2-1.43.59L10.3 9.45l-7.72 7.72c-.78.78-.78 2.05 0 2.83L4 21.41c.39.39.9.59 1.41.59.51 0 1.02-.2 1.41-.59l7.78-7.78 2.81-2.81c.8-.78.8-2.07 0-2.86zM5.41 20L4 18.59l7.72-7.72 1.47 1.35L5.41 20z\"/>\n",
              "  </svg>\n",
              "      </button>\n",
              "      \n",
              "  <style>\n",
              "    .colab-df-container {\n",
              "      display:flex;\n",
              "      flex-wrap:wrap;\n",
              "      gap: 12px;\n",
              "    }\n",
              "\n",
              "    .colab-df-convert {\n",
              "      background-color: #E8F0FE;\n",
              "      border: none;\n",
              "      border-radius: 50%;\n",
              "      cursor: pointer;\n",
              "      display: none;\n",
              "      fill: #1967D2;\n",
              "      height: 32px;\n",
              "      padding: 0 0 0 0;\n",
              "      width: 32px;\n",
              "    }\n",
              "\n",
              "    .colab-df-convert:hover {\n",
              "      background-color: #E2EBFA;\n",
              "      box-shadow: 0px 1px 2px rgba(60, 64, 67, 0.3), 0px 1px 3px 1px rgba(60, 64, 67, 0.15);\n",
              "      fill: #174EA6;\n",
              "    }\n",
              "\n",
              "    [theme=dark] .colab-df-convert {\n",
              "      background-color: #3B4455;\n",
              "      fill: #D2E3FC;\n",
              "    }\n",
              "\n",
              "    [theme=dark] .colab-df-convert:hover {\n",
              "      background-color: #434B5C;\n",
              "      box-shadow: 0px 1px 3px 1px rgba(0, 0, 0, 0.15);\n",
              "      filter: drop-shadow(0px 1px 2px rgba(0, 0, 0, 0.3));\n",
              "      fill: #FFFFFF;\n",
              "    }\n",
              "  </style>\n",
              "\n",
              "      <script>\n",
              "        const buttonEl =\n",
              "          document.querySelector('#df-083f5a5c-5e54-4beb-8b65-c37ee8716aac button.colab-df-convert');\n",
              "        buttonEl.style.display =\n",
              "          google.colab.kernel.accessAllowed ? 'block' : 'none';\n",
              "\n",
              "        async function convertToInteractive(key) {\n",
              "          const element = document.querySelector('#df-083f5a5c-5e54-4beb-8b65-c37ee8716aac');\n",
              "          const dataTable =\n",
              "            await google.colab.kernel.invokeFunction('convertToInteractive',\n",
              "                                                     [key], {});\n",
              "          if (!dataTable) return;\n",
              "\n",
              "          const docLinkHtml = 'Like what you see? Visit the ' +\n",
              "            '<a target=\"_blank\" href=https://colab.research.google.com/notebooks/data_table.ipynb>data table notebook</a>'\n",
              "            + ' to learn more about interactive tables.';\n",
              "          element.innerHTML = '';\n",
              "          dataTable['output_type'] = 'display_data';\n",
              "          await google.colab.output.renderOutput(dataTable, element);\n",
              "          const docLink = document.createElement('div');\n",
              "          docLink.innerHTML = docLinkHtml;\n",
              "          element.appendChild(docLink);\n",
              "        }\n",
              "      </script>\n",
              "    </div>\n",
              "  </div>\n",
              "  "
            ]
          },
          "metadata": {},
          "execution_count": 70
        }
      ]
    },
    {
      "cell_type": "code",
      "source": [
        "#what is more children count of data set ?\n",
        "df['CHILDREN'].value_counts().sort_values(ascending=False).head(1)"
      ],
      "metadata": {
        "colab": {
          "base_uri": "https://localhost:8080/"
        },
        "id": "B-VWbEZIKq5g",
        "outputId": "606d2396-e863-46dc-d276-ee9ee9f3a60b"
      },
      "execution_count": 71,
      "outputs": [
        {
          "output_type": "execute_result",
          "data": {
            "text/plain": [
              "0    663\n",
              "Name: CHILDREN, dtype: int64"
            ]
          },
          "metadata": {},
          "execution_count": 71
        }
      ]
    },
    {
      "cell_type": "code",
      "source": [
        "df['CHILDREN'].value_counts().sort_values(ascending=False).head(100)"
      ],
      "metadata": {
        "colab": {
          "base_uri": "https://localhost:8080/"
        },
        "id": "BwHsj7f7Kxnj",
        "outputId": "b51599a4-f40e-4e8e-8feb-0774292328ae"
      },
      "execution_count": 72,
      "outputs": [
        {
          "output_type": "execute_result",
          "data": {
            "text/plain": [
              "0     663\n",
              "1     242\n",
              "2     107\n",
              "3      11\n",
              "4       1\n",
              "14      1\n",
              "Name: CHILDREN, dtype: int64"
            ]
          },
          "metadata": {},
          "execution_count": 72
        }
      ]
    },
    {
      "cell_type": "code",
      "source": [],
      "metadata": {
        "colab": {
          "base_uri": "https://localhost:8080/",
          "height": 285
        },
        "id": "6HK090HDK1RW",
        "outputId": "6ff45854-95c5-49d3-d195-de3413b87ad5"
      },
      "execution_count": 73,
      "outputs": [
        {
          "output_type": "display_data",
          "data": {
            "text/plain": [
              "<Figure size 432x288 with 1 Axes>"
            ],
            "image/png": "[encoded data removed]"
          },
          "metadata": {
            "needs_background": "light"
          }
        }
      ]
    },
    {
      "cell_type": "markdown",
      "source": [
        "**Here you have to make some assumptions based on the questions you want to address based on the DA track or ML track.**\n",
        "**If DA track please aim to identify patterns in the data and important features that may impact a ML model.**\n",
        "\n",
        "**Exploratory data analysis:**\n",
        " Start by exploring the data to gain an understanding of its structure, distributions, and relationships between variables. This can be done using summary statistics, visualizations, and correlation analysis.\n",
        "\n",
        "**Feature selection and engineering:** \n",
        "Identify the most relevant features that can impact a ML model's performance. This can involve removing redundant or irrelevant features, transforming features to improve their predictive power, or creating new features that capture important relationships between variables.\n",
        "\n",
        "**Data pre-processing: **\n",
        "Clean and pre-process the data to ensure that it is suitable for analysis. This may involve handling missing or outlier data, normalizing or standardizing features, or encoding categorical variables.\n",
        "\n",
        "**Statistical analysis:** \n",
        "Use statistical methods to identify patterns in the data and relationships between variables. This can include hypothesis testing, regression analysis, or cluster analysis.\n",
        "Machine learning modelling: Use the identified features and patterns to develop and train a ML model. The model should be selected based on the specific problem and data, and evaluated using appropriate metrics.\n",
        "Feature importance analysis: Once a model is trained, analyse the feature importance scores to identify the most impactful features. This can be used to refine the feature selection and engineering process, and improve the performance of the model.\n",
        "\n",
        "**If ML track please perform part ‘i’ as well as multiple machine learning models, perform all required steps to check if there is any assumption and justify your model. Why is your model better than any other possible model? **\n",
        "**Please justify it by relevant cost functions and if possible by any graph.**\n",
        "**The steps that can be taken in the ML track, including part (i) and multiple machine learning models:**\n",
        "\n",
        "**i. Data Pre-processing:**\n",
        "\n",
        "Load the data and split it into training and testing sets.\n",
        "Check for missing values, categorical variables, and outliers.\n",
        "Transform the data, if necessary, e.g., by scaling numerical variables or one-hot encoding categorical variables.\n",
        "\n",
        "**ii. Model Selection:**\n",
        "\n",
        "Define the problem and select the appropriate type of model. This can include classification, regression, clustering, or anomaly detection.\n",
        "Select several candidate models, such as logistic regression, decision trees, random forests, or support vector machines (SVM).\n",
        "Train the candidate models on the training set and evaluate their performance on the testing set using appropriate metrics, such as accuracy, precision, recall, or F1 score.\n",
        "\n",
        "**iii. Model Evaluation:**\n",
        "\n",
        "Compare the performance of the candidate models and select the best-performing model based on the chosen metric.\n",
        "Check the assumptions of the selected model, such as linearity, normality, or homoscedasticity.\n",
        "If the assumptions are not met, consider using a different type of model or applying data transformation techniques.\n",
        "\n",
        "**iv. Model Tuning:**\n",
        "\n",
        "If necessary, tune the hyperparameters of the selected model using techniques such as grid search, randomized search, or Bayesian optimization.\n",
        "Evaluate the performance of the tuned model on the testing set and compare it with the original model.\n",
        "\n",
        "**v. Model Interpretation:**\n",
        "\n",
        "Analyse the model's feature importance scores to identify the most influential features.\n",
        "Use visualization techniques such as scatter plots, heat maps, or decision trees to understand how the model is making predictions.\n",
        "To justify the selected model, we can use relevant cost functions and graphs. For example, in a classification problem, we can use a confusion matrix to calculate the cost of false positives and false negatives. We can also use ROC curves to compare the performance of different models based on the trade-off between true positive rate and false positive rate. Additionally, we can use feature importance graphs to justify the selection of the most impactful features and demonstrate how they contribute to the model's performance.\n",
        "The justification for why our model is better than any other possible model will depend on the specific problem and data. However, we can justify the selected model based on several factors, such as its simplicity, interpretability, and performance on the chosen metric. For example, if we are working with a small dataset, a simple model like logistic regression may be preferred over a complex model like a deep neural network. Similarly, if interpretability is important, we may prefer a decision tree model over a black-box model like SVM. Finally, we can compare the performance of the selected model with the performance of other candidate models on the chosen metric to justify our selection.\n",
        "\n",
        "\n",
        "**From step 1, you may see some relationship that you want to explore and will develop a belief about data**\n",
        "\n",
        "Yes, that's correct. In step 1 of the DA track, exploratory data analysis, we may observe some relationships or patterns in the data that lead us to develop a belief or hypothesis about the data. For example, if we are analysing a dataset of customer purchases and we observe that there is a strong positive correlation between the number of purchases and the total amount spent, we may hypothesize that customers who make more purchases are likely to spend more money.\n",
        "This hypothesis can then guide our further analysis and modelling. We may decide to focus on identifying the most important features that impact customer spending, or we may choose to develop a predictive model that can estimate a customer's total spending based on their purchase history.\n",
        "Of course, it's important to keep in mind that any beliefs or hypotheses we develop during the exploratory analysis stage are tentative and need to be tested and validated through further analysis and modelling. Additionally, we should be open to revising our beliefs or hypotheses as we gain more insight into the data.\n",
        "\n",
        "\n",
        "\n",
        "\n",
        "\n",
        "\n",
        "\n",
        "\n",
        "\n",
        "\n",
        "\n",
        "\n",
        "\n",
        "\n",
        "\n",
        "\n",
        "\n",
        "**Section 3: Data analysis approach**\n",
        "\n",
        "**What approach are you going to take in order to prove or disprove your hypothesis?**\n",
        "\n",
        "In the case of this credit card approval project, we could set up a hypothesis that certain features, such as income level or education level, are strong predictors of credit card approval. We could then use statistical tests to determine whether there is a significant relationship between these features and approval status. Alternatively, we could use machine learning models to make predictions and evaluate the performance of the models to determine if they support or contradict the hypothesis.\n",
        "What feature engineering techniques will be relevant to your project?\n",
        "Handling missing values: If there are missing values in the dataset, we can use techniques like imputation to fill in the missing values with reasonable estimates.\n",
        "\n",
        "**Feature scaling:** \n",
        "\n",
        "The features in the dataset may be measured on different scales. We can use techniques like standardization or normalization to scale the features to a common scale, which can help improve the performance of some machine learning algorithms.\n",
        "Feature transformation: We can transform some of the features to make them more useful for machine learning algorithms. For example, we can transform a categorical variable into multiple binary variables using one-hot encoding.\n",
        "Feature selection: We can select a subset of the most relevant features to use in the machine learning model. This can help reduce overfitting and improve the model's performance.\n",
        "\n",
        "**Feature extraction:**\n",
        "\n",
        " We can create new features from existing ones to capture additional information that may be relevant for the prediction task. For example, we can compute the debt-to-income ratio as a new feature, which may be useful in credit card approval prediction.\n",
        "Please justify your data analysis approach.\n",
        "A data analysis approach is an essential step in any data-driven project, including credit card approval prediction. It is the foundation on which all subsequent analysis and modelling is built.\n",
        "For this project, we can begin by performing exploratory data analysis (EDA) to understand the data's underlying patterns, distribution, and relationships. We can use visualizations and statistical measures such as histograms, box plots, and correlation matrices to identify variables that are most likely to be useful in predicting credit card approval.\n",
        "After EDA, we can proceed to feature engineering, which involves creating new variables that are more relevant to the problem we are trying to solve. This could include combining or transforming existing variables, such as creating a debt-to-income ratio or a credit utilization rate. We can also perform feature selection to identify the most relevant variables for our modelling.\n",
        "Once we have our feature set, we can use machine learning algorithms to train models that can predict credit card approval. We can use metrics such as accuracy, precision, recall, and F1-score to evaluate our models and compare their performance. We can also perform hyperparameter tuning to optimize the model's performance.\n",
        "In summary, our data analysis approach for credit card approval prediction would involve EDA, feature engineering, feature selection, machine learning model training, evaluation, and optimization.\n",
        "\n",
        "\n",
        "**Please justify your data analysis approach. Identify important patterns in your data using the EDA approach to justify your findings.**\n",
        "\n",
        "In this project, the data analysis approach involves performing exploratory data analysis (EDA) to identify important patterns in the data and gain a better understanding of the relationships between the features and the target variable, which is credit card approval status.\n",
        "The EDA process involves several steps, including:\n",
        "Data cleaning and preparation: In this step, we remove any missing or duplicate values and handle any outliers or errors in the data. We also encode categorical variables and standardize numerical variables as needed.\n",
        "Univariate analysis: In this step, we analyze each feature individually to understand its distribution and identify any outliers or unusual values. We also look at summary statistics such as mean, median, and standard deviation.\n",
        "Bivariate analysis: In this step, we analyze the relationship between each feature and the target variable to identify any patterns or trends. We use various visualization techniques such as scatter plots, histograms, and box plots to explore these relationships.\n",
        "Multivariate analysis: In this step, we analyze the relationship between multiple features and the target variable to identify any complex patterns or interactions. We use techniques such as correlation analysis, heatmap, and pair plot to visualize these relationships.\n",
        "Based on our EDA approach, we can identify important patterns and relationships in the data, such as the correlation between annual income and credit card approval, the impact of education level on credit card approval, and the influence of gender and marital status on creditworthiness.\n",
        "By performing this thorough analysis, we can gain a better understanding of the data and make informed decisions about feature selection and model building to improve the accuracy and effectiveness of our credit card approval prediction model.\n",
        "\n",
        "\n",
        "\n",
        "\n",
        "\n",
        "\n",
        "**Section 4: Machine learning approach**\n",
        "\n",
        "**What method will you use for machine learning based predictions for credit card approval.?**\n",
        "\n",
        "The choice of machine learning method for credit card approval prediction will depend on the specific requirements and characteristics of the project. However, here are some common machine learning methods that can be used for this type of prediction:\n",
        "\n",
        "**Logistic Regression:**\n",
        "\n",
        "Logistic regression is a popular machine learning method used for binary classification problems, such as credit card approval prediction. It models the relationship between the input variables and the probability of the binary outcome, such as whether a credit card application will be approved or not.\n",
        "\n",
        "**Decision Trees:**\n",
        "\n",
        "Decision trees are a type of machine learning method that can be used for both classification and regression problems. They recursively partition the input space into subsets, based on the values of the input variables, and assign a label to each subset. Decision trees are often used for credit risk analysis, as they can easily incorporate categorical variables and nonlinear relationships between variables.\n",
        "\n",
        "\n",
        "**Random Forest:**\n",
        "\n",
        "Random forests are an ensemble method that combines multiple decision trees to improve the accuracy and robustness of the prediction. Random forests can handle a large number of input variables and can capture complex nonlinear relationships between variables.\n",
        "\n",
        "**Support Vector Machines (SVM):**\n",
        "\n",
        "SVMs are a machine learning method used for both classification and regression problems. They model the input space as a set of hyperplanes and find the hyperplane that best separates the two classes. SVMs can handle high-dimensional data and nonlinear relationships between variables.\n",
        "Overall, the choice of machine learning method will depend on the specific requirements of the project, such as the size and complexity of the data, the performance requirements, and the interpretability of the model. It's important to carefully evaluate and compare different machine learning methods to choose the one that best meets the requirements of the project.\n",
        "\n",
        "**Please justify the most appropriate model.**\n",
        "\n",
        "Logistic regression is a commonly used and effective method for binary classification problems. It is a statistical model that uses a logistic function to model a binary dependent variable, in this case, the credit card application status. It can handle both numerical and categorical features and is interpretable, making it easy to explain the decision-making process.\n",
        "Additionally, decision tree and random forest models could also be suitable for this problem. Decision trees are a simple and interpretable way of modelling classification problems, and they can handle both numerical and categorical data. Random forests are an extension of decision trees and can improve the accuracy and robustness of the model by aggregating multiple decision trees.\n",
        "Ultimately, the most appropriate model will depend on the specific characteristics of the dataset and the performance of the models on the validation data. A model with good performance on the validation data and good interpretability would be the most appropriate choice.\n",
        "\n",
        "**Please perform necessary steps required to improve the accuracy of your model.**\n",
        "\n",
        "To improve the accuracy of the model, we can perform several steps, such as:\n",
        "Feature Engineering: Feature engineering is the process of creating new features from existing features that may help in improving the model's performance. We can try various techniques such as one-hot encoding, label encoding, feature scaling, etc., to pre-process the data and create new features that can help in predicting the credit card approval.\n",
        "\n",
        "**Hyperparameter Tuning:**\n",
        "\n",
        "Hyperparameters are the parameters that are set before the training process begins, and they control the behaviour of the model during training. We can use techniques such as Grid Search, Random Search, and Bayesian Optimization to find the optimal hyperparameters for the model.\n",
        "\n",
        "**Model Selection:** \n",
        "\n",
        "We can try different models such as Logistic Regression, Decision Tree, Random Forest, Gradient Boosting, etc., and select the model that performs the best on the validation set.\n",
        "\n",
        "**Ensemble Learning:**\n",
        "\n",
        "Ensemble learning is the process of combining multiple models to create a more accurate model. We can use techniques such as Bagging, Boosting, and Stacking to create an ensemble of models that can improve the overall performance of the model.\n",
        "\n",
        "**Regularization:**\n",
        "\n",
        "\n",
        "Regularization is the process of adding a penalty term to the loss function to prevent overfitting. We can use techniques such as L1, L2, and Elastic Net regularization to prevent overfitting and improve the model's performance.\n",
        "By performing these steps, we can improve the accuracy of the machine learning model for predicting credit card approvals.\n",
        "\n",
        "\n",
        "\n",
        "\n",
        "**Please compare all models (at least 4 models).**\n",
        "**Here is a comparison of four different machine learning models for credit card approval prediction:**\n",
        "\n",
        "\n",
        "**Logistic Regression:**\n",
        "\n",
        "\n",
        "Logistic Regression is a simple and interpretable model that works well with smaller datasets. It's a linear model that uses a sigmoid function to map the output to a probability value. Logistic Regression can provide insights into the factors that are driving the credit card approval decision. However, it may not capture complex relationships between the input variables and the target variable, and it may be less accurate than more complex models.\n",
        "\n",
        "**Decision Trees:**\n",
        "\n",
        "Decision Trees are a non-parametric model that can handle larger and more complex datasets. They are easy to interpret and can provide insights into the decision-making process. However, Decision Trees can be prone to overfitting, and they may not perform well on datasets with high dimensionality or noisy data.\n",
        "\n",
        "**Random Forest:**\n",
        "\n",
        "\n",
        "Random Forest is an ensemble method that combines multiple decision trees to improve the accuracy and robustness of the prediction. It can handle high-dimensional datasets and noisy data, and it can provide good generalization performance. However, Random Forest may be less interpretable than single Decision Trees, and it may require more computational resources to train and evaluate.\n",
        "\n",
        "**XGBoost:**\n",
        "\n",
        "XGBoost is a gradient boosting algorithm that uses decision trees as weak learners. It's a popular model for tabular data and can handle large datasets with high-dimensional features. XGBoost can provide excellent predictive power and can handle complex relationships between the input variables and the target variable. However, it may be less interpretable than simpler models, and it may require more computational resources to train and evaluate.\n",
        "Overall, the choice of the best model depends on the specific requirements of the project. Logistic Regression and Decision Trees are simpler and more interpretable models that can provide insights into the decision-making process. Random Forest and XGBoost are more complex models that can provide higher accuracy and better generalization performance. It's important to carefully evaluate and compare different models to choose the one that best meets the requirements of the project.\n",
        "tilize machine learning approaches to predict credit card approval based on customer information.\n"
      ],
      "metadata": {
        "id": "gjzAQm8bai5t"
      }
    }
  ]
}