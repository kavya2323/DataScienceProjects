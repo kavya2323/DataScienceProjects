{
  "nbformat": 4,
  "nbformat_minor": 0,
  "metadata": {
    "colab": {
      "provenance": []
    },
    "kernelspec": {
      "name": "python3",
      "display_name": "Python 3"
    },
    "language_info": {
      "name": "python"
    }
  },
  "cells": [
    {
      "cell_type": "code",
      "execution_count": 2,
      "metadata": {
        "colab": {
          "base_uri": "https://localhost:8080/"
        },
        "id": "FlopOYVWb_rf",
        "outputId": "9de1549e-fa3f-4a49-9c70-f3de9733636d"
      },
      "outputs": [
        {
          "output_type": "stream",
          "name": "stdout",
          "text": [
            "Mahesh\n",
            "Ali\n",
            "Jacob\n",
            "Saritha\n"
          ]
        }
      ],
      "source": [
        "List1 = [ 'Ramesh', 'Suresh', 'Mahesh', 'Ali' , 'Jacob' , 'Saritha' ]\n",
        "List2= [ 'Ali', 'Mukesh', 'Mahesh', 'Jacob' , 'Sai' , 'Saritha']\n",
        "\n",
        "for lst1Item in List1:\n",
        "  for lst2Item in List2:\n",
        "    if lst2Item == lst1Item:\n",
        "      print(lst2Item);"
      ]
    },
    {
      "cell_type": "code",
      "source": [
        "string1='Ramesh Suresh Mohith'\n",
        "personNames = string1.split()  #list1\n",
        "Ages = [25,22,26]  #list2\n",
        " \n",
        "for (a, b) in zip(personNames, Ages):\n",
        "     print ( a,':',b)"
      ],
      "metadata": {
        "colab": {
          "base_uri": "https://localhost:8080/"
        },
        "id": "38Ld2P1ccfbG",
        "outputId": "1270b479-dab5-432f-c10d-7d0096ebcade"
      },
      "execution_count": 3,
      "outputs": [
        {
          "output_type": "stream",
          "name": "stdout",
          "text": [
            "Ramesh : 25\n",
            "Suresh : 22\n",
            "Mohith : 26\n"
          ]
        }
      ]
    },
    {
      "cell_type": "code",
      "source": [
        "Name = 'Sam', 'Jacy', 'Tom','Steve'\n",
        "Python = 25,26,29,28\n",
        "Statistics = 23,21,19,25\n",
        "SQL = 29,27,28,25\n",
        "\n",
        "var = 0\n",
        "for num in Python:\n",
        "  var = var + num   \n",
        "print('PythonMean:', var/len(Python))\n",
        "var = 0\n",
        "for num in Statistics:\n",
        "  var = var + num   \n",
        "print('StatisticsMean:', var/len(Statistics))\n",
        "var = 0\n",
        "for num in SQL:\n",
        "  var = var + num   \n",
        "print('SQLMean:', var/len(SQL))\n",
        "#maxMean = max( var/len(Python) ,var/len(Statistics) , var/len(SQL) )\n",
        "print('Highiest mean is:' ,  max( var/len(Python) ,var/len(Statistics) , var/len(SQL) ))\n",
        "\n",
        "maxMarksinPython = max(Python)\n",
        "\n",
        "for i in range(len(Python)):\n",
        "  marks = Python[i]\n",
        "  if marks == maxMarksinPython:\n",
        "    name  = Name[i]\n",
        "    print('Highest marks in python is', name, marks)"
      ],
      "metadata": {
        "colab": {
          "base_uri": "https://localhost:8080/"
        },
        "id": "yQQrzs0ockDG",
        "outputId": "67d2b623-935d-4c70-fdf2-64ab268c42e7"
      },
      "execution_count": 4,
      "outputs": [
        {
          "output_type": "stream",
          "name": "stdout",
          "text": [
            "PythonMean: 27.0\n",
            "StatisticsMean: 22.0\n",
            "SQLMean: 27.25\n",
            "Highiest mean is: 27.25\n",
            "Highest marks in python is Tom 29\n"
          ]
        }
      ]
    },
    {
      "cell_type": "code",
      "source": [
        "paracetamolStrips =2\n",
        "azithromycinStrips = 3\n",
        "VitminCStrips =5\n",
        "paracetamolcost =35\n",
        "azithromycinCost =49\n",
        "VitiminCCost =33\n",
        "PatientTotalMoney = 2000\n",
        "\n",
        "print('TotalCostOfParacetamol :' , paracetamolStrips *paracetamolcost)\n",
        "print('ToalCostOfAzithromycin :', azithromycinStrips *  azithromycinCost)\n",
        "print('TotalCostOfVitaminC :', VitminCStrips * VitiminCCost)\n",
        "TotalMedicineCost = paracetamolStrips *paracetamolcost + azithromycinStrips *  azithromycinCost +VitminCStrips * VitiminCCost;\n",
        "print('TotalMedicineCost :', TotalMedicineCost)\n",
        "print('PatientTotalMoney:', PatientTotalMoney)\n",
        "print('RefundedAmountTothePatientis:' ,PatientTotalMoney -TotalMedicineCost)"
      ],
      "metadata": {
        "colab": {
          "base_uri": "https://localhost:8080/"
        },
        "id": "3plHoc8idDJE",
        "outputId": "935b65aa-deec-46cb-d4a0-2cac28bf8df5"
      },
      "execution_count": 5,
      "outputs": [
        {
          "output_type": "stream",
          "name": "stdout",
          "text": [
            "TotalCostOfParacetamol : 70\n",
            "ToalCostOfAzithromycin : 147\n",
            "TotalCostOfVitaminC : 165\n",
            "TotalMedicineCost : 382\n",
            "PatientTotalMoney: 2000\n",
            "RefundedAmountTothePatientis: 1618\n"
          ]
        }
      ]
    },
    {
      "cell_type": "code",
      "source": [
        "Inputstring = input(\"Enter any string: \")\n",
        "VowelsCount=0\n",
        "for i in Inputstring.lower():\n",
        "      if(i=='a' or i=='e' or i=='i' or i=='o'):\n",
        "            VowelsCount=VowelsCount+1\n",
        "\n",
        "print(\"Number of vowels are:\" ,VowelsCount)"
      ],
      "metadata": {
        "colab": {
          "base_uri": "https://localhost:8080/"
        },
        "id": "oSe0q4mFdJEm",
        "outputId": "247d7412-cde9-46dc-b01b-db729644c6eb"
      },
      "execution_count": 7,
      "outputs": [
        {
          "output_type": "stream",
          "name": "stdout",
          "text": [
            "Enter any string: I am learning python\n",
            "Number of vowels are: 6\n"
          ]
        }
      ]
    },
    {
      "cell_type": "code",
      "source": [
        "Inputstring = int(input(\"Please enter your Age: \"))\n",
        "EligibiltyAge =18\n",
        "if Inputstring>0 and Inputstring < 110:\n",
        " if Inputstring >= EligibiltyAge :\n",
        "   print('Congrats! You are eligiable')\n",
        " else:\n",
        "    diff = EligibiltyAge-Inputstring\n",
        "    print('return after', diff , 'years')\n",
        "else:\n",
        "  print('Please enter valid Date.Entered age should be grater than 0 and lessthan 110')"
      ],
      "metadata": {
        "colab": {
          "base_uri": "https://localhost:8080/"
        },
        "id": "fEShR0wmdQnm",
        "outputId": "e8e1b1b3-260c-4f7a-e0e2-fb9e6785f832"
      },
      "execution_count": 8,
      "outputs": [
        {
          "output_type": "stream",
          "name": "stdout",
          "text": [
            "Please enter your Age: 10\n",
            "return after 8 years\n"
          ]
        }
      ]
    }
  ]
}